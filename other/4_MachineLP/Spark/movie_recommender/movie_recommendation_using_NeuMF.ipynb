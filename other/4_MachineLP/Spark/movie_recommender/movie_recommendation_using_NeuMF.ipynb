{
 "cells": [
  {
   "cell_type": "markdown",
   "metadata": {},
   "source": [
    "# Overview\n",
    "\n",
    "In this project, I will use Neural Network Matrix Factorization with Keras to predict the ratings for the movies in [MovieLens Small Datasets](https://grouplens.org/datasets/movielens/latest/)\n",
    "\n",
    "\n",
    "## [Recommender system](https://en.wikipedia.org/wiki/Recommender_system)\n",
    "A recommendation system is basically an information filtering system that seeks to predict the \"rating\" or \"preference\" a user would give to an item. It is widely used in different internet / online business such as Amazon, Netflix, Spotify, or social media like Facebook and Youtube. By using recommender systems, those companies are able to provide better or more suited products/services/contents that are personalized to a user based on his/her historical consumer behaviors\n",
    "\n",
    "\n",
    "## [Neural Collaborative Filtering](https://dl.acm.org/citation.cfm?id=3052569)\n",
    "This notebook will present a general framework named NCF, short for Neural network-based Collaborative Filtering. NCF is generic and can express and generalize matrix factorization under its framework. To supercharge NCF modelling with non-linearities, I will leverage a multi-layer perceptron to learn the user-item interaction function. Extensive experiments on real-world datasets show significant improvements of our proposed NCF framework over the state-of-the-art methods. Empirical evidence shows that using deeper layers of neural networks offers better recommendation performance.\n",
    "\n",
    "\n",
    "## Data Sets\n",
    "We use [MovieLens Small Datasets](https://grouplens.org/datasets/movielens/latest/)\n",
    "This dataset (ml-latest-small) describes 5-star rating and free-text tagging activity from [MovieLens](http://movielens.org), a movie recommendation service. It contains 100004 ratings and 1296 tag applications across 9125 movies. These data were created by 671 users between January 09, 1995 and October 16, 2016. This dataset was generated on October 17, 2016.\n",
    "\n",
    "Users were selected at random for inclusion. All selected users had rated at least 20 movies. No demographic information is included. Each user is represented by an id, and no other information is provided.\n",
    "\n",
    "The data are contained in the files `links.csv`, `movies.csv`, `ratings.csv` and `tags.csv`\n",
    "\n",
    "\n",
    "## Project Content\n",
    "1. Load Data\n",
    "2. Split Data Into Train/Test\n",
    "3. Train Generalized Matrix Factorization Model and Test Model\n",
    "4. Train Multi-Layer Perceptron Model and Test Model\n",
    "5. Train Neural Matrix Factorization Model (NeuMF) and Test Model\n",
    "6. Experiment Observations\n",
    "7. Conclusion and Thoughts\n",
    "\n",
    "NOTE: Train Neural Matrix Factorization Model (NeuMF) is a stacking version of Generalized Matrix Factorization Model and Multi-Layer Perceptron Model"
   ]
  },
  {
   "cell_type": "code",
   "execution_count": 2,
   "metadata": {},
   "outputs": [],
   "source": [
    "import os\n",
    "\n",
    "# data science imports\n",
    "import numpy as np\n",
    "import pandas as pd\n",
    "\n",
    "# sklearn imports\n",
    "from sklearn.model_selection import train_test_split\n",
    "\n",
    "# keras/tensorflow imports\n",
    "from tensorflow.keras.layers import Input, Embedding, Flatten, Dense, Multiply, Concatenate\n",
    "from tensorflow.keras.regularizers import l2\n",
    "from tensorflow.keras.models import Model\n",
    "# from tensorflow.keras.optimizers import Adagrad, Adam, SGD, RMSprop\n",
    "from tensorflow.keras.callbacks import EarlyStopping, ModelCheckpoint\n",
    "import tensorflow.keras.backend as K\n",
    "from tensorflow.keras.models import load_model\n",
    "\n",
    "# visualization imports\n",
    "import matplotlib.pyplot as plt\n",
    "%matplotlib inline"
   ]
  },
  {
   "cell_type": "code",
   "execution_count": 3,
   "metadata": {},
   "outputs": [],
   "source": [
    "# path config\n",
    "data_path = os.path.join(os.environ['DATA_PATH'], 'movie')\n",
    "ratings_filename = 'ratings.csv'"
   ]
  },
  {
   "cell_type": "markdown",
   "metadata": {},
   "source": [
    "## 1. Load Data"
   ]
  },
  {
   "cell_type": "code",
   "execution_count": 4,
   "metadata": {},
   "outputs": [],
   "source": [
    "df_ratings = pd.read_csv(\n",
    "    os.path.join(data_path, ratings_filename),\n",
    "    usecols=['userId', 'movieId', 'rating'],\n",
    "    dtype={'userId': 'int32', 'movieId': 'int32', 'rating': 'float32'})"
   ]
  },
  {
   "cell_type": "code",
   "execution_count": 5,
   "metadata": {},
   "outputs": [
    {
     "name": "stdout",
     "output_type": "stream",
     "text": [
      "<class 'pandas.core.frame.DataFrame'>\n",
      "RangeIndex: 100004 entries, 0 to 100003\n",
      "Data columns (total 3 columns):\n",
      "userId     100004 non-null int32\n",
      "movieId    100004 non-null int32\n",
      "rating     100004 non-null float32\n",
      "dtypes: float32(1), int32(2)\n",
      "memory usage: 1.1 MB\n"
     ]
    }
   ],
   "source": [
    "df_ratings.info()"
   ]
  },
  {
   "cell_type": "code",
   "execution_count": 6,
   "metadata": {},
   "outputs": [
    {
     "data": {
      "text/html": [
       "<div>\n",
       "<style scoped>\n",
       "    .dataframe tbody tr th:only-of-type {\n",
       "        vertical-align: middle;\n",
       "    }\n",
       "\n",
       "    .dataframe tbody tr th {\n",
       "        vertical-align: top;\n",
       "    }\n",
       "\n",
       "    .dataframe thead th {\n",
       "        text-align: right;\n",
       "    }\n",
       "</style>\n",
       "<table border=\"1\" class=\"dataframe\">\n",
       "  <thead>\n",
       "    <tr style=\"text-align: right;\">\n",
       "      <th></th>\n",
       "      <th>userId</th>\n",
       "      <th>movieId</th>\n",
       "      <th>rating</th>\n",
       "    </tr>\n",
       "  </thead>\n",
       "  <tbody>\n",
       "    <tr>\n",
       "      <th>0</th>\n",
       "      <td>1</td>\n",
       "      <td>31</td>\n",
       "      <td>2.5</td>\n",
       "    </tr>\n",
       "    <tr>\n",
       "      <th>1</th>\n",
       "      <td>1</td>\n",
       "      <td>1029</td>\n",
       "      <td>3.0</td>\n",
       "    </tr>\n",
       "    <tr>\n",
       "      <th>2</th>\n",
       "      <td>1</td>\n",
       "      <td>1061</td>\n",
       "      <td>3.0</td>\n",
       "    </tr>\n",
       "    <tr>\n",
       "      <th>3</th>\n",
       "      <td>1</td>\n",
       "      <td>1129</td>\n",
       "      <td>2.0</td>\n",
       "    </tr>\n",
       "    <tr>\n",
       "      <th>4</th>\n",
       "      <td>1</td>\n",
       "      <td>1172</td>\n",
       "      <td>4.0</td>\n",
       "    </tr>\n",
       "  </tbody>\n",
       "</table>\n",
       "</div>"
      ],
      "text/plain": [
       "   userId  movieId  rating\n",
       "0       1       31     2.5\n",
       "1       1     1029     3.0\n",
       "2       1     1061     3.0\n",
       "3       1     1129     2.0\n",
       "4       1     1172     4.0"
      ]
     },
     "execution_count": 6,
     "metadata": {},
     "output_type": "execute_result"
    }
   ],
   "source": [
    "df_ratings.head()"
   ]
  },
  {
   "cell_type": "code",
   "execution_count": 7,
   "metadata": {},
   "outputs": [
    {
     "name": "stdout",
     "output_type": "stream",
     "text": [
      "There are 671 unique users and 9066 unique movies in this data set\n"
     ]
    }
   ],
   "source": [
    "num_users = len(df_ratings.userId.unique())\n",
    "num_items = len(df_ratings.movieId.unique())\n",
    "print('There are {} unique users and {} unique movies in this data set'.format(num_users, num_items))"
   ]
  },
  {
   "cell_type": "code",
   "execution_count": 8,
   "metadata": {},
   "outputs": [
    {
     "name": "stdout",
     "output_type": "stream",
     "text": [
      "There are 671 distinct users and the max of user ID is also 671\n",
      "There are 9066 distinct movies, however, the max of movie ID is 163949\n",
      "In the context of matrix factorization, the current item vector is in unnecessarily high dimensional space\n",
      "So we need to do some data cleaning to reduce the dimension of item vector back to 9066\n"
     ]
    }
   ],
   "source": [
    "user_maxId = df_ratings.userId.max()\n",
    "item_maxId = df_ratings.movieId.max()\n",
    "print('There are {} distinct users and the max of user ID is also {}'.format(num_users, user_maxId))\n",
    "print('There are {} distinct movies, however, the max of movie ID is {}'.format(num_items, item_maxId))\n",
    "print('In the context of matrix factorization, the current item vector is in unnecessarily high dimensional space')\n",
    "print('So we need to do some data cleaning to reduce the dimension of item vector back to {}'.format(num_items))"
   ]
  },
  {
   "cell_type": "code",
   "execution_count": 9,
   "metadata": {},
   "outputs": [],
   "source": [
    "def reduce_item_dim(df_ratings):\n",
    "    \"\"\"\n",
    "    Reduce item vector dimension to the number of distinct items in our data sets\n",
    "    \n",
    "    input: pd.DataFrame, df_ratings should have columns ['userId', 'movieId', 'rating']\n",
    "    output: pd.DataFrame, df_ratings with new 'MovieID' that is compressed\n",
    "    \"\"\"\n",
    "    # pivot\n",
    "    df_user_item = df_ratings.pivot(index='userId', columns='movieId', values='rating')\n",
    "    # reset movieId\n",
    "    df_user_item = df_user_item.T.reset_index(drop=True).T\n",
    "    # undo pivot/melt - compress data frame\n",
    "    df_ratings_new = df_user_item \\\n",
    "        .reset_index('userId') \\\n",
    "        .melt(\n",
    "            id_vars='userId', \n",
    "            value_vars=df_user_item.columns,\n",
    "            var_name='movieId',\n",
    "            value_name='rating')\n",
    "    # drop nan and final clean up\n",
    "    return df_ratings_new.dropna().sort_values(['userId', 'movieId']).reset_index(drop=True)"
   ]
  },
  {
   "cell_type": "code",
   "execution_count": 10,
   "metadata": {},
   "outputs": [
    {
     "name": "stdout",
     "output_type": "stream",
     "text": [
      "reduce item dimension before:\n"
     ]
    },
    {
     "data": {
      "text/html": [
       "<div>\n",
       "<style scoped>\n",
       "    .dataframe tbody tr th:only-of-type {\n",
       "        vertical-align: middle;\n",
       "    }\n",
       "\n",
       "    .dataframe tbody tr th {\n",
       "        vertical-align: top;\n",
       "    }\n",
       "\n",
       "    .dataframe thead th {\n",
       "        text-align: right;\n",
       "    }\n",
       "</style>\n",
       "<table border=\"1\" class=\"dataframe\">\n",
       "  <thead>\n",
       "    <tr style=\"text-align: right;\">\n",
       "      <th></th>\n",
       "      <th>userId</th>\n",
       "      <th>movieId</th>\n",
       "      <th>rating</th>\n",
       "    </tr>\n",
       "  </thead>\n",
       "  <tbody>\n",
       "    <tr>\n",
       "      <th>0</th>\n",
       "      <td>1</td>\n",
       "      <td>31</td>\n",
       "      <td>2.5</td>\n",
       "    </tr>\n",
       "    <tr>\n",
       "      <th>1</th>\n",
       "      <td>1</td>\n",
       "      <td>1029</td>\n",
       "      <td>3.0</td>\n",
       "    </tr>\n",
       "    <tr>\n",
       "      <th>2</th>\n",
       "      <td>1</td>\n",
       "      <td>1061</td>\n",
       "      <td>3.0</td>\n",
       "    </tr>\n",
       "    <tr>\n",
       "      <th>3</th>\n",
       "      <td>1</td>\n",
       "      <td>1129</td>\n",
       "      <td>2.0</td>\n",
       "    </tr>\n",
       "    <tr>\n",
       "      <th>4</th>\n",
       "      <td>1</td>\n",
       "      <td>1172</td>\n",
       "      <td>4.0</td>\n",
       "    </tr>\n",
       "  </tbody>\n",
       "</table>\n",
       "</div>"
      ],
      "text/plain": [
       "   userId  movieId  rating\n",
       "0       1       31     2.5\n",
       "1       1     1029     3.0\n",
       "2       1     1061     3.0\n",
       "3       1     1129     2.0\n",
       "4       1     1172     4.0"
      ]
     },
     "execution_count": 10,
     "metadata": {},
     "output_type": "execute_result"
    }
   ],
   "source": [
    "print('reduce item dimension before:')\n",
    "df_ratings.head()"
   ]
  },
  {
   "cell_type": "code",
   "execution_count": 11,
   "metadata": {},
   "outputs": [
    {
     "name": "stdout",
     "output_type": "stream",
     "text": [
      "reduce item dimension after:\n"
     ]
    },
    {
     "data": {
      "text/html": [
       "<div>\n",
       "<style scoped>\n",
       "    .dataframe tbody tr th:only-of-type {\n",
       "        vertical-align: middle;\n",
       "    }\n",
       "\n",
       "    .dataframe tbody tr th {\n",
       "        vertical-align: top;\n",
       "    }\n",
       "\n",
       "    .dataframe thead th {\n",
       "        text-align: right;\n",
       "    }\n",
       "</style>\n",
       "<table border=\"1\" class=\"dataframe\">\n",
       "  <thead>\n",
       "    <tr style=\"text-align: right;\">\n",
       "      <th></th>\n",
       "      <th>userId</th>\n",
       "      <th>movieId</th>\n",
       "      <th>rating</th>\n",
       "    </tr>\n",
       "  </thead>\n",
       "  <tbody>\n",
       "    <tr>\n",
       "      <th>0</th>\n",
       "      <td>1</td>\n",
       "      <td>30</td>\n",
       "      <td>2.5</td>\n",
       "    </tr>\n",
       "    <tr>\n",
       "      <th>1</th>\n",
       "      <td>1</td>\n",
       "      <td>833</td>\n",
       "      <td>3.0</td>\n",
       "    </tr>\n",
       "    <tr>\n",
       "      <th>2</th>\n",
       "      <td>1</td>\n",
       "      <td>859</td>\n",
       "      <td>3.0</td>\n",
       "    </tr>\n",
       "    <tr>\n",
       "      <th>3</th>\n",
       "      <td>1</td>\n",
       "      <td>906</td>\n",
       "      <td>2.0</td>\n",
       "    </tr>\n",
       "    <tr>\n",
       "      <th>4</th>\n",
       "      <td>1</td>\n",
       "      <td>931</td>\n",
       "      <td>4.0</td>\n",
       "    </tr>\n",
       "  </tbody>\n",
       "</table>\n",
       "</div>"
      ],
      "text/plain": [
       "   userId movieId  rating\n",
       "0       1      30     2.5\n",
       "1       1     833     3.0\n",
       "2       1     859     3.0\n",
       "3       1     906     2.0\n",
       "4       1     931     4.0"
      ]
     },
     "execution_count": 11,
     "metadata": {},
     "output_type": "execute_result"
    }
   ],
   "source": [
    "df_ratings = reduce_item_dim(df_ratings)\n",
    "print('reduce item dimension after:')\n",
    "df_ratings.head()"
   ]
  },
  {
   "cell_type": "markdown",
   "metadata": {},
   "source": [
    "## 2. Split Data Into Train/Test"
   ]
  },
  {
   "cell_type": "code",
   "execution_count": 12,
   "metadata": {},
   "outputs": [
    {
     "name": "stdout",
     "output_type": "stream",
     "text": [
      "shape of training data set:\n",
      "(80003, 3)\n",
      "shape of test data set:\n",
      "(20001, 3)\n"
     ]
    }
   ],
   "source": [
    "df_train, df_test = train_test_split(df_ratings, test_size=0.2, shuffle=True, random_state=99)\n",
    "print('shape of training data set:')\n",
    "print(df_train.shape)\n",
    "print('shape of test data set:')\n",
    "print(df_test.shape)"
   ]
  },
  {
   "cell_type": "markdown",
   "metadata": {},
   "source": [
    "## 3. Train Generalized Matrix Factorization and Test Model"
   ]
  },
  {
   "cell_type": "markdown",
   "metadata": {},
   "source": [
    "### define GMF model architeture and train routine"
   ]
  },
  {
   "cell_type": "code",
   "execution_count": 13,
   "metadata": {},
   "outputs": [],
   "source": [
    "def get_GMF_model(num_users, num_items, latent_dim, vu_reg, vi_reg):\n",
    "    \"\"\"\n",
    "    Build Generalized Matrix Factorization Model Topology\n",
    "    \n",
    "    Parameters\n",
    "    ----------\n",
    "    num_users: int, total number of users\n",
    "    num_iterms: int, total number of items\n",
    "    latent_dim: int, embedded dimension for user vector and item vector\n",
    "    vu_reg: float, L2 regularization of user embedded layer\n",
    "    vi_reg: float, L2 regularization of item embedded layer\n",
    "\n",
    "    Return\n",
    "    ------\n",
    "    A Keras Model with GMF model architeture\n",
    "    \"\"\"\n",
    "    # Input variables\n",
    "    user_input = Input(shape=(1,), dtype='int32', name='user_input')\n",
    "    item_input = Input(shape=(1,), dtype='int32', name='item_input')\n",
    "\n",
    "    MF_Embedding_User = Embedding(\n",
    "        input_dim=num_users + 1,\n",
    "        output_dim=latent_dim,\n",
    "        embeddings_initializer='uniform',\n",
    "        name='user_embedding',\n",
    "        embeddings_regularizer=l2(vu_reg),\n",
    "        input_length=1)\n",
    "    MF_Embedding_Item = Embedding(\n",
    "        input_dim=num_items + 1,\n",
    "        output_dim=latent_dim,\n",
    "        embeddings_initializer='uniform',\n",
    "        name='item_embedding',\n",
    "        embeddings_regularizer=l2(vi_reg),\n",
    "        input_length=1) \n",
    "    \n",
    "    # Crucial to flatten an embedding vector!\n",
    "    user_latent = Flatten()(MF_Embedding_User(user_input))\n",
    "    item_latent = Flatten()(MF_Embedding_Item(item_input))\n",
    "\n",
    "    # Element-wise product of user and item embeddings \n",
    "    predict_vector = Multiply()([user_latent, item_latent])\n",
    "    \n",
    "    # Final prediction layer\n",
    "    prediction = Dense(1, kernel_initializer='glorot_uniform', name='prediction')(predict_vector)\n",
    "    \n",
    "    # Stitch input and output\n",
    "    model = Model([user_input, item_input], prediction)\n",
    "    \n",
    "    return model\n",
    "\n",
    "\n",
    "def train_model(model, learner, batch_size, epochs, val_split, inputs, outputs):\n",
    "    \"\"\"\n",
    "    define training routine, train models and save best model\n",
    "    \n",
    "    Parameters\n",
    "    ----------\n",
    "    model: a Keras model\n",
    "    learner: str, one of ['sgd', 'adam', 'rmsprop', 'adagrad']\n",
    "    batch_size: num samples per update\n",
    "    epochs: num iterations\n",
    "    val_split: split ratio for validation data\n",
    "    inputs: inputs data\n",
    "    outputs: outputs data\n",
    "    \"\"\"\n",
    "    # add customized metric\n",
    "    def rmse(y_true, y_pred):\n",
    "        return K.sqrt(K.mean(K.square(y_true - y_pred)))\n",
    "    \n",
    "    # compile model\n",
    "    model.compile(optimizer=learner.lower(), loss='mean_squared_error', metrics=['mean_squared_error', rmse])\n",
    "    \n",
    "    # add call backs\n",
    "    early_stopper = EarlyStopping(monitor='val_rmse', patience=10, verbose=1)\n",
    "    model_saver = ModelCheckpoint(filepath=os.path.join(data_path, 'tmp/model.hdf5'),\n",
    "                                  monitor='val_rmse',\n",
    "                                  save_best_only=True,\n",
    "                                  save_weights_only=True)\n",
    "    # train model\n",
    "    history = model.fit(inputs, outputs,\n",
    "                        batch_size=batch_size,\n",
    "                        epochs=epochs,\n",
    "                        validation_split=val_split,\n",
    "                        callbacks=[early_stopper, model_saver])\n",
    "    return history\n",
    "\n",
    "\n",
    "def load_trained_model(model, weights_path):\n",
    "    model.load_weights(weights_path)\n",
    "    return model"
   ]
  },
  {
   "cell_type": "markdown",
   "metadata": {},
   "source": [
    "### create GMF model"
   ]
  },
  {
   "cell_type": "code",
   "execution_count": 14,
   "metadata": {},
   "outputs": [
    {
     "name": "stdout",
     "output_type": "stream",
     "text": [
      "__________________________________________________________________________________________________\n",
      "Layer (type)                    Output Shape         Param #     Connected to                     \n",
      "==================================================================================================\n",
      "user_input (InputLayer)         (None, 1)            0                                            \n",
      "__________________________________________________________________________________________________\n",
      "item_input (InputLayer)         (None, 1)            0                                            \n",
      "__________________________________________________________________________________________________\n",
      "user_embedding (Embedding)      (None, 1, 10)        6720        user_input[0][0]                 \n",
      "__________________________________________________________________________________________________\n",
      "item_embedding (Embedding)      (None, 1, 10)        90670       item_input[0][0]                 \n",
      "__________________________________________________________________________________________________\n",
      "flatten (Flatten)               (None, 10)           0           user_embedding[0][0]             \n",
      "__________________________________________________________________________________________________\n",
      "flatten_1 (Flatten)             (None, 10)           0           item_embedding[0][0]             \n",
      "__________________________________________________________________________________________________\n",
      "multiply (Multiply)             (None, 10)           0           flatten[0][0]                    \n",
      "                                                                 flatten_1[0][0]                  \n",
      "__________________________________________________________________________________________________\n",
      "prediction (Dense)              (None, 1)            11          multiply[0][0]                   \n",
      "==================================================================================================\n",
      "Total params: 97,401\n",
      "Trainable params: 97,401\n",
      "Non-trainable params: 0\n",
      "__________________________________________________________________________________________________\n"
     ]
    }
   ],
   "source": [
    "GMF_model = get_GMF_model(num_users, num_items, 10, 0, 0)\n",
    "GMF_model.summary()"
   ]
  },
  {
   "cell_type": "markdown",
   "metadata": {},
   "source": [
    "### train GMF model"
   ]
  },
  {
   "cell_type": "code",
   "execution_count": 15,
   "metadata": {
    "scrolled": true
   },
   "outputs": [
    {
     "name": "stderr",
     "output_type": "stream",
     "text": [
      "/Users/Kevin/anaconda3/lib/python3.6/site-packages/tensorflow/python/ops/gradients_impl.py:108: UserWarning: Converting sparse IndexedSlices to a dense Tensor of unknown shape. This may consume a large amount of memory.\n",
      "  \"Converting sparse IndexedSlices to a dense Tensor of unknown shape. \"\n"
     ]
    },
    {
     "name": "stdout",
     "output_type": "stream",
     "text": [
      "Train on 60002 samples, validate on 20001 samples\n",
      "Epoch 1/30\n",
      "60002/60002 [==============================] - 2s 39us/step - loss: 7.2856 - mean_squared_error: 7.2856 - rmse: 2.5509 - val_loss: 1.8228 - val_mean_squared_error: 1.8228 - val_rmse: 1.3466\n",
      "Epoch 2/30\n",
      "60002/60002 [==============================] - 2s 31us/step - loss: 1.2941 - mean_squared_error: 1.2941 - rmse: 1.1303 - val_loss: 1.0716 - val_mean_squared_error: 1.0716 - val_rmse: 1.0314\n",
      "Epoch 3/30\n",
      "60002/60002 [==============================] - 2s 32us/step - loss: 0.9364 - mean_squared_error: 0.9364 - rmse: 0.9632 - val_loss: 0.9376 - val_mean_squared_error: 0.9376 - val_rmse: 0.9641\n",
      "Epoch 4/30\n",
      "60002/60002 [==============================] - 2s 32us/step - loss: 0.8231 - mean_squared_error: 0.8231 - rmse: 0.9029 - val_loss: 0.8891 - val_mean_squared_error: 0.8891 - val_rmse: 0.9384\n",
      "Epoch 5/30\n",
      "60002/60002 [==============================] - 2s 36us/step - loss: 0.7656 - mean_squared_error: 0.7656 - rmse: 0.8704 - val_loss: 0.8667 - val_mean_squared_error: 0.8667 - val_rmse: 0.9263\n",
      "Epoch 6/30\n",
      "60002/60002 [==============================] - 2s 38us/step - loss: 0.7293 - mean_squared_error: 0.7293 - rmse: 0.8494 - val_loss: 0.8583 - val_mean_squared_error: 0.8583 - val_rmse: 0.9217\n",
      "Epoch 7/30\n",
      "60002/60002 [==============================] - 2s 39us/step - loss: 0.7028 - mean_squared_error: 0.7028 - rmse: 0.8338 - val_loss: 0.8539 - val_mean_squared_error: 0.8539 - val_rmse: 0.9191\n",
      "Epoch 8/30\n",
      "60002/60002 [==============================] - 2s 41us/step - loss: 0.6807 - mean_squared_error: 0.6807 - rmse: 0.8202 - val_loss: 0.8528 - val_mean_squared_error: 0.8528 - val_rmse: 0.9186\n",
      "Epoch 9/30\n",
      "60002/60002 [==============================] - 3s 44us/step - loss: 0.6604 - mean_squared_error: 0.6604 - rmse: 0.8082 - val_loss: 0.8550 - val_mean_squared_error: 0.8550 - val_rmse: 0.9197\n",
      "Epoch 10/30\n",
      "60002/60002 [==============================] - 2s 40us/step - loss: 0.6401 - mean_squared_error: 0.6401 - rmse: 0.7957 - val_loss: 0.8605 - val_mean_squared_error: 0.8605 - val_rmse: 0.9227\n",
      "Epoch 11/30\n",
      "60002/60002 [==============================] - 2s 38us/step - loss: 0.6193 - mean_squared_error: 0.6193 - rmse: 0.7818 - val_loss: 0.8673 - val_mean_squared_error: 0.8673 - val_rmse: 0.9264\n",
      "Epoch 12/30\n",
      "60002/60002 [==============================] - 2s 39us/step - loss: 0.5978 - mean_squared_error: 0.5978 - rmse: 0.7682 - val_loss: 0.8765 - val_mean_squared_error: 0.8765 - val_rmse: 0.9312\n",
      "Epoch 13/30\n",
      "60002/60002 [==============================] - 2s 38us/step - loss: 0.5766 - mean_squared_error: 0.5766 - rmse: 0.7547 - val_loss: 0.8886 - val_mean_squared_error: 0.8886 - val_rmse: 0.9376\n",
      "Epoch 14/30\n",
      "60002/60002 [==============================] - 2s 37us/step - loss: 0.5565 - mean_squared_error: 0.5565 - rmse: 0.7413 - val_loss: 0.9025 - val_mean_squared_error: 0.9025 - val_rmse: 0.9449\n",
      "Epoch 15/30\n",
      "60002/60002 [==============================] - 2s 40us/step - loss: 0.5377 - mean_squared_error: 0.5377 - rmse: 0.7285 - val_loss: 0.9127 - val_mean_squared_error: 0.9127 - val_rmse: 0.9502\n",
      "Epoch 16/30\n",
      "60002/60002 [==============================] - 2s 35us/step - loss: 0.5200 - mean_squared_error: 0.5200 - rmse: 0.7162 - val_loss: 0.9266 - val_mean_squared_error: 0.9266 - val_rmse: 0.9575\n",
      "Epoch 17/30\n",
      "60002/60002 [==============================] - 2s 36us/step - loss: 0.5035 - mean_squared_error: 0.5035 - rmse: 0.7051 - val_loss: 0.9397 - val_mean_squared_error: 0.9397 - val_rmse: 0.9642\n",
      "Epoch 18/30\n",
      "60002/60002 [==============================] - 2s 34us/step - loss: 0.4885 - mean_squared_error: 0.4885 - rmse: 0.6942 - val_loss: 0.9541 - val_mean_squared_error: 0.9541 - val_rmse: 0.9716\n",
      "Epoch 00018: early stopping\n"
     ]
    }
   ],
   "source": [
    "# model config\n",
    "BATCH_SIZE = 64\n",
    "EPOCHS = 30\n",
    "VAL_SPLIT = 0.25\n",
    "\n",
    "# train model\n",
    "history = train_model(GMF_model, 'adam', BATCH_SIZE, EPOCHS, VAL_SPLIT, \n",
    "                      inputs=[df_train.userId.values, df_train.movieId.values],\n",
    "                      outputs=df_train.rating.values)"
   ]
  },
  {
   "cell_type": "markdown",
   "metadata": {},
   "source": [
    "### GMF learning curve"
   ]
  },
  {
   "cell_type": "code",
   "execution_count": 16,
   "metadata": {},
   "outputs": [],
   "source": [
    "def plot_learning_curve(history, metric):\n",
    "    \"\"\"\n",
    "    Plot learning curve to compare training error vs. validation error\n",
    "    \"\"\"\n",
    "    # get training error\n",
    "    errors = history.history[metric]\n",
    "    # get validation error\n",
    "    val_errors = history.history['val_{}'.format(metric)]\n",
    "    # get epochs\n",
    "    epochs = range(1, len(errors) + 1)\n",
    "\n",
    "    # plot\n",
    "    plt.figure(figsize=(12, 7))\n",
    "    plt.plot(epochs, errors, 'bo', label='training {}'.format(metric))\n",
    "    plt.plot(epochs, val_errors, 'b', label='validation {}'.format(metric))\n",
    "    plt.xlabel('number of epochs')\n",
    "    plt.ylabel(metric)\n",
    "    plt.title('Model Learning Curve')\n",
    "    plt.grid(True)\n",
    "    plt.legend()\n",
    "    plt.show()"
   ]
  },
  {
   "cell_type": "code",
   "execution_count": 17,
   "metadata": {},
   "outputs": [
    {
     "data": {
      "image/png": "[encoded data removed]",
      "text/plain": [
       "<Figure size 864x504 with 1 Axes>"
      ]
     },
     "metadata": {},
     "output_type": "display_data"
    }
   ],
   "source": [
    "plot_learning_curve(history, 'rmse')"
   ]
  },
  {
   "cell_type": "markdown",
   "metadata": {},
   "source": [
    "### GMF model testing\n",
    "And finally, make a prediction and check the testing error using out-of-sample data"
   ]
  },
  {
   "cell_type": "code",
   "execution_count": 18,
   "metadata": {},
   "outputs": [],
   "source": [
    "# define rmse function\n",
    "rmse = lambda true, pred: np.sqrt(np.mean(np.square(np.squeeze(predictions) - np.squeeze(df_test.rating.values))))"
   ]
  },
  {
   "cell_type": "code",
   "execution_count": 19,
   "metadata": {},
   "outputs": [
    {
     "name": "stdout",
     "output_type": "stream",
     "text": [
      "The out-of-sample RMSE of rating predictions is 0.9237\n"
     ]
    }
   ],
   "source": [
    "# load best model\n",
    "GMF_model = get_GMF_model(num_users, num_items, 10, 0, 0)\n",
    "GMF_model = load_trained_model(GMF_model, os.path.join(data_path, 'tmp/model.hdf5'))\n",
    "# make prediction using test data\n",
    "predictions = GMF_model.predict([df_test.userId.values, df_test.movieId.values])\n",
    "# get the RMSE\n",
    "error = rmse(df_test.rating.values, predictions)\n",
    "print('The out-of-sample RMSE of rating predictions is', round(error, 4))"
   ]
  },
  {
   "cell_type": "markdown",
   "metadata": {},
   "source": [
    "## 4. Train Multi-Layer Perceptron Model and Test Model"
   ]
  },
  {
   "cell_type": "markdown",
   "metadata": {},
   "source": [
    "### define MLP model architeture"
   ]
  },
  {
   "cell_type": "code",
   "execution_count": 21,
   "metadata": {},
   "outputs": [],
   "source": [
    "def get_MLP_model(num_users, num_items, layers, reg_layers):\n",
    "    \"\"\"\n",
    "    Build Multi-Layer Perceptron Model Topology\n",
    "    \n",
    "    Parameters\n",
    "    ----------\n",
    "    num_users: int, total number of users\n",
    "    num_iterms: int, total number of items\n",
    "    layers: list of int, each element is the number of hidden units for each layer,\n",
    "        with the exception of first element. First element is the sum of dims of\n",
    "        user latent vector and item latent vector\n",
    "    reg_layers: list of int, each element is the L2 regularization parameter for\n",
    "        each layer in MLP\n",
    "\n",
    "    Return\n",
    "    ------\n",
    "    A Keras Model with MLP model architeture\n",
    "    \"\"\"\n",
    "    assert len(layers) == len(reg_layers)\n",
    "    num_layer = len(layers) # Number of layers in the MLP\n",
    "    # Input variables\n",
    "    user_input = Input(shape=(1,), dtype='int32', name='user_input')\n",
    "    item_input = Input(shape=(1,), dtype='int32', name='item_input')\n",
    "\n",
    "    MLP_Embedding_User = Embedding(\n",
    "        input_dim=num_users + 1,\n",
    "        output_dim=layers[0] // 2,\n",
    "        embeddings_initializer='uniform',\n",
    "        name='user_embedding',\n",
    "        embeddings_regularizer=l2(reg_layers[0]),\n",
    "        input_length=1)\n",
    "    MLP_Embedding_Item = Embedding(\n",
    "        input_dim=num_items + 1,\n",
    "        output_dim=layers[0] // 2,\n",
    "        embeddings_initializer='uniform',\n",
    "        name='item_embedding',\n",
    "        embeddings_regularizer=l2(reg_layers[0]),\n",
    "        input_length=1) \n",
    "    \n",
    "    # Crucial to flatten an embedding vector!\n",
    "    user_latent = Flatten()(MLP_Embedding_User(user_input))\n",
    "    item_latent = Flatten()(MLP_Embedding_Item(item_input))\n",
    "\n",
    "    # The 0-th layer is the concatenation of embedding layers\n",
    "    vector = Concatenate(axis=-1)([user_latent, item_latent])\n",
    "\n",
    "    # MLP layers\n",
    "    for idx in range(1, num_layer):\n",
    "        layer = Dense(\n",
    "            units=layers[idx],\n",
    "            activation='relu',\n",
    "            kernel_initializer='glorot_uniform',\n",
    "            kernel_regularizer=l2(reg_layers[idx]),\n",
    "            name = 'layer%d' %idx)\n",
    "        vector = layer(vector)\n",
    "    \n",
    "    # Final prediction layer\n",
    "    prediction = Dense(1, kernel_initializer='glorot_uniform', name='prediction')(vector)\n",
    "    \n",
    "    # Stitch input and output\n",
    "    model = Model([user_input, item_input], prediction)\n",
    "    \n",
    "    return model"
   ]
  },
  {
   "cell_type": "markdown",
   "metadata": {},
   "source": [
    "### create MLP model"
   ]
  },
  {
   "cell_type": "code",
   "execution_count": 22,
   "metadata": {},
   "outputs": [
    {
     "name": "stdout",
     "output_type": "stream",
     "text": [
      "__________________________________________________________________________________________________\n",
      "Layer (type)                    Output Shape         Param #     Connected to                     \n",
      "==================================================================================================\n",
      "user_input (InputLayer)         (None, 1)            0                                            \n",
      "__________________________________________________________________________________________________\n",
      "item_input (InputLayer)         (None, 1)            0                                            \n",
      "__________________________________________________________________________________________________\n",
      "user_embedding (Embedding)      (None, 1, 32)        21504       user_input[0][0]                 \n",
      "__________________________________________________________________________________________________\n",
      "item_embedding (Embedding)      (None, 1, 32)        290144      item_input[0][0]                 \n",
      "__________________________________________________________________________________________________\n",
      "flatten_4 (Flatten)             (None, 32)           0           user_embedding[0][0]             \n",
      "__________________________________________________________________________________________________\n",
      "flatten_5 (Flatten)             (None, 32)           0           item_embedding[0][0]             \n",
      "__________________________________________________________________________________________________\n",
      "concatenate (Concatenate)       (None, 64)           0           flatten_4[0][0]                  \n",
      "                                                                 flatten_5[0][0]                  \n",
      "__________________________________________________________________________________________________\n",
      "layer1 (Dense)                  (None, 32)           2080        concatenate[0][0]                \n",
      "__________________________________________________________________________________________________\n",
      "layer2 (Dense)                  (None, 16)           528         layer1[0][0]                     \n",
      "__________________________________________________________________________________________________\n",
      "layer3 (Dense)                  (None, 8)            136         layer2[0][0]                     \n",
      "__________________________________________________________________________________________________\n",
      "prediction (Dense)              (None, 1)            9           layer3[0][0]                     \n",
      "==================================================================================================\n",
      "Total params: 314,401\n",
      "Trainable params: 314,401\n",
      "Non-trainable params: 0\n",
      "__________________________________________________________________________________________________\n"
     ]
    }
   ],
   "source": [
    "MLP_model = get_MLP_model(num_users, num_items, [64, 32, 16, 8], [0, 0, 0, 0])\n",
    "MLP_model.summary()"
   ]
  },
  {
   "cell_type": "markdown",
   "metadata": {},
   "source": [
    "### train MLP model"
   ]
  },
  {
   "cell_type": "code",
   "execution_count": 23,
   "metadata": {
    "scrolled": true
   },
   "outputs": [
    {
     "name": "stderr",
     "output_type": "stream",
     "text": [
      "/Users/Kevin/anaconda3/lib/python3.6/site-packages/tensorflow/python/ops/gradients_impl.py:108: UserWarning: Converting sparse IndexedSlices to a dense Tensor of unknown shape. This may consume a large amount of memory.\n",
      "  \"Converting sparse IndexedSlices to a dense Tensor of unknown shape. \"\n"
     ]
    },
    {
     "name": "stdout",
     "output_type": "stream",
     "text": [
      "Train on 60002 samples, validate on 20001 samples\n",
      "Epoch 1/30\n",
      "60002/60002 [==============================] - 6s 105us/step - loss: 1.1327 - mean_squared_error: 1.1327 - rmse: 1.0321 - val_loss: 0.8792 - val_mean_squared_error: 0.8792 - val_rmse: 0.9327\n",
      "Epoch 2/30\n",
      "60002/60002 [==============================] - 4s 74us/step - loss: 0.8239 - mean_squared_error: 0.8239 - rmse: 0.9028 - val_loss: 0.8250 - val_mean_squared_error: 0.8250 - val_rmse: 0.9032\n",
      "Epoch 3/30\n",
      "60002/60002 [==============================] - 5s 77us/step - loss: 0.7563 - mean_squared_error: 0.7563 - rmse: 0.8648 - val_loss: 0.8108 - val_mean_squared_error: 0.8108 - val_rmse: 0.8958\n",
      "Epoch 4/30\n",
      "60002/60002 [==============================] - 4s 69us/step - loss: 0.7155 - mean_squared_error: 0.7155 - rmse: 0.8413 - val_loss: 0.8267 - val_mean_squared_error: 0.8267 - val_rmse: 0.9037\n",
      "Epoch 5/30\n",
      "60002/60002 [==============================] - 4s 68us/step - loss: 0.6923 - mean_squared_error: 0.6923 - rmse: 0.8268 - val_loss: 0.8318 - val_mean_squared_error: 0.8318 - val_rmse: 0.9064\n",
      "Epoch 6/30\n",
      "60002/60002 [==============================] - 4s 68us/step - loss: 0.6691 - mean_squared_error: 0.6691 - rmse: 0.8132 - val_loss: 0.8099 - val_mean_squared_error: 0.8099 - val_rmse: 0.8950\n",
      "Epoch 7/30\n",
      "60002/60002 [==============================] - 4s 69us/step - loss: 0.6480 - mean_squared_error: 0.6480 - rmse: 0.8002 - val_loss: 0.8273 - val_mean_squared_error: 0.8273 - val_rmse: 0.9042\n",
      "Epoch 8/30\n",
      "60002/60002 [==============================] - 4s 69us/step - loss: 0.6268 - mean_squared_error: 0.6268 - rmse: 0.7867 - val_loss: 0.8241 - val_mean_squared_error: 0.8241 - val_rmse: 0.9027\n",
      "Epoch 9/30\n",
      "60002/60002 [==============================] - 4s 67us/step - loss: 0.6013 - mean_squared_error: 0.6013 - rmse: 0.7703 - val_loss: 0.8525 - val_mean_squared_error: 0.8525 - val_rmse: 0.9176\n",
      "Epoch 10/30\n",
      "60002/60002 [==============================] - 4s 68us/step - loss: 0.5763 - mean_squared_error: 0.5763 - rmse: 0.7544 - val_loss: 0.8585 - val_mean_squared_error: 0.8585 - val_rmse: 0.9219\n",
      "Epoch 11/30\n",
      "60002/60002 [==============================] - 4s 68us/step - loss: 0.5525 - mean_squared_error: 0.5525 - rmse: 0.7383 - val_loss: 0.8671 - val_mean_squared_error: 0.8671 - val_rmse: 0.9259\n",
      "Epoch 12/30\n",
      "60002/60002 [==============================] - 4s 67us/step - loss: 0.5291 - mean_squared_error: 0.5291 - rmse: 0.7224 - val_loss: 0.8945 - val_mean_squared_error: 0.8945 - val_rmse: 0.9400\n",
      "Epoch 13/30\n",
      "60002/60002 [==============================] - 4s 67us/step - loss: 0.5041 - mean_squared_error: 0.5041 - rmse: 0.7053 - val_loss: 0.9037 - val_mean_squared_error: 0.9037 - val_rmse: 0.9450\n",
      "Epoch 14/30\n",
      "60002/60002 [==============================] - 4s 67us/step - loss: 0.4803 - mean_squared_error: 0.4803 - rmse: 0.6883 - val_loss: 0.9160 - val_mean_squared_error: 0.9160 - val_rmse: 0.9516\n",
      "Epoch 15/30\n",
      "60002/60002 [==============================] - 4s 67us/step - loss: 0.4592 - mean_squared_error: 0.4592 - rmse: 0.6724 - val_loss: 0.9594 - val_mean_squared_error: 0.9594 - val_rmse: 0.9737\n",
      "Epoch 16/30\n",
      "60002/60002 [==============================] - 4s 68us/step - loss: 0.4387 - mean_squared_error: 0.4387 - rmse: 0.6574 - val_loss: 0.9569 - val_mean_squared_error: 0.9569 - val_rmse: 0.9728\n",
      "Epoch 00016: early stopping\n"
     ]
    }
   ],
   "source": [
    "# model config\n",
    "BATCH_SIZE = 64\n",
    "EPOCHS = 30\n",
    "VAL_SPLIT = 0.25\n",
    "\n",
    "# train model\n",
    "history = train_model(MLP_model, 'adam', BATCH_SIZE, EPOCHS, VAL_SPLIT, \n",
    "                      inputs=[df_train.userId.values, df_train.movieId.values],\n",
    "                      outputs=df_train.rating.values)"
   ]
  },
  {
   "cell_type": "markdown",
   "metadata": {},
   "source": [
    "### MLP learning curve"
   ]
  },
  {
   "cell_type": "code",
   "execution_count": 24,
   "metadata": {},
   "outputs": [
    {
     "data": {
      "image/png": "[encoded data removed]",
      "text/plain": [
       "<Figure size 864x504 with 1 Axes>"
      ]
     },
     "metadata": {},
     "output_type": "display_data"
    }
   ],
   "source": [
    "plot_learning_curve(history, 'rmse')"
   ]
  },
  {
   "cell_type": "markdown",
   "metadata": {},
   "source": [
    "### MLP model testing\n",
    "And finally, make a prediction and check the testing error using out-of-sample data"
   ]
  },
  {
   "cell_type": "code",
   "execution_count": 25,
   "metadata": {},
   "outputs": [
    {
     "name": "stdout",
     "output_type": "stream",
     "text": [
      "The out-of-sample RMSE of rating predictions is 0.9094\n"
     ]
    }
   ],
   "source": [
    "# load best model\n",
    "MLP_model = get_MLP_model(num_users, num_items, [64, 32, 16, 8], [0, 0, 0, 0])\n",
    "MLP_model = load_trained_model(MLP_model, os.path.join(data_path, 'tmp/model.hdf5'))\n",
    "# make prediction using test data\n",
    "predictions = MLP_model.predict([df_test.userId.values, df_test.movieId.values])\n",
    "# get the RMSE\n",
    "error = rmse(df_test.rating.values, predictions)\n",
    "print('The out-of-sample RMSE of rating predictions is', round(error, 4))"
   ]
  },
  {
   "cell_type": "markdown",
   "metadata": {},
   "source": [
    "## 5. Train Neural Matrix Factorization (NeuMF) and Test Model"
   ]
  },
  {
   "cell_type": "markdown",
   "metadata": {},
   "source": [
    "### define NeuMF model architeture"
   ]
  },
  {
   "cell_type": "code",
   "execution_count": 34,
   "metadata": {},
   "outputs": [],
   "source": [
    "def get_NeuMF_model(num_users, num_items, MF_dim, MF_reg, MLP_layers, MLP_regs):\n",
    "    \"\"\"\n",
    "    Build Neural Matrix Factorization (NeuMF) Model Topology.\n",
    "    This is stack version of both GMF and MLP\n",
    "    \n",
    "    Parameters\n",
    "    ----------\n",
    "    num_users: int, total number of users\n",
    "    num_iterms: int, total number of items\n",
    "    MF_dim: int, embedded dimension for user vector and item vector in MF\n",
    "    MF_reg: tuple of float, L2 regularization of MF embedded layer\n",
    "    MLP_layers: list of int, each element is the number of hidden units for each MLP layer,\n",
    "        with the exception of first element. First element is the sum of dims of\n",
    "        user latent vector and item latent vector\n",
    "    MLP_regs: list of int, each element is the L2 regularization parameter for\n",
    "        each layer in MLP\n",
    "\n",
    "    Return\n",
    "    ------\n",
    "    A Keras Model with MLP model architeture\n",
    "    \"\"\"\n",
    "    assert len(MLP_layers) == len(MLP_regs)\n",
    "    num_MLP_layer = len(MLP_layers) # Number of layers in the MLP\n",
    "    # Input variables\n",
    "    user_input = Input(shape=(1,), dtype='int32', name='user_input')\n",
    "    item_input = Input(shape=(1,), dtype='int32', name='item_input')\n",
    "\n",
    "    # Embedding layer\n",
    "    \n",
    "    # MF\n",
    "    MF_Embedding_User = Embedding(\n",
    "        input_dim=num_users + 1,\n",
    "        output_dim=MF_dim,\n",
    "        embeddings_initializer='uniform',\n",
    "        name='mf_user_embedding',\n",
    "        embeddings_regularizer=l2(MF_reg[0]),\n",
    "        input_length=1)\n",
    "    MF_Embedding_Item = Embedding(\n",
    "        input_dim=num_items + 1,\n",
    "        output_dim=MF_dim,\n",
    "        embeddings_initializer='uniform',\n",
    "        name='mf_item_embedding',\n",
    "        embeddings_regularizer=l2(MF_reg[1]),\n",
    "        input_length=1)\n",
    "    \n",
    "    # MLP\n",
    "    MLP_Embedding_User = Embedding(\n",
    "        input_dim=num_users + 1,\n",
    "        output_dim=MLP_layers[0] // 2,\n",
    "        embeddings_initializer='uniform',\n",
    "        name='mlp_user_embedding',\n",
    "        embeddings_regularizer=l2(MLP_regs[0]),\n",
    "        input_length=1)\n",
    "    MLP_Embedding_Item = Embedding(\n",
    "        input_dim=num_items + 1,\n",
    "        output_dim=MLP_layers[0] // 2,\n",
    "        embeddings_initializer='uniform',\n",
    "        name='mlp_item_embedding',\n",
    "        embeddings_regularizer=l2(MLP_regs[0]),\n",
    "        input_length=1) \n",
    "    \n",
    "    # MF part\n",
    "    mf_user_latent = Flatten()(MF_Embedding_User(user_input))\n",
    "    mf_item_latent = Flatten()(MF_Embedding_Item(item_input))\n",
    "    mf_vector = Multiply()([mf_user_latent, mf_item_latent])\n",
    "\n",
    "    # MLP part\n",
    "    mlp_user_latent = Flatten()(MLP_Embedding_User(user_input))\n",
    "    mlp_item_latent = Flatten()(MLP_Embedding_Item(item_input))\n",
    "    mlp_vector = Concatenate(axis=-1)([mlp_user_latent, mlp_item_latent])\n",
    "    for idx in range(1, num_MLP_layer):\n",
    "        layer = Dense(\n",
    "            units=MLP_layers[idx],\n",
    "            activation='relu',\n",
    "            kernel_initializer='glorot_uniform',\n",
    "            kernel_regularizer=l2(MLP_regs[idx]),\n",
    "            name = 'layer%d' %idx)\n",
    "        mlp_vector = layer(mlp_vector)\n",
    "    \n",
    "    # Concatenate MF and MLP parts\n",
    "    predict_vector = Concatenate(axis=-1)([mf_vector, mlp_vector])\n",
    "\n",
    "    # Final prediction layer\n",
    "    prediction = Dense(1, kernel_initializer='glorot_uniform', name='prediction')(predict_vector)\n",
    "    \n",
    "    # Stitch input and output\n",
    "    model = Model([user_input, item_input], prediction)\n",
    "    \n",
    "    return model"
   ]
  },
  {
   "cell_type": "markdown",
   "metadata": {},
   "source": [
    "### create NeuMF model"
   ]
  },
  {
   "cell_type": "code",
   "execution_count": 35,
   "metadata": {},
   "outputs": [
    {
     "name": "stdout",
     "output_type": "stream",
     "text": [
      "__________________________________________________________________________________________________\n",
      "Layer (type)                    Output Shape         Param #     Connected to                     \n",
      "==================================================================================================\n",
      "user_input (InputLayer)         (None, 1)            0                                            \n",
      "__________________________________________________________________________________________________\n",
      "item_input (InputLayer)         (None, 1)            0                                            \n",
      "__________________________________________________________________________________________________\n",
      "mlp_user_embedding (Embedding)  (None, 1, 32)        21504       user_input[0][0]                 \n",
      "__________________________________________________________________________________________________\n",
      "mlp_item_embedding (Embedding)  (None, 1, 32)        290144      item_input[0][0]                 \n",
      "__________________________________________________________________________________________________\n",
      "flatten_18 (Flatten)            (None, 32)           0           mlp_user_embedding[0][0]         \n",
      "__________________________________________________________________________________________________\n",
      "flatten_19 (Flatten)            (None, 32)           0           mlp_item_embedding[0][0]         \n",
      "__________________________________________________________________________________________________\n",
      "concatenate_6 (Concatenate)     (None, 64)           0           flatten_18[0][0]                 \n",
      "                                                                 flatten_19[0][0]                 \n",
      "__________________________________________________________________________________________________\n",
      "mf_user_embedding (Embedding)   (None, 1, 10)        6720        user_input[0][0]                 \n",
      "__________________________________________________________________________________________________\n",
      "mf_item_embedding (Embedding)   (None, 1, 10)        90670       item_input[0][0]                 \n",
      "__________________________________________________________________________________________________\n",
      "layer1 (Dense)                  (None, 32)           2080        concatenate_6[0][0]              \n",
      "__________________________________________________________________________________________________\n",
      "flatten_16 (Flatten)            (None, 10)           0           mf_user_embedding[0][0]          \n",
      "__________________________________________________________________________________________________\n",
      "flatten_17 (Flatten)            (None, 10)           0           mf_item_embedding[0][0]          \n",
      "__________________________________________________________________________________________________\n",
      "layer2 (Dense)                  (None, 16)           528         layer1[0][0]                     \n",
      "__________________________________________________________________________________________________\n",
      "multiply_4 (Multiply)           (None, 10)           0           flatten_16[0][0]                 \n",
      "                                                                 flatten_17[0][0]                 \n",
      "__________________________________________________________________________________________________\n",
      "layer3 (Dense)                  (None, 8)            136         layer2[0][0]                     \n",
      "__________________________________________________________________________________________________\n",
      "concatenate_7 (Concatenate)     (None, 18)           0           multiply_4[0][0]                 \n",
      "                                                                 layer3[0][0]                     \n",
      "__________________________________________________________________________________________________\n",
      "prediction (Dense)              (None, 1)            19          concatenate_7[0][0]              \n",
      "==================================================================================================\n",
      "Total params: 411,801\n",
      "Trainable params: 411,801\n",
      "Non-trainable params: 0\n",
      "__________________________________________________________________________________________________\n"
     ]
    }
   ],
   "source": [
    "NeuMF_model = get_NeuMF_model(\n",
    "    num_users=num_users,\n",
    "    num_items=num_items,\n",
    "    MF_dim=10,\n",
    "    MF_reg=(0, 0),\n",
    "    MLP_layers=[64, 32, 16, 8],\n",
    "    MLP_regs=[0, 0, 0, 0])\n",
    "NeuMF_model.summary()"
   ]
  },
  {
   "cell_type": "markdown",
   "metadata": {},
   "source": [
    "### train NeuMF model"
   ]
  },
  {
   "cell_type": "code",
   "execution_count": 36,
   "metadata": {
    "scrolled": true
   },
   "outputs": [
    {
     "name": "stderr",
     "output_type": "stream",
     "text": [
      "/Users/Kevin/anaconda3/lib/python3.6/site-packages/tensorflow/python/ops/gradients_impl.py:108: UserWarning: Converting sparse IndexedSlices to a dense Tensor of unknown shape. This may consume a large amount of memory.\n",
      "  \"Converting sparse IndexedSlices to a dense Tensor of unknown shape. \"\n"
     ]
    },
    {
     "name": "stdout",
     "output_type": "stream",
     "text": [
      "Train on 60002 samples, validate on 20001 samples\n",
      "Epoch 1/30\n",
      "60002/60002 [==============================] - 8s 127us/step - loss: 1.3704 - mean_squared_error: 1.3704 - rmse: 1.0858 - val_loss: 0.8790 - val_mean_squared_error: 0.8790 - val_rmse: 0.9326\n",
      "Epoch 2/30\n",
      "60002/60002 [==============================] - 7s 109us/step - loss: 0.8107 - mean_squared_error: 0.8107 - rmse: 0.8957 - val_loss: 0.8304 - val_mean_squared_error: 0.8304 - val_rmse: 0.9059\n",
      "Epoch 3/30\n",
      "60002/60002 [==============================] - 7s 109us/step - loss: 0.7424 - mean_squared_error: 0.7424 - rmse: 0.8568 - val_loss: 0.8137 - val_mean_squared_error: 0.8137 - val_rmse: 0.8968\n",
      "Epoch 4/30\n",
      "60002/60002 [==============================] - 6s 104us/step - loss: 0.7066 - mean_squared_error: 0.7066 - rmse: 0.8353 - val_loss: 0.8190 - val_mean_squared_error: 0.8190 - val_rmse: 0.9001\n",
      "Epoch 5/30\n",
      "60002/60002 [==============================] - 6s 107us/step - loss: 0.6818 - mean_squared_error: 0.6818 - rmse: 0.8203 - val_loss: 0.8347 - val_mean_squared_error: 0.8347 - val_rmse: 0.9079\n",
      "Epoch 6/30\n",
      "60002/60002 [==============================] - 7s 120us/step - loss: 0.6593 - mean_squared_error: 0.6593 - rmse: 0.8075 - val_loss: 0.8271 - val_mean_squared_error: 0.8271 - val_rmse: 0.9041\n",
      "Epoch 7/30\n",
      "60002/60002 [==============================] - 6s 106us/step - loss: 0.6367 - mean_squared_error: 0.6367 - rmse: 0.7930 - val_loss: 0.8488 - val_mean_squared_error: 0.8488 - val_rmse: 0.9162\n",
      "Epoch 8/30\n",
      "60002/60002 [==============================] - 6s 106us/step - loss: 0.6154 - mean_squared_error: 0.6154 - rmse: 0.7798 - val_loss: 0.8483 - val_mean_squared_error: 0.8483 - val_rmse: 0.9153\n",
      "Epoch 9/30\n",
      "60002/60002 [==============================] - 6s 103us/step - loss: 0.5925 - mean_squared_error: 0.5925 - rmse: 0.7649 - val_loss: 0.8531 - val_mean_squared_error: 0.8531 - val_rmse: 0.9180\n",
      "Epoch 10/30\n",
      "60002/60002 [==============================] - 6s 102us/step - loss: 0.5658 - mean_squared_error: 0.5658 - rmse: 0.7474 - val_loss: 0.8789 - val_mean_squared_error: 0.8789 - val_rmse: 0.9324\n",
      "Epoch 11/30\n",
      "60002/60002 [==============================] - 7s 111us/step - loss: 0.5388 - mean_squared_error: 0.5388 - rmse: 0.7289 - val_loss: 0.9005 - val_mean_squared_error: 0.9005 - val_rmse: 0.9433\n",
      "Epoch 12/30\n",
      "60002/60002 [==============================] - 7s 120us/step - loss: 0.5117 - mean_squared_error: 0.5117 - rmse: 0.7102 - val_loss: 0.8981 - val_mean_squared_error: 0.8981 - val_rmse: 0.9420\n",
      "Epoch 13/30\n",
      "60002/60002 [==============================] - 7s 115us/step - loss: 0.4815 - mean_squared_error: 0.4815 - rmse: 0.6889 - val_loss: 0.9209 - val_mean_squared_error: 0.9209 - val_rmse: 0.9540\n",
      "Epoch 00013: early stopping\n"
     ]
    }
   ],
   "source": [
    "# model config\n",
    "BATCH_SIZE = 64\n",
    "EPOCHS = 30\n",
    "VAL_SPLIT = 0.25\n",
    "\n",
    "# train model\n",
    "history = train_model(NeuMF_model, 'adam', BATCH_SIZE, EPOCHS, VAL_SPLIT, \n",
    "                      inputs=[df_train.userId.values, df_train.movieId.values],\n",
    "                      outputs=df_train.rating.values)"
   ]
  },
  {
   "cell_type": "markdown",
   "metadata": {},
   "source": [
    "### Neural Matrix Factorization (NeuMF) learning curve"
   ]
  },
  {
   "cell_type": "code",
   "execution_count": 29,
   "metadata": {},
   "outputs": [
    {
     "data": {
      "image/png": "[encoded data removed]",
      "text/plain": [
       "<Figure size 864x504 with 1 Axes>"
      ]
     },
     "metadata": {},
     "output_type": "display_data"
    }
   ],
   "source": [
    "plot_learning_curve(history, 'rmse')"
   ]
  },
  {
   "cell_type": "markdown",
   "metadata": {},
   "source": [
    "### Neural Matrix Factorization (NeuMF) model testing\n",
    "And finally, make a prediction and check the testing error using out-of-sample data"
   ]
  },
  {
   "cell_type": "code",
   "execution_count": 37,
   "metadata": {},
   "outputs": [
    {
     "name": "stdout",
     "output_type": "stream",
     "text": [
      "The out-of-sample RMSE of rating predictions is 0.9059\n"
     ]
    }
   ],
   "source": [
    "# load best model\n",
    "NeuMF_model = get_NeuMF_model(\n",
    "    num_users=num_users,\n",
    "    num_items=num_items,\n",
    "    MF_dim=10,\n",
    "    MF_reg=(0, 0),\n",
    "    MLP_layers=[64, 32, 16, 8],\n",
    "    MLP_regs=[0, 0, 0, 0])\n",
    "NeuMF_model = load_trained_model(NeuMF_model, os.path.join(data_path, 'tmp/model.hdf5'))\n",
    "# make prediction using test data\n",
    "predictions = NeuMF_model.predict([df_test.userId.values, df_test.movieId.values])\n",
    "# get the RMSE\n",
    "error = rmse(df_test.rating.values, predictions)\n",
    "print('The out-of-sample RMSE of rating predictions is', round(error, 4))"
   ]
  },
  {
   "cell_type": "markdown",
   "metadata": {},
   "source": [
    "## Observations\n",
    "1. ALS's out-of-sample RMSE is 0.9206\n",
    "2. GMF's out-of-sample RMSE is 0.9237\n",
    "3. MLP's out-of-sample RMSE is 0.9094\n",
    "4. NeuMF's out-of-sample RMSE is 0.9059\n",
    "5. Rating prediction out-of-sample performance in terms of RMSE (the lower the better): NeuMF < MLP < ALS < GMF\n",
    "6. The best model is NeuMF"
   ]
  },
  {
   "cell_type": "markdown",
   "metadata": {},
   "source": [
    "## Conclusion"
   ]
  },
  {
   "cell_type": "markdown",
   "metadata": {},
   "source": [
    "1. Deep neural networks can achieve a better performance in recommendation system, specifically at Collaborative Filtering\n",
    "2. As you increase the depth of the network or broaden the network branches, the performance of the model also increases "
   ]
  }
 ],
 "metadata": {
  "kernelspec": {
   "display_name": "Python 3",
   "language": "python",
   "name": "python3"
  },
  "language_info": {
   "codemirror_mode": {
    "name": "ipython",
    "version": 3
   },
   "file_extension": ".py",
   "mimetype": "text/x-python",
   "name": "python",
   "nbconvert_exporter": "python",
   "pygments_lexer": "ipython3",
   "version": "3.6.5"
  }
 },
 "nbformat": 4,
 "nbformat_minor": 2
}
