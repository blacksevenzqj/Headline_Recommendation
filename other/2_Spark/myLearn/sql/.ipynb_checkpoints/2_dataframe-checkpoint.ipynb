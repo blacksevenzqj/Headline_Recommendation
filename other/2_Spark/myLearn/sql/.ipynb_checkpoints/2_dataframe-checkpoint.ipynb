{
 "cells": [
  {
   "cell_type": "code",
   "execution_count": 71,
   "metadata": {},
   "outputs": [],
   "source": [
    "import numpy as np\n",
    "import pandas as pd\n",
    "from pyspark.sql import SparkSession\n",
    "\n",
    "spark = SparkSession \\\n",
    "    .builder \\\n",
    "    .appName('my_first_app_name') \\\n",
    "    .getOrCreate()"
   ]
  },
  {
   "cell_type": "code",
   "execution_count": 18,
   "metadata": {},
   "outputs": [
    {
     "name": "stdout",
     "output_type": "stream",
     "text": [
      "    color  length\n",
      "0   white       5\n",
      "1   green       5\n",
      "2  yellow       6\n",
      "3     red       3\n",
      "4   brown       5\n",
      "5    pink       4\n",
      "+------+------+\n",
      "| color|length|\n",
      "+------+------+\n",
      "| white|     5|\n",
      "| green|     5|\n",
      "|yellow|     6|\n",
      "|   red|     3|\n",
      "| brown|     5|\n",
      "|  pink|     4|\n",
      "+------+------+\n",
      "\n"
     ]
    }
   ],
   "source": [
    "# 从pandas dataframe创建spark dataframe\n",
    "colors = ['white','green','yellow','red','brown','pink']\n",
    "color_df = pd.DataFrame(colors,columns=['color'])\n",
    "color_df['length'] = color_df['color'].apply(len)\n",
    "print(color_df)\n",
    "\n",
    "color_sdf = spark.createDataFrame(color_df)\n",
    "color_sdf.show()"
   ]
  },
  {
   "cell_type": "code",
   "execution_count": 12,
   "metadata": {},
   "outputs": [
    {
     "name": "stdout",
     "output_type": "stream",
     "text": [
      "color     object\n",
      "length     int64\n",
      "dtype: object\n",
      "[('color', 'string'), ('length', 'bigint')]\n"
     ]
    }
   ],
   "source": [
    "print(color_df.dtypes)\n",
    "print(color_sdf.dtypes)"
   ]
  },
  {
   "cell_type": "code",
   "execution_count": 17,
   "metadata": {},
   "outputs": [
    {
     "name": "stdout",
     "output_type": "stream",
     "text": [
      "(6, 2) 6\n",
      "6\n"
     ]
    }
   ],
   "source": [
    "print(color_df.shape, len(color_df))\n",
    "print(color_sdf.count())"
   ]
  },
  {
   "cell_type": "code",
   "execution_count": 20,
   "metadata": {},
   "outputs": [],
   "source": [
    "# 1、重命名列名\n",
    "# 1.1、PD\n",
    "color_df.rename(columns={\"color\":\"new_color\"}, inplace=True)"
   ]
  },
  {
   "cell_type": "code",
   "execution_count": 30,
   "metadata": {
    "collapsed": true
   },
   "outputs": [
    {
     "name": "stdout",
     "output_type": "stream",
     "text": [
      "+-------+------+\n",
      "|   name|length|\n",
      "+-------+------+\n",
      "|Alberto|     2|\n",
      "| Dakota|     2|\n",
      "+-------+------+\n",
      "\n",
      "root\n",
      " |-- name: string (nullable = true)\n",
      " |-- length: long (nullable = true)\n",
      "\n",
      "+------+-------+\n",
      "|color2|length2|\n",
      "+------+-------+\n",
      "| white|      5|\n",
      "| green|      5|\n",
      "|yellow|      6|\n",
      "|   red|      3|\n",
      "| brown|      5|\n",
      "|  pink|      4|\n",
      "+------+-------+\n",
      "\n",
      "+------+-------+\n",
      "|color2|length2|\n",
      "+------+-------+\n",
      "| white|      5|\n",
      "| green|      5|\n",
      "|yellow|      6|\n",
      "|   red|      3|\n",
      "| brown|      5|\n",
      "|  pink|      4|\n",
      "+------+-------+\n",
      "\n",
      "+------+\n",
      "|color2|\n",
      "+------+\n",
      "| white|\n",
      "| green|\n",
      "|yellow|\n",
      "|   red|\n",
      "| brown|\n",
      "|  pink|\n",
      "+------+\n",
      "\n"
     ]
    }
   ],
   "source": [
    "# 1.2、spark\n",
    "# spark-1\n",
    "# 在创建dataframe的时候重命名\n",
    "data = spark.createDataFrame(data=[(\"Alberto\", 2), (\"Dakota\", 2)],\n",
    "                              schema=['name','length'])\n",
    "data.show()\n",
    "data.printSchema()\n",
    "\n",
    "# spark-2\n",
    "# 使用selectExpr方法\n",
    "color_sdf2 = color_sdf.selectExpr('color as color2','length as length2')\n",
    "color_sdf2.show()\n",
    "\n",
    "# spark-3\n",
    "# withColumnRenamed方法\n",
    "color_sdf3 = color_sdf.withColumnRenamed('color','color2')\\\n",
    "                    .withColumnRenamed('length','length2')\n",
    "color_sdf3.show()\n",
    "\n",
    "# spark-4\n",
    "# alias 方法，没发现有什么意义\n",
    "color_sdf.select(color_sdf.color.alias('color2')).show() "
   ]
  },
  {
   "cell_type": "code",
   "execution_count": 39,
   "metadata": {
    "collapsed": true
   },
   "outputs": [
    {
     "name": "stdout",
     "output_type": "stream",
     "text": [
      "+------+\n",
      "|length|\n",
      "+------+\n",
      "|     5|\n",
      "|     5|\n",
      "|     6|\n",
      "|     3|\n",
      "|     5|\n",
      "|     4|\n",
      "+------+\n",
      "\n",
      "+------+------+\n",
      "| color|length|\n",
      "+------+------+\n",
      "| white|     5|\n",
      "| green|     5|\n",
      "|yellow|     6|\n",
      "| brown|     5|\n",
      "|  pink|     4|\n",
      "+------+------+\n",
      "\n",
      "+-----+------+\n",
      "|color|length|\n",
      "+-----+------+\n",
      "|white|     5|\n",
      "+-----+------+\n",
      "\n"
     ]
    },
    {
     "ename": "AttributeError",
     "evalue": "'DataFrame' object has no attribute 'color'",
     "output_type": "error",
     "traceback": [
      "\u001b[1;31m---------------------------------------------------------------------------\u001b[0m",
      "\u001b[1;31mAttributeError\u001b[0m                            Traceback (most recent call last)",
      "\u001b[1;32m<ipython-input-39-f9d8cadabb8d>\u001b[0m in \u001b[0;36m<module>\u001b[1;34m\u001b[0m\n\u001b[0;32m      4\u001b[0m \u001b[0mcolor_sdf\u001b[0m\u001b[1;33m.\u001b[0m\u001b[0mfilter\u001b[0m\u001b[1;33m(\u001b[0m\u001b[0mcolor_sdf\u001b[0m\u001b[1;33m[\u001b[0m\u001b[1;34m'length'\u001b[0m\u001b[1;33m]\u001b[0m\u001b[1;33m>=\u001b[0m\u001b[1;36m4\u001b[0m\u001b[1;33m)\u001b[0m\u001b[1;33m.\u001b[0m\u001b[0mfilter\u001b[0m\u001b[1;33m(\u001b[0m\u001b[0mcolor_sdf\u001b[0m\u001b[1;33m[\u001b[0m\u001b[1;34m'color'\u001b[0m\u001b[1;33m]\u001b[0m\u001b[1;33m==\u001b[0m\u001b[1;34m'white'\u001b[0m\u001b[1;33m)\u001b[0m\u001b[1;33m.\u001b[0m\u001b[0mshow\u001b[0m\u001b[1;33m(\u001b[0m\u001b[1;33m)\u001b[0m\u001b[1;33m\u001b[0m\u001b[0m\n\u001b[0;32m      5\u001b[0m \u001b[0mcolor_df\u001b[0m\u001b[1;33m.\u001b[0m\u001b[0mfilter\u001b[0m\u001b[1;33m(\u001b[0m\u001b[0mcolor_df\u001b[0m\u001b[1;33m.\u001b[0m\u001b[0mlength\u001b[0m\u001b[1;33m.\u001b[0m\u001b[0mbetween\u001b[0m\u001b[1;33m(\u001b[0m\u001b[1;36m4\u001b[0m\u001b[1;33m,\u001b[0m\u001b[1;36m5\u001b[0m\u001b[1;33m)\u001b[0m \u001b[1;33m)\u001b[0m\u001b[0;31m\\\u001b[0m\u001b[1;33m\u001b[0m\u001b[0m\n\u001b[1;32m----> 6\u001b[1;33m         \u001b[1;33m.\u001b[0m\u001b[0mselect\u001b[0m\u001b[1;33m(\u001b[0m\u001b[0mcolor_df\u001b[0m\u001b[1;33m.\u001b[0m\u001b[0mcolor\u001b[0m\u001b[1;33m.\u001b[0m\u001b[0malias\u001b[0m\u001b[1;33m(\u001b[0m\u001b[1;34m'mid_length'\u001b[0m\u001b[1;33m)\u001b[0m\u001b[1;33m)\u001b[0m\u001b[1;33m.\u001b[0m\u001b[0mshow\u001b[0m\u001b[1;33m(\u001b[0m\u001b[1;33m)\u001b[0m\u001b[1;33m\u001b[0m\u001b[0m\n\u001b[0m",
      "\u001b[1;32me:\\soft\\anaconda\\anaconda_python3.6\\lib\\site-packages\\pandas\\core\\generic.py\u001b[0m in \u001b[0;36m__getattr__\u001b[1;34m(self, name)\u001b[0m\n\u001b[0;32m   3612\u001b[0m             \u001b[1;32mif\u001b[0m \u001b[0mname\u001b[0m \u001b[1;32min\u001b[0m \u001b[0mself\u001b[0m\u001b[1;33m.\u001b[0m\u001b[0m_info_axis\u001b[0m\u001b[1;33m:\u001b[0m\u001b[1;33m\u001b[0m\u001b[0m\n\u001b[0;32m   3613\u001b[0m                 \u001b[1;32mreturn\u001b[0m \u001b[0mself\u001b[0m\u001b[1;33m[\u001b[0m\u001b[0mname\u001b[0m\u001b[1;33m]\u001b[0m\u001b[1;33m\u001b[0m\u001b[0m\n\u001b[1;32m-> 3614\u001b[1;33m             \u001b[1;32mreturn\u001b[0m \u001b[0mobject\u001b[0m\u001b[1;33m.\u001b[0m\u001b[0m__getattribute__\u001b[0m\u001b[1;33m(\u001b[0m\u001b[0mself\u001b[0m\u001b[1;33m,\u001b[0m \u001b[0mname\u001b[0m\u001b[1;33m)\u001b[0m\u001b[1;33m\u001b[0m\u001b[0m\n\u001b[0m\u001b[0;32m   3615\u001b[0m \u001b[1;33m\u001b[0m\u001b[0m\n\u001b[0;32m   3616\u001b[0m     \u001b[1;32mdef\u001b[0m \u001b[0m__setattr__\u001b[0m\u001b[1;33m(\u001b[0m\u001b[0mself\u001b[0m\u001b[1;33m,\u001b[0m \u001b[0mname\u001b[0m\u001b[1;33m,\u001b[0m \u001b[0mvalue\u001b[0m\u001b[1;33m)\u001b[0m\u001b[1;33m:\u001b[0m\u001b[1;33m\u001b[0m\u001b[0m\n",
      "\u001b[1;31mAttributeError\u001b[0m: 'DataFrame' object has no attribute 'color'"
     ]
    }
   ],
   "source": [
    "# 2、选择和切片筛选\n",
    "color_sdf.select(\"length\").show() # color_sdf.select(color_sdf.length).show()\n",
    "color_sdf.filter(color_sdf['length']>=4).show()   # filter方法\n",
    "color_sdf.filter(color_sdf['length']>=4).filter(color_sdf['color']=='white').show()"
   ]
  },
  {
   "cell_type": "code",
   "execution_count": 43,
   "metadata": {
    "collapsed": true
   },
   "outputs": [
    {
     "name": "stdout",
     "output_type": "stream",
     "text": [
      "+----------+\n",
      "|mid_length|\n",
      "+----------+\n",
      "|     white|\n",
      "|     green|\n",
      "|     brown|\n",
      "|      pink|\n",
      "+----------+\n",
      "\n",
      "+-----+------+\n",
      "|color|length|\n",
      "+-----+------+\n",
      "|green|     5|\n",
      "+-----+------+\n",
      "\n",
      "+-----+------+\n",
      "|color|length|\n",
      "+-----+------+\n",
      "|brown|     5|\n",
      "+-----+------+\n",
      "\n"
     ]
    }
   ],
   "source": [
    "color_sdf.filter(color_sdf.length.between(4,5) )\\\n",
    "        .select(color_sdf.color.alias('mid_length')).show()\n",
    "color_sdf.filter(\"color='green'\").show()\n",
    "color_sdf.filter(\"color like 'b%'\").show()"
   ]
  },
  {
   "cell_type": "code",
   "execution_count": 45,
   "metadata": {},
   "outputs": [
    {
     "name": "stdout",
     "output_type": "stream",
     "text": [
      "+------+------+\n",
      "| color|length|\n",
      "+------+------+\n",
      "|yellow|     6|\n",
      "+------+------+\n",
      "\n"
     ]
    }
   ],
   "source": [
    "color_sdf.where(\"color like '%yellow%'\").show()"
   ]
  },
  {
   "cell_type": "code",
   "execution_count": 46,
   "metadata": {},
   "outputs": [
    {
     "name": "stdout",
     "output_type": "stream",
     "text": [
      "+--------+\n",
      "|count(1)|\n",
      "+--------+\n",
      "|       6|\n",
      "+--------+\n",
      "\n"
     ]
    }
   ],
   "source": [
    "color_sdf.createOrReplaceTempView(\"color_df\")\n",
    "spark.sql(\"select count(1) from color_df\").show()"
   ]
  },
  {
   "cell_type": "code",
   "execution_count": 48,
   "metadata": {
    "collapsed": true
   },
   "outputs": [
    {
     "name": "stdout",
     "output_type": "stream",
     "text": [
      "+------+\n",
      "| color|\n",
      "+------+\n",
      "| white|\n",
      "| green|\n",
      "|yellow|\n",
      "|   red|\n",
      "| brown|\n",
      "|  pink|\n",
      "+------+\n",
      "\n",
      "  new_color\n",
      "0     white\n",
      "1     green\n",
      "2    yellow\n",
      "3       red\n",
      "4     brown\n",
      "5      pink\n"
     ]
    }
   ],
   "source": [
    "# 3、删除一列\n",
    "color_sdf.drop('length').show() # 不作用于原数据\n",
    "\n",
    "print(color_df.drop(labels=['length'],axis=1)) # 不作用于原数据"
   ]
  },
  {
   "cell_type": "code",
   "execution_count": 52,
   "metadata": {},
   "outputs": [
    {
     "name": "stdout",
     "output_type": "stream",
     "text": [
      "+------+------+------+\n",
      "| color|length|newCol|\n",
      "+------+------+------+\n",
      "| white|     5|     0|\n",
      "| green|     5|     0|\n",
      "|yellow|     6|     0|\n",
      "|   red|     3|     0|\n",
      "| brown|     5|     0|\n",
      "|  pink|     4|     0|\n",
      "+------+------+------+\n",
      "\n",
      "  new_color  length  sex\n",
      "0     white       5    0\n",
      "1     green       5    0\n",
      "2    yellow       6    0\n",
      "3       red       3    0\n",
      "4     brown       5    0\n",
      "5      pink       4    0\n"
     ]
    }
   ],
   "source": [
    "from pyspark.sql.functions import lit\n",
    "color_sdf = color_sdf.withColumn('newCol', lit(0)) # 需重新赋值\n",
    "color_sdf.show()\n",
    "\n",
    "color_df[\"sex\"] = 0\n",
    "print(color_df)"
   ]
  },
  {
   "cell_type": "code",
   "execution_count": 56,
   "metadata": {},
   "outputs": [
    {
     "name": "stdout",
     "output_type": "stream",
     "text": [
      "{\"color\":\"white\",\"length\":5,\"newCol\":0}\n",
      "{\"new_color\":{\"0\":\"white\",\"1\":\"green\",\"2\":\"yellow\",\"3\":\"red\",\"4\":\"brown\",\"5\":\"pink\"},\"length\":{\"0\":5,\"1\":5,\"2\":6,\"3\":3,\"4\":5,\"5\":4},\"sex\":{\"0\":0,\"1\":0,\"2\":0,\"3\":0,\"4\":0,\"5\":0}}\n"
     ]
    }
   ],
   "source": [
    "# 转JSON\n",
    "print(color_sdf.toJSON().first())\n",
    "print(color_df.to_json())"
   ]
  },
  {
   "cell_type": "code",
   "execution_count": 69,
   "metadata": {},
   "outputs": [
    {
     "name": "stdout",
     "output_type": "stream",
     "text": [
      "  new_color  length  sex\n",
      "2    yellow       6    0\n",
      "0     white       5    0\n",
      "1     green       5    0\n",
      "4     brown       5    0\n",
      "5      pink       4    0\n",
      "3       red       3    0\n",
      "+------+------+------+\n",
      "| color|length|newCol|\n",
      "+------+------+------+\n",
      "|yellow|     6|     0|\n",
      "| white|     5|     0|\n",
      "|   red|     3|     0|\n",
      "|  pink|     4|     0|\n",
      "| green|     5|     0|\n",
      "| brown|     5|     0|\n",
      "+------+------+------+\n",
      "\n",
      "+------+------+------+\n",
      "| color|length|newCol|\n",
      "+------+------+------+\n",
      "|yellow|     6|     0|\n",
      "| white|     5|     0|\n",
      "| green|     5|     0|\n",
      "| brown|     5|     0|\n",
      "|  pink|     4|     0|\n",
      "+------+------+------+\n",
      "\n",
      "+------+------+------+\n",
      "| color|length|newCol|\n",
      "+------+------+------+\n",
      "|yellow|     6|     0|\n",
      "| brown|     5|     0|\n",
      "| green|     5|     0|\n",
      "| white|     5|     0|\n",
      "|  pink|     4|     0|\n",
      "|   red|     3|     0|\n",
      "+------+------+------+\n",
      "\n"
     ]
    },
    {
     "data": {
      "text/plain": [
       "[Row(color='red', length=3, newCol=0),\n",
       " Row(color='pink', length=4, newCol=0),\n",
       " Row(color='brown', length=5, newCol=0),\n",
       " Row(color='green', length=5, newCol=0)]"
      ]
     },
     "execution_count": 69,
     "metadata": {},
     "output_type": "execute_result"
    }
   ],
   "source": [
    "# pandas的排序\n",
    "color_df = color_df.sort_values(by='length', ascending=False)\n",
    "print(color_df)\n",
    "\n",
    "\n",
    "# spark排序\n",
    "color_sdf.sort('color',ascending=False).show()\n",
    "\n",
    "# 多字段排序 .filter(color_df['length']>=4)\\\n",
    "color_sdf.filter(color_sdf['length']>=4).sort('length', 'color', ascending=False).show() \n",
    "\n",
    "# 混合排序\n",
    "color_sdf.sort(color_sdf.length.desc(), color_sdf.color.asc()).show()\n",
    "\n",
    "# # orderBy也是排序，返回的Row对象列表\n",
    "color_sdf.orderBy('length','color').take(4)"
   ]
  },
  {
   "cell_type": "code",
   "execution_count": 73,
   "metadata": {},
   "outputs": [
    {
     "name": "stdout",
     "output_type": "stream",
     "text": [
      "+---+---+---+---+---+\n",
      "|  a|  b|  c|  d|  e|\n",
      "+---+---+---+---+---+\n",
      "|  1|  2|1.0|  7|  8|\n",
      "|  1|  5|4.0|  8|  2|\n",
      "|  9|  5|NaN|  6|  1|\n",
      "|  9|  9|5.0|  2|  6|\n",
      "|  7|  2|6.0|  0|  6|\n",
      "+---+---+---+---+---+\n",
      "\n",
      "+---+---+---+---+---+\n",
      "|  a|  b|  c|  d|  e|\n",
      "+---+---+---+---+---+\n",
      "|  1|  2|1.0|  7|  8|\n",
      "|  1|  5|4.0|  8|  2|\n",
      "|  9|  9|5.0|  2|  6|\n",
      "|  7|  2|6.0|  0|  6|\n",
      "+---+---+---+---+---+\n",
      "\n",
      "+---+---+---+---+---+\n",
      "|  a|  b|  c|  d|  e|\n",
      "+---+---+---+---+---+\n",
      "|  1|  2|1.0|  7|  8|\n",
      "|  1|  5|4.0|  8|  2|\n",
      "|  9|  9|5.0|  2|  6|\n",
      "|  7|  2|6.0|  0|  6|\n",
      "+---+---+---+---+---+\n",
      "\n"
     ]
    }
   ],
   "source": [
    "# 缺失值\n",
    "# 1.生成测试数据\n",
    "df=pd.DataFrame(np.random.rand(5,5),columns=['a','b','c','d','e'])\\\n",
    "    .applymap(lambda x: int(x*10))\n",
    "df.iloc[2,2]=np.nan\n",
    "\n",
    "\n",
    "# spark\n",
    "spark_df = spark.createDataFrame(df)\n",
    "spark_df.show()\n",
    "\n",
    "# 2.删除有缺失值的行\n",
    "df2 = spark_df.dropna()\n",
    "df2.show()\n",
    "\n",
    "# 3.或者\n",
    "df3 = spark_df.na.drop()\n",
    "df3.show()"
   ]
  },
  {
   "cell_type": "code",
   "execution_count": 79,
   "metadata": {},
   "outputs": [
    {
     "name": "stdout",
     "output_type": "stream",
     "text": [
      "   a  b    c  d  e\n",
      "0  1  2  1.0  7  8\n",
      "1  1  5  4.0  8  2\n",
      "2  9  5  NaN  6  1\n",
      "3  9  9  5.0  2  6\n",
      "4  7  2  6.0  0  6\n",
      "   a  b    c  d  e\n",
      "0  1  2  1.0  7  8\n",
      "1  1  5  4.0  8  2\n",
      "3  9  9  5.0  2  6\n",
      "4  7  2  6.0  0  6\n"
     ]
    }
   ],
   "source": [
    "# PD删除缺失值\n",
    "print(df)\n",
    "df = df.dropna()\n",
    "print(df)"
   ]
  }
 ],
 "metadata": {
  "kernelspec": {
   "display_name": "Python 3",
   "language": "python",
   "name": "python3"
  },
  "language_info": {
   "codemirror_mode": {
    "name": "ipython",
    "version": 3
   },
   "file_extension": ".py",
   "mimetype": "text/x-python",
   "name": "python",
   "nbconvert_exporter": "python",
   "pygments_lexer": "ipython3",
   "version": "3.6.4"
  }
 },
 "nbformat": 4,
 "nbformat_minor": 2
}
