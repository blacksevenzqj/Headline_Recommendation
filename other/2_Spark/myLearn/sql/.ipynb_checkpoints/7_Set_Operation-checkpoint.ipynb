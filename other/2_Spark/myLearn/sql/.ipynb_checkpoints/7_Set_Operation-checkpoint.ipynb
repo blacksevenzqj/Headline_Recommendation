{
 "cells": [
  {
   "cell_type": "code",
   "execution_count": 2,
   "metadata": {},
   "outputs": [],
   "source": [
    "import numpy as np\n",
    "import pandas as pd\n",
    "import datetime\n",
    "from pyspark.sql import SparkSession\n",
    "\n",
    "spark = SparkSession \\\n",
    "    .builder \\\n",
    "    .appName('my_first_app_name') \\\n",
    "    .getOrCreate()"
   ]
  },
  {
   "cell_type": "code",
   "execution_count": 16,
   "metadata": {},
   "outputs": [
    {
     "name": "stdout",
     "output_type": "stream",
     "text": [
      "+---+--------+---+\n",
      "| id|    name|age|\n",
      "+---+--------+---+\n",
      "|  1|John Doe| 21|\n",
      "|  2|    mary| 23|\n",
      "+---+--------+---+\n",
      "\n",
      "DataFrame[map: map<string,bigint>] [('map', 'map<string,bigint>')] <class 'pyspark.sql.dataframe.DataFrame'>\n",
      "+----------------+\n",
      "|             map|\n",
      "+----------------+\n",
      "|[John Doe -> 21]|\n",
      "|    [mary -> 23]|\n",
      "+----------------+\n",
      "\n",
      "{'John Doe': 21} <class 'dict'> 21 <class 'int'>\n"
     ]
    }
   ],
   "source": [
    "# 1、Creates a new map column.\n",
    "from pyspark.sql.functions import create_map\n",
    "\n",
    "df = spark.createDataFrame([(1, \"John Doe\", 21), (2, \"mary\", 23)], (\"id\", \"name\", \"age\"))\n",
    "df.show()\n",
    "\n",
    "temp = df.select(create_map([df.name, df.age]).alias(\"map\"))\n",
    "print(temp, temp.dtypes, type(temp))\n",
    "temp.show()\n",
    "print(temp.take(1)[0][0], type(temp.take(1)[0][0]), temp.take(1)[0][0][\"John Doe\"], type(temp.take(1)[0][0][\"John Doe\"]))"
   ]
  },
  {
   "cell_type": "code",
   "execution_count": 19,
   "metadata": {},
   "outputs": [
    {
     "name": "stdout",
     "output_type": "stream",
     "text": [
      "DataFrame[arr: array<string>] [('arr', 'array<string>')] <class 'pyspark.sql.dataframe.DataFrame'>\n",
      "+--------------+\n",
      "|           arr|\n",
      "+--------------+\n",
      "|[John Doe, 21]|\n",
      "|    [mary, 23]|\n",
      "+--------------+\n",
      "\n",
      "['John Doe', '21'] <class 'list'> 21 <class 'str'>\n"
     ]
    }
   ],
   "source": [
    "# 2、创建列表\n",
    "from pyspark.sql.functions import array\n",
    "temp = df.select(array('name', 'age').alias(\"arr\")) # str和int 类型进数组，int类型自动转换为str类型\n",
    "print(temp, temp.dtypes, type(temp))\n",
    "temp.show()\n",
    "print(temp.take(1)[0][0], type(temp.take(1)[0][0]), temp.take(1)[0][0][1], type(temp.take(1)[0][0][1]))"
   ]
  },
  {
   "cell_type": "code",
   "execution_count": 23,
   "metadata": {},
   "outputs": [
    {
     "name": "stdout",
     "output_type": "stream",
     "text": [
      "+---------+\n",
      "|     data|\n",
      "+---------+\n",
      "|[a, b, c]|\n",
      "|       []|\n",
      "| [aa, bb]|\n",
      "+---------+\n",
      "\n",
      "+-----------------------+\n",
      "|array_contains(data, a)|\n",
      "+-----------------------+\n",
      "|                   true|\n",
      "|                  false|\n",
      "|                  false|\n",
      "+-----------------------+\n",
      "\n"
     ]
    }
   ],
   "source": [
    "# 3、元素存在判断\n",
    "# 相当于 pandas.isin, pandas.notin\n",
    "from pyspark.sql.functions import array_contains\n",
    "\n",
    "df = spark.createDataFrame([([\"a\", \"b\", \"c\"],), ([],), ([\"aa\", \"bb\"],)], ['data'])\n",
    "df.show()\n",
    "df.select(array_contains(df.data, \"a\")).show()"
   ]
  },
  {
   "cell_type": "code",
   "execution_count": 26,
   "metadata": {},
   "outputs": [
    {
     "name": "stdout",
     "output_type": "stream",
     "text": [
      "+---------+----+---+\n",
      "|     data|name|age|\n",
      "+---------+----+---+\n",
      "|[a, b, c]|mary| 23|\n",
      "|       []|join| 33|\n",
      "| [aa, bb]|jack|  4|\n",
      "+---------+----+---+\n",
      "\n",
      "+---+\n",
      "|str|\n",
      "+---+\n",
      "|  a|\n",
      "|  b|\n",
      "|  c|\n",
      "| aa|\n",
      "| bb|\n",
      "+---+\n",
      "\n",
      "+---+---------+--------+\n",
      "|  a|  intlist|mapfield|\n",
      "+---+---------+--------+\n",
      "|  1|[1, 2, 3]|[a -> b]|\n",
      "+---+---------+--------+\n",
      "\n",
      "+-----+\n",
      "|anInt|\n",
      "+-----+\n",
      "|    1|\n",
      "|    2|\n",
      "|    3|\n",
      "+-----+\n",
      "\n",
      "+---+-----+\n",
      "|key|value|\n",
      "+---+-----+\n",
      "|  a|    b|\n",
      "+---+-----+\n",
      "\n"
     ]
    }
   ],
   "source": [
    "# 4、数据拉直\n",
    "# Returns a new row for each element in the given array or map\n",
    "from pyspark.sql import Row\n",
    "from pyspark.sql.functions import explode\n",
    "df = spark.createDataFrame([([\"a\", \"b\", \"c\"], \"mary\", 23), ([],\"join\", 33), ([\"aa\", \"bb\"], \"jack\", 4)], ['data',\"name\", \"age\"])\n",
    "df.show()\n",
    "df.select(explode('data').alias(\"str\")).show()\n",
    "\n",
    "eDF = spark.createDataFrame([Row(a=1, intlist=[1,2,3], mapfield={\"a\": \"b\"})])\n",
    "eDF.show()\n",
    "eDF.select(explode('intlist').alias(\"anInt\")).show()\n",
    "eDF.select(explode('mapfield').alias(\"key\", \"value\")).show()"
   ]
  },
  {
   "cell_type": "code",
   "execution_count": 36,
   "metadata": {},
   "outputs": [
    {
     "name": "stdout",
     "output_type": "stream",
     "text": [
      "+---------+----+---+\n",
      "|     data|name|age|\n",
      "+---------+----+---+\n",
      "|[a, b, c]|mary| 23|\n",
      "|       []|join| 33|\n",
      "| [aa, bb]|jack|  4|\n",
      "+---------+----+---+\n",
      "\n",
      "+---+---+\n",
      "|pos|col|\n",
      "+---+---+\n",
      "|  0|  a|\n",
      "|  1|  b|\n",
      "|  2|  c|\n",
      "|  0| aa|\n",
      "|  1| bb|\n",
      "+---+---+\n",
      "\n",
      "+---+---------+----------------+\n",
      "|  a|  intlist|        mapfield|\n",
      "+---+---------+----------------+\n",
      "|  1|[1, 2, 3]|[a -> b, c -> d]|\n",
      "+---+---------+----------------+\n",
      "\n",
      "+---+---+\n",
      "|pos|col|\n",
      "+---+---+\n",
      "|  0|  1|\n",
      "|  1|  2|\n",
      "|  2|  3|\n",
      "+---+---+\n",
      "\n",
      "+---+---+-----+\n",
      "|pos|key|value|\n",
      "+---+---+-----+\n",
      "|  0|  a|    b|\n",
      "|  1|  c|    d|\n",
      "+---+---+-----+\n",
      "\n"
     ]
    }
   ],
   "source": [
    "# 5、posexplode\n",
    "# # Returns a new row for each element with position in the given array or map.\n",
    "from pyspark.sql import Row\n",
    "from pyspark.sql.functions import posexplode\n",
    "df = spark.createDataFrame([([\"a\", \"b\", \"c\"], \"mary\", 23), ([],\"join\", 33), ([\"aa\", \"bb\"], \"jack\", 4)], ['data',\"name\", \"age\"])\n",
    "df.show()\n",
    "df.select(posexplode('data')).show()\n",
    "\n",
    "eDF = spark.createDataFrame([Row(a=1, intlist=[1,2,3], mapfield={\"a\": \"b\", \"c\":\"d\"})])\n",
    "eDF.show()\n",
    "eDF.select(posexplode('intlist')).show()\n",
    "eDF.select(posexplode('mapfield')).show()"
   ]
  },
  {
   "cell_type": "code",
   "execution_count": null,
   "metadata": {},
   "outputs": [],
   "source": [
    "# 6. json操作\n",
    "# 6.1. getjsonobject\n",
    "# 6.2. json_tuple\n",
    "# 6.3. from_json\n",
    "# 6.4. to_json"
   ]
  },
  {
   "cell_type": "code",
   "execution_count": null,
   "metadata": {},
   "outputs": [],
   "source": [
    "# 7、列表排序\n",
    "from pyspark.sql.functions import sort_array\n",
    "\n",
    "df = spark.createDataFrame([([2, 1, 3],),([1],),([],)], ['data'])\n",
    "\n",
    "df.select(sort_array(df.data).alias('r')).show()\n",
    "df.select(sort_array(df.data, asc=False).alias('r')).show()"
   ]
  }
 ],
 "metadata": {
  "kernelspec": {
   "display_name": "Python 3",
   "language": "python",
   "name": "python3"
  },
  "language_info": {
   "codemirror_mode": {
    "name": "ipython",
    "version": 3
   },
   "file_extension": ".py",
   "mimetype": "text/x-python",
   "name": "python",
   "nbconvert_exporter": "python",
   "pygments_lexer": "ipython3",
   "version": "3.6.4"
  }
 },
 "nbformat": 4,
 "nbformat_minor": 2
}
