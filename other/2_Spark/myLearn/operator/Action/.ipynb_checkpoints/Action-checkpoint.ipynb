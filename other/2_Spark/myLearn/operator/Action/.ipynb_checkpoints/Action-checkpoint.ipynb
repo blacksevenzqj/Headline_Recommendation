{
 "cells": [
  {
   "cell_type": "code",
   "execution_count": 1,
   "metadata": {},
   "outputs": [],
   "source": [
    "from pyspark import SparkConf, SparkContext\n",
    "\n",
    "conf = SparkConf().setMaster(\"local\").setAppName(\"MyLearn\")\n",
    "sc = SparkContext(conf = conf)"
   ]
  },
  {
   "cell_type": "code",
   "execution_count": 2,
   "metadata": {},
   "outputs": [
    {
     "name": "stdout",
     "output_type": "stream",
     "text": [
      "15\n",
      "abcde\n"
     ]
    }
   ],
   "source": [
    "# 1、reduce(f)\n",
    "# reduce函数是将rdd中的每个元素两两之间按函数f进行操作，然后再结果再两两之间按f进行操作，一直进行下去，\n",
    "# 即所谓的shuffle过程。reduce得到的结果是普通的python对象，而不是rdd.\n",
    "# operator 操作函数 https://docs.python.org/3/library/operator.html\n",
    "from operator import *\n",
    "print(sc.parallelize([1, 2, 3, 4, 5]).reduce(add))\n",
    "print(sc.parallelize([\"a\", \"b\", \"c\", \"d\", \"e\"]).reduce(concat))"
   ]
  },
  {
   "cell_type": "code",
   "execution_count": 4,
   "metadata": {},
   "outputs": [
    {
     "data": {
      "text/plain": [
       "[1, 2, 3, 4, 5, 6, 7, 8]"
      ]
     },
     "execution_count": 4,
     "metadata": {},
     "output_type": "execute_result"
    }
   ],
   "source": [
    "# 2、collect()\n",
    "rdd = sc.parallelize([1,2,3,4,5,6,7,8])\n",
    "rdd.collect()"
   ]
  },
  {
   "cell_type": "code",
   "execution_count": 5,
   "metadata": {},
   "outputs": [
    {
     "data": {
      "text/plain": [
       "8"
      ]
     },
     "execution_count": 5,
     "metadata": {},
     "output_type": "execute_result"
    }
   ],
   "source": [
    "# 3、count()\n",
    "rdd = sc.parallelize([1,2,3,4,5,6,7,8])\n",
    "rdd.count()"
   ]
  },
  {
   "cell_type": "code",
   "execution_count": 6,
   "metadata": {},
   "outputs": [
    {
     "data": {
      "text/plain": [
       "1"
      ]
     },
     "execution_count": 6,
     "metadata": {},
     "output_type": "execute_result"
    }
   ],
   "source": [
    "# 4、first()\n",
    "rdd = sc.parallelize([1,2,3,4,5,6,7,8])\n",
    "rdd.first()"
   ]
  },
  {
   "cell_type": "code",
   "execution_count": 7,
   "metadata": {},
   "outputs": [
    {
     "data": {
      "text/plain": [
       "[1, 2, 3]"
      ]
     },
     "execution_count": 7,
     "metadata": {},
     "output_type": "execute_result"
    }
   ],
   "source": [
    "# 5、take()\n",
    "rdd = sc.parallelize([1,2,3,4,5,6,7,8])\n",
    "rdd.take(3)"
   ]
  },
  {
   "cell_type": "code",
   "execution_count": 9,
   "metadata": {},
   "outputs": [
    {
     "data": {
      "text/plain": [
       "[2, 3, 4]"
      ]
     },
     "execution_count": 9,
     "metadata": {},
     "output_type": "execute_result"
    }
   ],
   "source": [
    "# 6、takeOrdered()\n",
    "rdd = sc.parallelize([2,5,4,6,8,3])\n",
    "rdd.takeOrdered(3)"
   ]
  },
  {
   "cell_type": "code",
   "execution_count": 8,
   "metadata": {},
   "outputs": [
    {
     "name": "stdout",
     "output_type": "stream",
     "text": [
      "[['0_1', '0_2', '0_3'], ['1_4', '1_5', '1_6'], ['2_7', '2_8', '2_9']]\n",
      "45\n",
      "85\n"
     ]
    }
   ],
   "source": [
    "# 7、aggregate(zeroValue, seqOp, combOp)\n",
    "seqOp = (lambda x, y : (x + y))\n",
    "combOp = (lambda x, y : (x + y))\n",
    "\n",
    "rdd = sc.parallelize([1,2,3,4,5,6,7,8,9], 3)\n",
    "\n",
    "mapRDD = rdd.mapPartitionsWithIndex(lambda index,iterator: [str(index) + \"_\" + str(i) for i in iterator])\n",
    "glomv = mapRDD.glom().collect() # 两个分区，\n",
    "print(glomv)\n",
    "\n",
    "# 注意：aggregate进行 分区间 累加操作时，还要加一个初始值10。而aggregateByKey不会。\n",
    "print(rdd.aggregate(0, seqOp, combOp))\n",
    "print(rdd.aggregate(10, seqOp, combOp)) # 分区间 累加操作时，还要加一个初始值，所以等于85"
   ]
  },
  {
   "cell_type": "code",
   "execution_count": 11,
   "metadata": {},
   "outputs": [
    {
     "name": "stdout",
     "output_type": "stream",
     "text": [
      "(10, 4)\n"
     ]
    }
   ],
   "source": []
  },
  {
   "cell_type": "code",
   "execution_count": 9,
   "metadata": {},
   "outputs": [
    {
     "data": {
      "text/plain": [
       "75"
      ]
     },
     "execution_count": 9,
     "metadata": {},
     "output_type": "execute_result"
    }
   ],
   "source": []
  },
  {
   "cell_type": "code",
   "execution_count": null,
   "metadata": {},
   "outputs": [],
   "source": []
  }
 ],
 "metadata": {
  "kernelspec": {
   "display_name": "Python 3",
   "language": "python",
   "name": "python3"
  },
  "language_info": {
   "codemirror_mode": {
    "name": "ipython",
    "version": 3
   },
   "file_extension": ".py",
   "mimetype": "text/x-python",
   "name": "python",
   "nbconvert_exporter": "python",
   "pygments_lexer": "ipython3",
   "version": "3.6.4"
  }
 },
 "nbformat": 4,
 "nbformat_minor": 2
}
