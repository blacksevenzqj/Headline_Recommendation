{
 "cells": [
  {
   "cell_type": "markdown",
   "metadata": {},
   "source": [
    "## 11.Spark Streaming与Kafka、Flume"
   ]
  },
  {
   "cell_type": "code",
   "execution_count": 2,
   "metadata": {},
   "outputs": [],
   "source": [
    "# spark配置信息\n",
    "from pyspark import SparkConf\n",
    "import pyspark\n",
    "\n",
    "SPARK_APP_NAME = \"processing_online_data\"\n",
    "SPARK_URL = \"yarn\"\n",
    "\n",
    "conf = SparkConf()    # 创建spark config对象\n",
    "config = (\n",
    "\t(\"spark.app.name\", SPARK_APP_NAME),    # 设置启动的spark的app名称，没有提供，将随机产生一个名称\n",
    "\t(\"spark.executor.memory\", \"2g\"),    # 设置该app启动时占用的内存用量，默认1g\n",
    "    (\"spark.executor.cores\", \"2\"),   # 设置spark executor使用的CPU核心数\n",
    "    (\"spark.executor.instances\", 1)    # 设置spark executor数量，yarn时起作用\n",
    ")\n",
    "# 查看更详细配置及说明：https://spark.apache.org/docs/latest/configuration.html\n",
    "# \n",
    "conf.setAll(config)\n",
    "\n",
    "sc = pyspark.SparkContext(master=SPARK_URL, conf=conf)"
   ]
  },
  {
   "cell_type": "markdown",
   "metadata": {},
   "source": [
    "#### StreamingContext同sqlContext一样，这里作为流式计算的上下文"
   ]
  },
  {
   "cell_type": "code",
   "execution_count": 3,
   "metadata": {},
   "outputs": [],
   "source": [
    "# 注意：初次安装并运行时，由于使用了kafka，所以会自动下载一系列的依赖jar包，会耗费一定时间\n",
    "\n",
    "from pyspark.streaming.kafka import KafkaUtils\n",
    "from pyspark.streaming import StreamingContext\n",
    "\n",
    "# 第2个参数表示 程序运行间隔时间\n",
    "ssc = StreamingContext(sc, 2)\n",
    "\n",
    "kafkaParams = {\"metadata.broker.list\": \"192.168.19.137:9092\"}\n",
    "dstream = KafkaUtils.createDirectStream(ssc, [\"mytopic\"], kafkaParams)"
   ]
  },
  {
   "cell_type": "markdown",
   "metadata": {},
   "source": [
    "#### [DStream](https://spark.apache.org/docs/2.2.2/api/python/pyspark.streaming.html?highlight=dstream#pyspark.streaming.DStream)\n",
    "\n",
    "Discretized Stream是Spark Streaming的基础抽象，代表持续性的数据流和经过各种Spark算子操作后的结果数据流。\n",
    "\n",
    "在内部实现上，DStream是一系列连续的RDD来表示。每个RDD含有一段时间间隔内的数据"
   ]
  },
  {
   "cell_type": "code",
   "execution_count": 4,
   "metadata": {},
   "outputs": [],
   "source": [
    "def m(e):\n",
    "    print(\"map\")    # 不会出现在当前进程\n",
    "    return e[1].split(\",\")\n",
    "\n",
    "i = 100\n",
    "j = [100]\n",
    "\n",
    "def f(rdd):\n",
    "    # 注意！注意！注意！\n",
    "    # foreachRDD内部的打印信息会在当前进程出现，说明该方法是在当前进程执行的\n",
    "    # 在内部可以访问全局变量\n",
    "    \n",
    "    # DStream的绝大部分方法都是返回一个新的DStream对象\n",
    "    # 只有当调用foreachRDD后，才会真正实现“注册”前面一系列的逻辑，且只有在这之后才可以调用ssc.start()\n",
    "    # 因此可以把foreachRDD当做一系列操作的结束，在这里面做最终的处理\n",
    "    global i\n",
    "    \n",
    "    print(\"foreachRDD\", i, j, rdd.collect())\n",
    "    \n",
    "    i += 1\n",
    "    j[0] += 1"
   ]
  },
  {
   "cell_type": "code",
   "execution_count": 5,
   "metadata": {},
   "outputs": [],
   "source": [
    "dstream.map(m).foreachRDD(f)"
   ]
  },
  {
   "cell_type": "code",
   "execution_count": 6,
   "metadata": {},
   "outputs": [
    {
     "name": "stdout",
     "output_type": "stream",
     "text": [
      "foreachRDD 100 [100] []\n",
      "foreachRDD 101 [101] []\n",
      "foreachRDD 102 [102] []\n",
      "foreachRDD 103 [103] []\n",
      "foreachRDD 104 [104] []\n",
      "foreachRDD 105 [105] []\n",
      "foreachRDD 106 [106] []\n",
      "foreachRDD 107 [107] []\n",
      "foreachRDD 108 [108] []\n",
      "foreachRDD 109 [109] []\n",
      "foreachRDD 110 [110] []\n",
      "foreachRDD 111 [111] []\n",
      "foreachRDD 112 [112] []\n",
      "foreachRDD 113 [113] []\n",
      "foreachRDD 114 [114] []\n",
      "foreachRDD 115 [115] []\n",
      "foreachRDD 116 [116] []\n",
      "foreachRDD 117 [117] []\n",
      "foreachRDD 118 [118] []\n",
      "foreachRDD 119 [119] []\n",
      "foreachRDD 120 [120] []\n",
      "foreachRDD 121 [121] []\n",
      "foreachRDD 122 [122] []\n",
      "foreachRDD 123 [123] []\n"
     ]
    }
   ],
   "source": [
    "ssc.start()\n",
    "# ssc start后，才会真正启动DStream，不断的获取数据，进行前面在DStream已经写好的一系列逻辑算子"
   ]
  },
  {
   "cell_type": "code",
   "execution_count": null,
   "metadata": {},
   "outputs": [],
   "source": [
    "ssc.stop()\n",
    "# stop后，就不能再继续使用，ssc不能复用"
   ]
  }
 ],
 "metadata": {
  "kernelspec": {
   "display_name": "Python 3",
   "language": "python",
   "name": "python3"
  },
  "language_info": {
   "codemirror_mode": {
    "name": "ipython",
    "version": 3
   },
   "file_extension": ".py",
   "mimetype": "text/x-python",
   "name": "python",
   "nbconvert_exporter": "python",
   "pygments_lexer": "ipython3",
   "version": "3.6.5"
  }
 },
 "nbformat": 4,
 "nbformat_minor": 2
}
