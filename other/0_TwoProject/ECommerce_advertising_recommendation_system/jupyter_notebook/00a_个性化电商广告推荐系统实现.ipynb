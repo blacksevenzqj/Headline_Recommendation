{
 "cells": [
  {
   "cell_type": "markdown",
   "metadata": {},
   "source": [
    "# 个性化电商广告推荐系统业务分析与实现"
   ]
  },
  {
   "cell_type": "markdown",
   "metadata": {},
   "source": [
    "## 一、基础推荐系统业务流程/技术架构分析\n",
    "\n",
    "**推荐系统基本组成：**\n",
    "\n",
    "    - 基础数据层：基础数据收集和存储，为数据处理层提供基础数据\n",
    "    - 数据处理层：数据预处理、特征工程、数据分析运算，为推荐业务层提供缓存数据\n",
    "    - 推荐业务层：处理推荐请求，建立推荐任务，根据召回的候选集合、排序、过滤的实现，完成推荐任务生成最终推荐结果\n",
    "\n",
    "**基础推荐系统业务流程：**\n",
    "![image.png](images/RS基础业务架构.png)"
   ]
  },
  {
   "cell_type": "markdown",
   "metadata": {},
   "source": [
    "#### 推荐系统主要流程： \n",
    "\n",
    "    - 基础数据层：\n",
    "        - 业务数据库 ==> 用户/物品基本属性信息数据 ==> 分布式文件系统 >>>> offline\n",
    "        \n",
    "        - 日志系统 ==> 推荐系统业务日志数据 ==> 分布式文件系统 >>>> offline\n",
    "        \n",
    "        - 日志系统 ==> 推荐系统业务日志数据 ==> 消息队列 >>>>  online\n",
    "    \n",
    "    - 数据处理层：\n",
    "    \n",
    "        - offline(离线处理/批量处理)：T+1的推荐数据更新(求准)\n",
    "        \n",
    "            - 用户历史行为日志数据  ==> 评分规则(自定义)  ==> 用户-物品偏好评分 ==> 评分矩阵/ALS模型 >>>> 协同过滤离线召回\n",
    "            \n",
    "            - 用户历史行为日志数据 ==> 历史样本数据  >>>> 排序模型训练\n",
    "            \n",
    "            - 用户历史行为日志数据 + 用户/物品基本属性信息数据 ==> 兴趣特征 + 属性特征 + 画像特征\n",
    "            \n",
    "            - 兴趣特征（仅样本） + 属性特征（仅样本）  ==> 样本特征数据  >>>> 排序模型训练\n",
    "            \n",
    "            - (历史样本数据 + 样本特征数据) + 逻辑回归算法(LR)/梯度提升决策树算法(GBDT) ==> 排序模型  >>>> 在线实时排序\n",
    "            \n",
    "            - 兴趣特征（所有） + 属性特征（所有） ==> 缓存(离线特征) >>>  在线实时排序\n",
    "            \n",
    "        - online(在线处理/流式处理)：秒级推荐数据更新(求快)\n",
    "        \n",
    "            - 用户实时行为日志数据 ==> 提取属性信息特征 ==> 缓存(实时特征)\n",
    "            \n",
    "            - 用户实时行为日志数据 ==> 提取关联特征 ==> 实时召回 ==> 缓存(实时召回集)\n",
    "            \n",
    "            - 实时特征/实时召回？\n",
    "    \n",
    "    - 推荐业务层：召回 ===> 排序 ===> 过滤\n",
    "    \n",
    "        - offline：进行离线召回产生候选集并进行缓存\n",
    "        \n",
    "            - 离线召回(协同过滤召回 + 画像召回 + 热门召回) ==> 召回候选集 ==> 缓存(离线召回集)\n",
    "            \n",
    "        - online(推荐任务处理)：实时推荐\n",
    "        \n",
    "            - 处理推荐请求 ==> 建立推荐任务(用户id，场景id) ==> 排序模型 + 特征数据(来自缓存) ==> 排序结果 ==> 过滤 ==> 最终推荐结果"
   ]
  },
  {
   "cell_type": "markdown",
   "metadata": {},
   "source": [
    "2. 基于的Lambda架构的基础推荐系统技术架构\n",
    "\n",
    "![image.png](images/RS基础技术架构.png)"
   ]
  },
  {
   "cell_type": "markdown",
   "metadata": {},
   "source": [
    "## 二、电商广告推荐\n",
    "\n",
    "电商广告推荐通常使用广告点击率(CTR--Click-Through-Rate)预测来实现\n",
    "\n",
    "#### 点击率预测 VS 推荐算法\n",
    "\n",
    "点击率预测需要给出精准的点击概率，比如广告A点击率0.5%、广告B的点击率0.12%等；而推荐算法很多时候只需要得出一个最优的次序A>B>C即可。\n",
    "\n",
    "点击率预测使用的算法通常是如逻辑回归(Logic Regression)这样的机器学习算法，而推荐算法则是一些基于协同过滤推荐、基于内容的推荐等思想实现的算法\n",
    "\n",
    "#### 点击率 VS 转化率\n",
    "\n",
    "点击率预测是对每次广告的点击情况做出预测，可以判定这次为点击或不点击，也可以给出点击或不点击的概率\n",
    "\n",
    "转化率指的是从状态A进入到状态B的概率，电商的转化率通常是指到达网站后，进而有成交记录的用户比率，如用户成交量/用户访问量\n",
    "\n",
    "#### 搜索和非搜索广告点击率预测的区别\n",
    "\n",
    "搜索中有很强的搜索信号-“查询词(Query)”，查询词和广告内容的匹配程度很大程度影响了点击概率，搜索广告的点击率普遍较高\n",
    "\n",
    "非搜索广告（例如展示广告，信息流广告）的点击率的计算很多就来源于用户的兴趣和广告自身的特征，以及上下文环境。通常好位置能达到百分之几的点击率。对于很多底部的广告，点击率非常低，常常是千分之几，甚至更低"
   ]
  },
  {
   "cell_type": "markdown",
   "metadata": {},
   "source": [
    "## 三、数据集介绍\n",
    "\n",
    "Ali_Display_Ad_Click是阿里巴巴提供的一个淘宝展示广告点击率预估数据集\n",
    "\n",
    "数据集来源：天池竞赛"
   ]
  },
  {
   "cell_type": "markdown",
   "metadata": {},
   "source": [
    "#### 1. 原始样本骨架raw_sample\n",
    "\n",
    "淘宝网站中随机抽样了114万用户8天内的广告展示/点击日志（2600万条记录），构成原始的样本骨架。\n",
    "字段说明如下： \n",
    "1. user_id：脱敏过的用户ID；\n",
    "2. adgroup_id：脱敏过的广告单元ID；\n",
    "3. time_stamp：时间戳；\n",
    "4. pid：资源位；\n",
    "5. noclk：为1代表没有点击；为0代表点击；\n",
    "6. clk：为0代表没有点击；为1代表点击；\n",
    "\n",
    "用前面7天的做训练样本（20170506-20170512），用第8天的做测试样本（20170513）"
   ]
  },
  {
   "cell_type": "markdown",
   "metadata": {},
   "source": [
    "#### 2. 广告基本信息表ad_feature\n",
    "本数据集涵盖了raw_sample中全部广告的基本信息(约80万条目)。字段说明如下： \n",
    "1. adgroup_id：脱敏过的广告ID；\n",
    "2. cate_id：脱敏过的商品类目ID；\n",
    "1. campaign_id：脱敏过的广告计划ID；\n",
    "1. customer_id:脱敏过的广告主ID；\n",
    "1. brand_id：脱敏过的品牌ID；\n",
    "1. price: 宝贝的价格\n",
    "\n",
    "其中一个广告ID对应一个商品（宝贝），一个宝贝属于一个类目，一个宝贝属于一个品牌。"
   ]
  },
  {
   "cell_type": "markdown",
   "metadata": {},
   "source": [
    "#### 3. 用户基本信息表user_profile\n",
    "本数据集涵盖了raw_sample中全部用户的基本信息(约100多万用户)。字段说明如下： \n",
    "1. userid：脱敏过的用户ID；\n",
    "1. cms_segid：微群ID；\n",
    "1. cms_group_id：cms_group_id；\n",
    "1. final_gender_code：性别 1:男,2:女；\n",
    "1. age_level：年龄层次；  1234\n",
    "1. pvalue_level：消费档次，1:低档，2:中档，3:高档；\n",
    "1. shopping_level：购物深度，1:浅层用户,2:中度用户,3:深度用户\n",
    "1. occupation：是否大学生 ，1:是,0:否\n",
    "1. new_user_class_level：城市层级"
   ]
  },
  {
   "cell_type": "markdown",
   "metadata": {},
   "source": [
    "#### 4. 用户的行为日志behavior_log\n",
    "本数据集涵盖了raw_sample中全部用户22天内的购物行为(共七亿条记录)。字段说明如下：\n",
    "1. user：脱敏过的用户ID；\n",
    "1. time_stamp：时间戳；\n",
    "1. btag：行为类型,  包括以下四种：\n",
    "    - 类型 | 说明\n",
    "    - pv |\t浏览\n",
    "    - cart |\t加入购物车\n",
    "    - fav | 喜欢\n",
    "    - buy | 购买\n",
    "1. cate_id：脱敏过的商品类目id；\n",
    "1. brand_id: 脱敏过的品牌id；\n",
    "\n",
    "这里以user + time_stamp为key，会有很多重复的记录；这是因为我们的不同的类型的行为数据是不同部门记录的，在打包到一起的时候，实际上会有小的偏差（即两个一样的time_stamp实际上是差异比较小的两个时间）"
   ]
  },
  {
   "cell_type": "code",
   "execution_count": 1,
   "metadata": {},
   "outputs": [
    {
     "name": "stdout",
     "output_type": "stream",
     "text": [
      "9.6M\t/root/notebook_dir/project1-ad-rs/datasets/ad_feature.csv.tar.gz\r\n",
      "4.7G\t/root/notebook_dir/project1-ad-rs/datasets/behavior_log.csv.tar.gz\r\n",
      "232M\t/root/notebook_dir/project1-ad-rs/datasets/raw_sample.csv.tar.gz\r\n",
      "5.9M\t/root/notebook_dir/project1-ad-rs/datasets/user_profile.csv.tar.gz\r\n"
     ]
    }
   ],
   "source": [
    "!du -h /root/notebook_dir/project1-ad-rs/datasets/*"
   ]
  },
  {
   "cell_type": "markdown",
   "metadata": {},
   "source": [
    "## 四、 电商广告推荐分析\n",
    "\n",
    "主要包括\n",
    "\n",
    "- 一份广告点击的样本数据raw_sample.csv：体现的是用户对不同位置广告点击、没点击的情况\n",
    "\n",
    "- 一份广告基本信息数据ad_feature.csv：体现的是每个广告的类目(id)、品牌(id)、价格特征\n",
    "\n",
    "- 一份用户基本信息数据user_profile.csv：体现的是用户群组、性别、年龄、消费购物档次、所在城市级别等特征\n",
    "\n",
    "- 一份用户行为日志数据behavior_log.csv：体现用户对商品类目(id)、品牌(id)的浏览、加购物车、收藏、购买等信息\n",
    "\n",
    "我们是在对非搜索类型的广告进行点击率预测和推荐(没有搜索词、没有广告的内容特征信息)\n",
    "\n",
    "1. 推荐业务处理主要流程： 召回 ===> 排序 ===> 过滤\n",
    "\n",
    "    - 离线处理业务流\n",
    "    \n",
    "        - raw_sample.csv ==> 历史样本数据\n",
    "        \n",
    "        - ad_feature.csv ==> 广告特征数据\n",
    "        \n",
    "        - user_profile.csv ==> 用户特征数据\n",
    "        \n",
    "        - raw_sample.csv + ad_feature.csv + user_profile.csv ==> CTR点击率预测模型\n",
    "        \n",
    "        - behavior_log.csv ==> 评分数据 ==> user-cate/brand评分数据 ==> 协同过滤 ==> top-N cate/brand ==> 关联广告\n",
    "        \n",
    "        - 协同过滤召回 ==> top-N cate/brand ==> 关联对应的广告完成召回\n",
    "\n",
    "    - 在线处理业务流\n",
    "    \n",
    "        - 数据处理部分：\n",
    "        \n",
    "            - 实时行为日志 ==>  实时特征  ==> 缓存\n",
    "            \n",
    "            - 实时行为日志 ==>  实时商品类别/品牌 ==> 实时广告召回集 ==> 缓存\n",
    "            \n",
    "        - 推荐任务部分：\n",
    "        \n",
    "            - CTR点击率预测模型 + 广告/用户特征(缓存) + 对应的召回集(缓存) ==> 点击率排序 ==> top-N 广告推荐结果\n",
    "\n",
    "2. 涉及技术：Flume、Kafka、Spark-streming\\HDFS、Spark SQL、Spark ML、Redis\n",
    "\n",
    "    - Flume：日志数据收集\n",
    "    \n",
    "    - Kafka：实时日志数据处理队列\n",
    "    \n",
    "    - HDFS：存储数据\n",
    "    \n",
    "    - Spark SQL：离线处理\n",
    "    \n",
    "    - Spark ML：模型训练\n",
    "    \n",
    "    - Redis：缓存\n",
    "\n"
   ]
  },
  {
   "cell_type": "code",
   "execution_count": null,
   "metadata": {},
   "outputs": [],
   "source": []
  }
 ],
 "metadata": {
  "kernelspec": {
   "display_name": "Python 3",
   "language": "python",
   "name": "python3"
  },
  "language_info": {
   "codemirror_mode": {
    "name": "ipython",
    "version": 3
   },
   "file_extension": ".py",
   "mimetype": "text/x-python",
   "name": "python",
   "nbconvert_exporter": "python",
   "pygments_lexer": "ipython3",
   "version": "3.6.4"
  }
 },
 "nbformat": 4,
 "nbformat_minor": 2
}
