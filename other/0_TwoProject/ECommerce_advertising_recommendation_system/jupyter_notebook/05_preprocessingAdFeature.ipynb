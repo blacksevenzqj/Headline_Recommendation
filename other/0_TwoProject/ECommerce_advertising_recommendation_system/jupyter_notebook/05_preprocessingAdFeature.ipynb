{
 "cells": [
  {
   "cell_type": "markdown",
   "metadata": {},
   "source": [
    "## 分析并预处理ad_feature数据集"
   ]
  },
  {
   "cell_type": "code",
   "execution_count": 2,
   "metadata": {},
   "outputs": [],
   "source": [
    "# spark配置信息\n",
    "from pyspark import SparkConf\n",
    "from pyspark.sql import SparkSession\n",
    "\n",
    "SPARK_APP_NAME = \"preprocessingAdFeature\"\n",
    "SPARK_URL = \"yarn\"\n",
    "\n",
    "conf = SparkConf()    # 创建spark config对象\n",
    "config = (\n",
    "\t(\"spark.app.name\", SPARK_APP_NAME),    # 设置启动的spark的app名称，没有提供，将随机产生一个名称\n",
    "\t(\"spark.executor.memory\", \"2g\"),    # 设置该app启动时占用的内存用量，默认1g\n",
    "\t(\"spark.master\", SPARK_URL),    # spark master的地址\n",
    "    (\"spark.executor.cores\", \"2\"),   # 设置spark executor使用的CPU核心数\n",
    "    (\"spark.executor.instances\", 1)    # 设置spark executor数量，yarn时起作用\n",
    ")\n",
    "# 查看更详细配置及说明：https://spark.apache.org/docs/latest/configuration.html\n",
    "# \n",
    "conf.setAll(config)\n",
    "\n",
    "# 利用config对象，创建spark session\n",
    "spark = SparkSession.builder.config(conf=conf).getOrCreate()"
   ]
  },
  {
   "cell_type": "code",
   "execution_count": 1,
   "metadata": {},
   "outputs": [
    {
     "name": "stdout",
     "output_type": "stream",
     "text": [
      "Found 4 items\r\n",
      "drwxr-xr-x   - root supergroup           0 2019-03-26 20:22 /workspace/3.rs_project/project1/dataset/ad_feature.csv\r\n",
      "-rw-r--r--   1 root supergroup 23728773580 2019-03-26 20:35 /workspace/3.rs_project/project1/dataset/behavior_log.csv\r\n",
      "drwxr-xr-x   - root supergroup           0 2019-03-26 20:36 /workspace/3.rs_project/project1/dataset/raw_sample.csv\r\n",
      "drwxr-xr-x   - root supergroup           0 2019-03-26 20:36 /workspace/3.rs_project/project1/dataset/user_profile.csv\r\n"
     ]
    }
   ],
   "source": [
    "!hadoop fs -ls /workspace/3.rs_project/project1/dataset"
   ]
  },
  {
   "cell_type": "code",
   "execution_count": 4,
   "metadata": {},
   "outputs": [
    {
     "name": "stdout",
     "output_type": "stream",
     "text": [
      "+----------+-------+-----------+--------+------+-----+\n",
      "|adgroup_id|cate_id|campaign_id|customer| brand|price|\n",
      "+----------+-------+-----------+--------+------+-----+\n",
      "|     63133|   6406|      83237|       1| 95471|170.0|\n",
      "|    313401|   6406|      83237|       1| 87331|199.0|\n",
      "|    248909|    392|      83237|       1| 32233| 38.0|\n",
      "|    208458|    392|      83237|       1|174374|139.0|\n",
      "|    110847|   7211|     135256|       2|145952|32.99|\n",
      "|    607788|   6261|     387991|       6|207800|199.0|\n",
      "|    375706|   4520|     387991|       6|  NULL| 99.0|\n",
      "|     11115|   7213|     139747|       9|186847| 33.0|\n",
      "|     24484|   7207|     139744|       9|186847| 19.0|\n",
      "|     28589|   5953|     395195|      13|  NULL|428.0|\n",
      "|     23236|   5953|     395195|      13|  NULL|368.0|\n",
      "|    300556|   5953|     395195|      13|  NULL|639.0|\n",
      "|     92560|   5953|     395195|      13|  NULL|368.0|\n",
      "|    590965|   4284|      28145|      14|454237|249.0|\n",
      "|    529913|   4284|      70206|      14|  NULL|249.0|\n",
      "|    546930|   4284|      28145|      14|  NULL|249.0|\n",
      "|    639794|   6261|      70206|      14| 37004| 89.9|\n",
      "|    335413|   4284|      28145|      14|  NULL|249.0|\n",
      "|    794890|   4284|      70206|      14|454237|249.0|\n",
      "|    684020|   6261|      70206|      14| 37004| 99.0|\n",
      "+----------+-------+-----------+--------+------+-----+\n",
      "only showing top 20 rows\n",
      "\n"
     ]
    }
   ],
   "source": [
    "# 从HDFS中加载广告基本信息数据，返回spark dafaframe对象\n",
    "df = spark.read.csv(\"hdfs://hadoop-master:9000/workspace/3.rs_project/project1//dataset/ad_feature.csv\", header=True)\n",
    "df.show()    # 展示数据，默认前20条"
   ]
  },
  {
   "cell_type": "code",
   "execution_count": 5,
   "metadata": {},
   "outputs": [
    {
     "name": "stdout",
     "output_type": "stream",
     "text": [
      "root\n",
      " |-- adgroup_id: string (nullable = true)\n",
      " |-- cate_id: string (nullable = true)\n",
      " |-- campaign_id: string (nullable = true)\n",
      " |-- customer: string (nullable = true)\n",
      " |-- brand: string (nullable = true)\n",
      " |-- price: string (nullable = true)\n",
      "\n",
      "root\n",
      " |-- adgroupId: integer (nullable = true)\n",
      " |-- cateId: integer (nullable = true)\n",
      " |-- campaignId: integer (nullable = true)\n",
      " |-- customerId: integer (nullable = true)\n",
      " |-- brandId: integer (nullable = true)\n",
      " |-- price: float (nullable = true)\n",
      "\n",
      "+---------+------+----------+----------+-------+-----+\n",
      "|adgroupId|cateId|campaignId|customerId|brandId|price|\n",
      "+---------+------+----------+----------+-------+-----+\n",
      "|    63133|  6406|     83237|         1|  95471|170.0|\n",
      "|   313401|  6406|     83237|         1|  87331|199.0|\n",
      "|   248909|   392|     83237|         1|  32233| 38.0|\n",
      "|   208458|   392|     83237|         1| 174374|139.0|\n",
      "|   110847|  7211|    135256|         2| 145952|32.99|\n",
      "|   607788|  6261|    387991|         6| 207800|199.0|\n",
      "|   375706|  4520|    387991|         6|     -1| 99.0|\n",
      "|    11115|  7213|    139747|         9| 186847| 33.0|\n",
      "|    24484|  7207|    139744|         9| 186847| 19.0|\n",
      "|    28589|  5953|    395195|        13|     -1|428.0|\n",
      "|    23236|  5953|    395195|        13|     -1|368.0|\n",
      "|   300556|  5953|    395195|        13|     -1|639.0|\n",
      "|    92560|  5953|    395195|        13|     -1|368.0|\n",
      "|   590965|  4284|     28145|        14| 454237|249.0|\n",
      "|   529913|  4284|     70206|        14|     -1|249.0|\n",
      "|   546930|  4284|     28145|        14|     -1|249.0|\n",
      "|   639794|  6261|     70206|        14|  37004| 89.9|\n",
      "|   335413|  4284|     28145|        14|     -1|249.0|\n",
      "|   794890|  4284|     70206|        14| 454237|249.0|\n",
      "|   684020|  6261|     70206|        14|  37004| 99.0|\n",
      "+---------+------+----------+----------+-------+-----+\n",
      "only showing top 20 rows\n",
      "\n"
     ]
    }
   ],
   "source": [
    "# 注意：由于本数据集中存在NULL字样的数据，无法直接设置schema，只能先将NULL类型的数据处理掉，然后进行类型转换\n",
    "\n",
    "from pyspark.sql.types import StructType, StructField, IntegerType, FloatType\n",
    "\n",
    "# 替换掉NULL字符串，替换掉\n",
    "df = df.replace(\"NULL\", \"-1\")\n",
    "\n",
    "# 打印df结构信息\n",
    "df.printSchema()   \n",
    "# 更改df表结构：更改列类型和列名称\n",
    "ad_feature_df = df.\\\n",
    "    withColumn(\"adgroup_id\", df.adgroup_id.cast(IntegerType())).withColumnRenamed(\"adgroup_id\", \"adgroupId\").\\\n",
    "    withColumn(\"cate_id\", df.cate_id.cast(IntegerType())).withColumnRenamed(\"cate_id\", \"cateId\").\\\n",
    "    withColumn(\"campaign_id\", df.campaign_id.cast(IntegerType())).withColumnRenamed(\"campaign_id\", \"campaignId\").\\\n",
    "    withColumn(\"customer\", df.customer.cast(IntegerType())).withColumnRenamed(\"customer\", \"customerId\").\\\n",
    "    withColumn(\"brand\", df.brand.cast(IntegerType())).withColumnRenamed(\"brand\", \"brandId\").\\\n",
    "    withColumn(\"price\", df.price.cast(FloatType()))\n",
    "ad_feature_df.printSchema()\n",
    "ad_feature_df.show()"
   ]
  },
  {
   "cell_type": "code",
   "execution_count": 6,
   "metadata": {
    "scrolled": true
   },
   "outputs": [
    {
     "name": "stdout",
     "output_type": "stream",
     "text": [
      "总广告条数： 846811\n",
      "cateId数值个数： 6769\n",
      "campaignId数值个数： 423436\n",
      "customerId数值个数： 255875\n",
      "brandId数值个数： 99815\n",
      "+---------+------+----------+----------+-------+-----+\n",
      "|adgroupId|cateId|campaignId|customerId|brandId|price|\n",
      "+---------+------+----------+----------+-------+-----+\n",
      "|   485749|  9970|    352666|    140520|     -1| 0.01|\n",
      "|    88975|  9996|    198424|    182415|     -1| 0.01|\n",
      "|   109704| 10539|     59774|     90351| 202710| 0.01|\n",
      "|    49911|  7032|    129079|    172334|     -1| 0.01|\n",
      "|   339334|  9994|    310408|    211292| 383023| 0.01|\n",
      "|     6636|  6703|    392038|     46239| 406713| 0.01|\n",
      "|    92241|  6130|     72781|    149714|     -1| 0.01|\n",
      "|    20397| 10539|    410958|     65726|  79971| 0.01|\n",
      "|   345870|  9995|    179595|    191036|  79971| 0.01|\n",
      "|    77797|  9086|    218276|     31183|     -1| 0.01|\n",
      "|    14435|  1136|    135610|     17788|     -1| 0.01|\n",
      "|    42055|  9994|     43866|    113068| 123242| 0.01|\n",
      "|    41925|  7032|     85373|    114532|     -1| 0.01|\n",
      "|    67558|  9995|     90141|     83948|     -1| 0.01|\n",
      "|   149570|  7043|    126746|    176076|     -1| 0.01|\n",
      "|   518883|  7185|    403318|     58013|     -1| 0.01|\n",
      "|     2246|  9996|    413653|     60214| 182966| 0.01|\n",
      "|   290675|  4824|    315371|    240984|     -1| 0.01|\n",
      "|   552638| 10305|    403318|     58013|     -1| 0.01|\n",
      "|    89831| 10539|     90141|     83948| 211816| 0.01|\n",
      "+---------+------+----------+----------+-------+-----+\n",
      "only showing top 20 rows\n",
      "\n",
      "+---------+------+----------+----------+-------+-----------+\n",
      "|adgroupId|cateId|campaignId|customerId|brandId|      price|\n",
      "+---------+------+----------+----------+-------+-----------+\n",
      "|   658722|  1093|    218101|    207754|     -1|      1.0E8|\n",
      "|   468220|  1093|    270719|    207754|     -1|      1.0E8|\n",
      "|   179746|  1093|    270027|    102509| 405447|      1.0E8|\n",
      "|   443295|  1093|     44251|    102509| 300681|      1.0E8|\n",
      "|    31899|   685|    218918|     31239| 278301|      1.0E8|\n",
      "|   243384|   685|    218918|     31239| 278301|      1.0E8|\n",
      "|   554311|  1093|    266086|    207754|     -1|      1.0E8|\n",
      "|   513942|   745|      8401|     86243|     -1|8.8888888E7|\n",
      "|   201060|   745|      8401|     86243|     -1|5.5555556E7|\n",
      "|   289563|   685|     37665|    120847| 278301|      1.5E7|\n",
      "|    35156|   527|    417722|     72273| 278301|      1.0E7|\n",
      "|    33756|   527|    416333|     70894|     -1|  9900000.0|\n",
      "|   335495|   739|    170121|    148946| 326126|  9600000.0|\n",
      "|   218306|   206|    162394|      4339| 221720|  8888888.0|\n",
      "|   213567|  7213|    239302|    205612| 406125|  5888888.0|\n",
      "|   375920|   527|    217512|    148946| 326126|  4760000.0|\n",
      "|   262215|   527|    132721|     11947| 417898|  3980000.0|\n",
      "|   154623|   739|    170121|    148946| 326126|  3900000.0|\n",
      "|   152414|   739|    170121|    148946| 326126|  3900000.0|\n",
      "|   448651|   527|    422260|     41289| 209959|  3800000.0|\n",
      "+---------+------+----------+----------+-------+-----------+\n",
      "only showing top 20 rows\n",
      "\n",
      "价格高于1w的条目个数： 6527\n",
      "价格低于1的条目个数 5762\n"
     ]
    }
   ],
   "source": [
    "# 查看各项数据的特征\n",
    "print(\"总广告条数：\",df.count())   # 数据条数\n",
    "_1 = ad_feature_df.groupBy(\"cateId\").count().count()\n",
    "print(\"cateId数值个数：\", _1)\n",
    "_2 = ad_feature_df.groupBy(\"campaignId\").count().count()\n",
    "print(\"campaignId数值个数：\", _2)\n",
    "_3 = ad_feature_df.groupBy(\"customerId\").count().count()\n",
    "print(\"customerId数值个数：\", _3)\n",
    "_4 = ad_feature_df.groupBy(\"brandId\").count().count()\n",
    "print(\"brandId数值个数：\", _4)\n",
    "ad_feature_df.sort(\"price\").show()\n",
    "ad_feature_df.sort(\"price\", ascending=False).show()\n",
    "print(\"价格高于1w的条目个数：\", ad_feature_df.select(\"price\").filter(\"price>10000\").count())\n",
    "print(\"价格低于1的条目个数\", ad_feature_df.select(\"price\").filter(\"price<1\").count())"
   ]
  },
  {
   "cell_type": "markdown",
   "metadata": {},
   "source": [
    "#### 特征选择\n",
    "- cateId：脱敏过的商品类目ID；\n",
    "- campaignId：脱敏过的广告计划ID；\n",
    "- customerId:脱敏过的广告主ID；\n",
    "- brandId：脱敏过的品牌ID；\n",
    "\n",
    "以上四个特征均属于分类特征，但由于分类值个数均过于庞大，如果去做热独编码处理，会导致数据过于稀疏\n",
    "且当前我们缺少对这些特征更加具体的信息，（如商品类目具体信息、品牌具体信息等），从而无法对这些特征的数据做聚类、降维处理\n",
    "因此这里不选取它们作为特征\n",
    "\n",
    "#### 而只选取price作为特征数据，因为价格本身是一个统计类型连续数值型数据，且能很好的体现广告的价值属性特征，通常也不需要做其他处理(离散化、归一化、标准化等)，所以这里直接将当做特征数据来使用。"
   ]
  },
  {
   "cell_type": "code",
   "execution_count": null,
   "metadata": {},
   "outputs": [],
   "source": []
  }
 ],
 "metadata": {
  "kernelspec": {
   "display_name": "Python 3",
   "language": "python",
   "name": "python3"
  },
  "language_info": {
   "codemirror_mode": {
    "name": "ipython",
    "version": 3
   },
   "file_extension": ".py",
   "mimetype": "text/x-python",
   "name": "python",
   "nbconvert_exporter": "python",
   "pygments_lexer": "ipython3",
   "version": "3.6.5"
  }
 },
 "nbformat": 4,
 "nbformat_minor": 2
}
