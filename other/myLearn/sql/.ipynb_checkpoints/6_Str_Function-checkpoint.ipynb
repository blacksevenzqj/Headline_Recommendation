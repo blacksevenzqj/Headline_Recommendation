{
 "cells": [
  {
   "cell_type": "code",
   "execution_count": 1,
   "metadata": {},
   "outputs": [],
   "source": [
    "import numpy as np\n",
    "import pandas as pd\n",
    "import datetime\n",
    "from pyspark.sql import SparkSession\n",
    "\n",
    "spark = SparkSession \\\n",
    "    .builder \\\n",
    "    .appName('my_first_app_name') \\\n",
    "    .getOrCreate()"
   ]
  },
  {
   "cell_type": "code",
   "execution_count": 2,
   "metadata": {},
   "outputs": [
    {
     "name": "stdout",
     "output_type": "stream",
     "text": [
      "+-------+\n",
      "|      s|\n",
      "+-------+\n",
      "|abcd123|\n",
      "+-------+\n",
      "\n",
      "+--------+\n",
      "|       s|\n",
      "+--------+\n",
      "|abcd-123|\n",
      "+--------+\n",
      "\n"
     ]
    }
   ],
   "source": [
    "# 1、字符串拼接\n",
    "from pyspark.sql.functions import concat, concat_ws\n",
    "df = spark.createDataFrame([('abcd','123')], ['s', 'd'])\n",
    "\n",
    "# 1.直接拼接\n",
    "df.select(concat(df.s, df.d).alias('s')).show()\n",
    "# abcd123\n",
    "\n",
    "# 2.指定拼接符\n",
    "df.select(concat_ws('-', df.s, df.d).alias('s')).show()\n",
    "# 'abcd-123'"
   ]
  },
  {
   "cell_type": "code",
   "execution_count": 3,
   "metadata": {},
   "outputs": [
    {
     "name": "stdout",
     "output_type": "stream",
     "text": [
      "+-------+\n",
      "|      v|\n",
      "+-------+\n",
      "|5 hello|\n",
      "+-------+\n",
      "\n"
     ]
    }
   ],
   "source": [
    "# 2、字符串格式化\n",
    "from pyspark.sql.functions import format_string\n",
    "\n",
    "df = spark.createDataFrame([(5, \"hello\")], ['a', 'b'])\n",
    "df.select(format_string('%d %s', df.a, df.b).alias('v')).show()\n",
    "# 5 hello"
   ]
  },
  {
   "cell_type": "code",
   "execution_count": 4,
   "metadata": {},
   "outputs": [
    {
     "name": "stdout",
     "output_type": "stream",
     "text": [
      "+---+\n",
      "|  s|\n",
      "+---+\n",
      "|  2|\n",
      "+---+\n",
      "\n"
     ]
    }
   ],
   "source": [
    "# 3、查找字符串位置\n",
    "from pyspark.sql.functions import instr\n",
    "\n",
    "df = spark.createDataFrame([('abcd',)], ['s',])\n",
    "df.select(instr(df.s, 'b').alias('s')).show()"
   ]
  },
  {
   "cell_type": "code",
   "execution_count": 5,
   "metadata": {},
   "outputs": [
    {
     "name": "stdout",
     "output_type": "stream",
     "text": [
      "+---+\n",
      "|  s|\n",
      "+---+\n",
      "| ab|\n",
      "+---+\n",
      "\n"
     ]
    }
   ],
   "source": [
    "# 4、字符串截取\n",
    "from pyspark.sql.functions import substring\n",
    "\n",
    "df = spark.createDataFrame([('abcd',)], ['s',])\n",
    "df.select(substring(df.s, 1, 2).alias('s')).show()"
   ]
  },
  {
   "cell_type": "code",
   "execution_count": 6,
   "metadata": {},
   "outputs": [
    {
     "name": "stdout",
     "output_type": "stream",
     "text": [
      "+---+\n",
      "|  d|\n",
      "+---+\n",
      "|100|\n",
      "+---+\n",
      "\n",
      "+---+\n",
      "|  d|\n",
      "+---+\n",
      "|   |\n",
      "+---+\n",
      "\n"
     ]
    }
   ],
   "source": [
    "# 5、正则表达式\n",
    "from pyspark.sql.functions import regexp_extract\n",
    "\n",
    "df = spark.createDataFrame([('100-200',)], ['str'])\n",
    "df.select(regexp_extract('str', '(\\d+)-(\\d+)', 1).alias('d')).show()\n",
    "# '100'\n",
    "\n",
    "df = spark.createDataFrame([('foo',)], ['str'])\n",
    "df.select(regexp_extract('str', '(\\d+)', 1).alias('d')).show()"
   ]
  },
  {
   "cell_type": "code",
   "execution_count": 7,
   "metadata": {},
   "outputs": [
    {
     "data": {
      "text/plain": [
       "[Row(d='-----')]"
      ]
     },
     "execution_count": 7,
     "metadata": {},
     "output_type": "execute_result"
    }
   ],
   "source": [
    "# 6、正则表达式替换\n",
    "from pyspark.sql.functions import regexp_replace\n",
    "\n",
    "df = spark.createDataFrame([('100-200',)], ['str'])\n",
    "df.select(regexp_replace('str', '(\\\\d+)', '--').alias('d')).collect()"
   ]
  },
  {
   "cell_type": "code",
   "execution_count": 8,
   "metadata": {},
   "outputs": [
    {
     "data": {
      "text/plain": [
       "[Row(s='ababab')]"
      ]
     },
     "execution_count": 8,
     "metadata": {},
     "output_type": "execute_result"
    }
   ],
   "source": [
    "# 7、字符串复制\n",
    "from pyspark.sql.functions import repeat\n",
    "\n",
    "df = spark.createDataFrame([('ab',)], ['s',])\n",
    "df.select(repeat(df.s, 3).alias('s')).collect()"
   ]
  },
  {
   "cell_type": "code",
   "execution_count": null,
   "metadata": {},
   "outputs": [],
   "source": [
    "# 8、字符串分割\n",
    "from pyspark.sql.functions import split\n",
    "\n",
    "df = spark.createDataFrame([('ab12cd',)], ['s',])\n",
    "df.select(split(df.s, '[0-9]+').alias('s')).collect() # 使用正则表达式"
   ]
  }
 ],
 "metadata": {
  "kernelspec": {
   "display_name": "Python 3",
   "language": "python",
   "name": "python3"
  },
  "language_info": {
   "codemirror_mode": {
    "name": "ipython",
    "version": 3
   },
   "file_extension": ".py",
   "mimetype": "text/x-python",
   "name": "python",
   "nbconvert_exporter": "python",
   "pygments_lexer": "ipython3",
   "version": "3.6.4"
  }
 },
 "nbformat": 4,
 "nbformat_minor": 2
}
