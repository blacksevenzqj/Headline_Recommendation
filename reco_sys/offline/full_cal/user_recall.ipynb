{
 "cells": [
  {
   "cell_type": "code",
   "execution_count": 2,
   "metadata": {},
   "outputs": [
    {
     "name": "stdout",
     "output_type": "stream",
     "text": [
      "/root/toutiao_project/reco_sys\n",
      "['/root/toutiao_project/reco_sys', '/miniconda2/envs/reco_sys/lib/python35.zip', '/miniconda2/envs/reco_sys/lib/python3.5', '/miniconda2/envs/reco_sys/lib/python3.5/plat-linux', '/miniconda2/envs/reco_sys/lib/python3.5/lib-dynload', '', '/miniconda2/envs/reco_sys/lib/python3.5/site-packages', '/miniconda2/envs/reco_sys/lib/python3.5/site-packages/IPython/extensions', '/root/.ipython']\n"
     ]
    }
   ],
   "source": [
    "import os\n",
    "import sys\n",
    "# 如果当前代码文件运行测试需要加入修改路径，避免出现后导包问题\n",
    "BASE_DIR = os.path.dirname(os.path.dirname(os.getcwd()))\n",
    "sys.path.insert(0, os.path.join(BASE_DIR))\n",
    "print(BASE_DIR)\n",
    "print(sys.path)\n",
    "\n",
    "PYSPARK_PYTHON = \"/miniconda2/envs/reco_sys/bin/python\"\n",
    "# 当存在多个版本时，不指定很可能会导致出错\n",
    "os.environ[\"PYSPARK_PYTHON\"] = PYSPARK_PYTHON\n",
    "os.environ[\"PYSPARK_DRIVER_PYTHON\"] = PYSPARK_PYTHON\n",
    "\n",
    "from offline import SparkSessionBase\n",
    "\n",
    "class UpdateRecall(SparkSessionBase):\n",
    "\n",
    "    SPARK_APP_NAME = \"updateRecall\"\n",
    "    SPARK_URL = \"local\"\n",
    "    ENABLE_HIVE_SUPPORT = True\n",
    "\n",
    "    def __init__(self):\n",
    "        self.spark = self._create_spark_session()\n",
    "\n",
    "ur = UpdateRecall()"
   ]
  },
  {
   "cell_type": "code",
   "execution_count": 14,
   "metadata": {},
   "outputs": [
    {
     "name": "stdout",
     "output_type": "stream",
     "text": [
      "+-------------------+----------+-------+\n",
      "|            user_id|article_id|clicked|\n",
      "+-------------------+----------+-------+\n",
      "|1105045287866466304|     14225|  false|\n",
      "|1106476833370537984|     14208|  false|\n",
      "|1111189494544990208|     19322|  false|\n",
      "|1111524501104885760|     44161|  false|\n",
      "|1112727762809913344|     18172|   true|\n",
      "|                  1|     44386|   true|\n",
      "|                  1|     44696|  false|\n",
      "|                 10|     43907|  false|\n",
      "|1106473203766657024|     16005|  false|\n",
      "|1108264901190615040|     15196|  false|\n",
      "|                 23|     44739|   true|\n",
      "|                 33|     13570|  false|\n",
      "|                  1|     17632|  false|\n",
      "|1106473203766657024|     17665|  false|\n",
      "|1111189494544990208|     44368|  false|\n",
      "|                 10|     44368|  false|\n",
      "|1105093883106164736|     15750|  false|\n",
      "|1106396183141548032|     19476|  false|\n",
      "|1111524501104885760|     19233|  false|\n",
      "|                  2|     44371|   true|\n",
      "+-------------------+----------+-------+\n",
      "only showing top 20 rows\n",
      "\n"
     ]
    }
   ],
   "source": [
    "# 1、数据类型转换：clicked字段 以及 用户ID与文章ID 处理\n",
    "# user_article_basic表 是经过 group by user_id, article_id，所以user_id, article_id是唯一行。代码：user_profile_compute.ipynb\n",
    "# 不要求 用户 对 文章 进行过点击操作\n",
    "ur.spark.sql('use profile')\n",
    "user_article_basic = ur.spark.sql(\"select user_id, article_id, clicked from user_article_basic\")\n",
    "user_article_basic.show()"
   ]
  },
  {
   "cell_type": "code",
   "execution_count": 15,
   "metadata": {},
   "outputs": [
    {
     "name": "stdout",
     "output_type": "stream",
     "text": [
      "+-------------------+----------+-------+\n",
      "|            user_id|article_id|clicked|\n",
      "+-------------------+----------+-------+\n",
      "|1105045287866466304|     14225|      0|\n",
      "|1106476833370537984|     14208|      0|\n",
      "|1111189494544990208|     19322|      0|\n",
      "|1111524501104885760|     44161|      0|\n",
      "|1112727762809913344|     18172|      1|\n",
      "|                  1|     44386|      1|\n",
      "|                  1|     44696|      0|\n",
      "|                 10|     43907|      0|\n",
      "|1106473203766657024|     16005|      0|\n",
      "|1108264901190615040|     15196|      0|\n",
      "|                 23|     44739|      1|\n",
      "|                 33|     13570|      0|\n",
      "|                  1|     17632|      0|\n",
      "|1106473203766657024|     17665|      0|\n",
      "|1111189494544990208|     44368|      0|\n",
      "|                 10|     44368|      0|\n",
      "|1105093883106164736|     15750|      0|\n",
      "|1106396183141548032|     19476|      0|\n",
      "|1111524501104885760|     19233|      0|\n",
      "|                  2|     44371|      1|\n",
      "+-------------------+----------+-------+\n",
      "only showing top 20 rows\n",
      "\n"
     ]
    }
   ],
   "source": [
    "def convert_boolean_int(row):\n",
    "    return row.user_id, row.article_id, int(row.clicked)\n",
    "    \n",
    "user_article_basic = user_article_basic.rdd.map(convert_boolean_int).toDF(['user_id', 'article_id', 'clicked'])\n",
    "user_article_basic.show()"
   ]
  },
  {
   "cell_type": "code",
   "execution_count": 16,
   "metadata": {},
   "outputs": [
    {
     "name": "stdout",
     "output_type": "stream",
     "text": [
      "+-------------------+----------+-------+-----------+--------------+\n",
      "|            user_id|article_id|clicked|als_user_id|als_article_id|\n",
      "+-------------------+----------+-------+-----------+--------------+\n",
      "|1105045287866466304|     14225|      0|        4.0|          15.0|\n",
      "|1106476833370537984|     14208|      0|        2.0|           2.0|\n",
      "|1111189494544990208|     19322|      0|        1.0|         133.0|\n",
      "|1111524501104885760|     44161|      0|        9.0|          37.0|\n",
      "|1112727762809913344|     18172|      1|       12.0|          54.0|\n",
      "|                  1|     44386|      1|       10.0|          11.0|\n",
      "|                  1|     44696|      0|       10.0|          97.0|\n",
      "|                 10|     43907|      0|        3.0|           1.0|\n",
      "|1106473203766657024|     16005|      0|        5.0|          32.0|\n",
      "|1108264901190615040|     15196|      0|        6.0|           7.0|\n",
      "|                 23|     44739|      1|       17.0|           4.0|\n",
      "|                 33|     13570|      0|       13.0|          19.0|\n",
      "|                  1|     17632|      0|       10.0|         143.0|\n",
      "|1106473203766657024|     17665|      0|        5.0|          25.0|\n",
      "|1111189494544990208|     44368|      0|        1.0|           3.0|\n",
      "|                 10|     44368|      0|        3.0|           3.0|\n",
      "|1105093883106164736|     15750|      0|       19.0|          39.0|\n",
      "|1106396183141548032|     19476|      0|        0.0|         121.0|\n",
      "|1111524501104885760|     19233|      0|        9.0|          36.0|\n",
      "|                  2|     44371|      1|       11.0|         174.0|\n",
      "+-------------------+----------+-------+-----------+--------------+\n",
      "only showing top 20 rows\n",
      "\n"
     ]
    }
   ],
   "source": [
    "# 对用户ID和文章ID进行 索引建立（ALS模型要求ID必须为连续值）\n",
    "from pyspark.ml.feature import StringIndexer\n",
    "from pyspark.ml import Pipeline\n",
    "\n",
    "user_indexer = StringIndexer(inputCol='user_id', outputCol='als_user_id')\n",
    "article_indexer = StringIndexer(inputCol='article_id', outputCol='als_article_id')\n",
    "pip = Pipeline(stages=[user_indexer, article_indexer])\n",
    "pip_model = pip.fit(user_article_basic)\n",
    "als_user_article = pip_model.transform(user_article_basic)\n",
    "\n",
    "als_user_article.show()"
   ]
  },
  {
   "cell_type": "code",
   "execution_count": 7,
   "metadata": {},
   "outputs": [],
   "source": [
    "# 2、ALS模型训练以及推荐（不要求 用户 对 文章 进行过点击操作）\n",
    "from pyspark.ml.recommendation import ALS\n",
    "als = ALS(userCol='als_user_id', itemCol='als_article_id', ratingCol='clicked')\n",
    "als_model = als.fit(als_user_article)"
   ]
  },
  {
   "cell_type": "code",
   "execution_count": 8,
   "metadata": {},
   "outputs": [
    {
     "name": "stdout",
     "output_type": "stream",
     "text": [
      "+-----------+--------------------+\n",
      "|als_user_id|     recommendations|\n",
      "+-----------+--------------------+\n",
      "|         31|[[255,0.17741075]...|\n",
      "|         65|[[0,0.0], [10,0.0...|\n",
      "|         53|[[0,0.0], [10,0.0...|\n",
      "|         34|[[255,0.06449647]...|\n",
      "|         28|[[255,0.010355139...|\n",
      "|         26|[[255,0.094471075...|\n",
      "|         27|[[255,0.1838476],...|\n",
      "|         44|[[255,0.19231558]...|\n",
      "|         12|[[255,0.42547882]...|\n",
      "|         22|[[255,0.14787017]...|\n",
      "|         47|[[255,0.18815793]...|\n",
      "|          1|[[255,0.22982743]...|\n",
      "|         52|[[255,0.24817318]...|\n",
      "|         13|[[255,0.1511052],...|\n",
      "|          6|[[255,0.262215], ...|\n",
      "|         16|[[255,0.2500384],...|\n",
      "|          3|[[207,0.91574323]...|\n",
      "|         20|[[255,0.21161154]...|\n",
      "|         40|[[255,0.06386929]...|\n",
      "|         57|[[255,0.18380986]...|\n",
      "+-----------+--------------------+\n",
      "only showing top 20 rows\n",
      "\n"
     ]
    }
   ],
   "source": [
    "# 每个用户推荐100条物品数据，也就是recommendations字段（列表类型）每一行有100个小列表（物品ID, 得分）\n",
    "# 是基于 所有频道的历史点击数据 做出的推荐结果。\n",
    "recall_res = als_model.recommendForAllUsers(100) # 2.1.0版本没有 recommendForAllUsers方法，只能看他之前的计算结果。\n",
    "recall_res.show()"
   ]
  },
  {
   "cell_type": "code",
   "execution_count": 9,
   "metadata": {},
   "outputs": [
    {
     "name": "stdout",
     "output_type": "stream",
     "text": [
      "+-------------------+-----------+\n",
      "|            user_id|als_user_id|\n",
      "+-------------------+-----------+\n",
      "|1106473203766657024|       26.0|\n",
      "|1113049054452908032|       44.0|\n",
      "|1114863751909081088|       37.0|\n",
      "|1115534909935452160|       42.0|\n",
      "|1113100263847100416|       54.0|\n",
      "|1103195673450250240|        5.0|\n",
      "|1105045287866466304|       28.0|\n",
      "|1114864237131333632|        4.0|\n",
      "|1111524501104885760|       49.0|\n",
      "|1109995264376045568|       19.0|\n",
      "|1105105185656537088|       46.0|\n",
      "|1110071654421102592|       64.0|\n",
      "|1114863965080387584|       65.0|\n",
      "|1114864128259784704|       17.0|\n",
      "|1114864233264185344|       40.0|\n",
      "|1115436666438287360|       29.0|\n",
      "|1114863846486441984|        2.0|\n",
      "|1115089292662669312|       13.0|\n",
      "|1113316420155867136|       72.0|\n",
      "|1114863902073552896|       16.0|\n",
      "+-------------------+-----------+\n",
      "only showing top 20 rows\n",
      "\n"
     ]
    }
   ],
   "source": [
    "# 3、推荐结果解析处理\n",
    "# 建立用户真实ID与用户索引的映射，文章真实ID与文章索引的映射\n",
    "# user_article_basic表 是经过 group by user_id, article_id，所以user_id, article_id是唯一行。但单独的user_id不是唯一行，所以进行groupby操作。\n",
    "user_real_index = als_user_article.groupBy(['user_id']).max('als_user_id').withColumnRenamed('max(als_user_id)', 'als_user_id')\n",
    "user_real_index.show()"
   ]
  },
  {
   "cell_type": "code",
   "execution_count": 10,
   "metadata": {},
   "outputs": [],
   "source": [
    "# user_article_basic表 是经过 group by user_id, article_id，所以user_id, article_id是唯一行。但单独的article_id不是唯一行，所以进行groupby操作。\n",
    "article_real_index = als_user_article.groupBy(['article_id']).max('als_article_id').withColumnRenamed('max(als_article_id)', 'als_article_id')"
   ]
  },
  {
   "cell_type": "code",
   "execution_count": 11,
   "metadata": {},
   "outputs": [],
   "source": [
    "recall_res = recall_res.join(user_real_index, on=['als_user_id'], how='left').select(['als_user_id', 'recommendations', 'user_id'])"
   ]
  },
  {
   "cell_type": "code",
   "execution_count": 12,
   "metadata": {},
   "outputs": [
    {
     "name": "stdout",
     "output_type": "stream",
     "text": [
      "+-----------+--------------------+-------------------+\n",
      "|als_user_id|     recommendations|            user_id|\n",
      "+-----------+--------------------+-------------------+\n",
      "|          8|[[263,0.3481275],...|1109976363453906944|\n",
      "|         67|[[255,0.4729983],...|1114096769035141120|\n",
      "|         70|[[255,0.38408458]...|1115534898262704128|\n",
      "|          0|[[255,0.58535063]...|1106396183141548032|\n",
      "|         69|[[0,0.0], [10,0.0...|1114094806092480512|\n",
      "|          7|[[255,0.18091725]...|1111189494544990208|\n",
      "|         49|[[0,0.0], [10,0.0...|1111524501104885760|\n",
      "|         29|[[255,0.10471068]...|1115436666438287360|\n",
      "|         64|[[255,0.09094194]...|1110071654421102592|\n",
      "|         47|[[255,0.18815793]...|1112995431274512384|\n",
      "|         42|[[255,0.24995728]...|1115534909935452160|\n",
      "|         44|[[255,0.19231558]...|1113049054452908032|\n",
      "|         35|[[207,0.6278385],...|                  4|\n",
      "|         62|[[255,0.10057049]...|1114863741448486912|\n",
      "|         18|[[255,0.20005049]...|1114864164158832640|\n",
      "|          1|[[255,0.22982743]...|1114864874141253632|\n",
      "|         39|[[255,0.22850463]...|1115534631668547584|\n",
      "|         34|[[255,0.06449647]...|1108264901190615040|\n",
      "|         37|[[255,0.52489614]...|1114863751909081088|\n",
      "|         25|[[255,0.37197587]...|1114865014205841408|\n",
      "+-----------+--------------------+-------------------+\n",
      "only showing top 20 rows\n",
      "\n"
     ]
    }
   ],
   "source": [
    "recall_res.show()"
   ]
  },
  {
   "cell_type": "code",
   "execution_count": 13,
   "metadata": {},
   "outputs": [],
   "source": [
    "# 对于文章推荐的解析（爆炸/展开recommendations字段，每个元素是小数组）\n",
    "import pyspark.sql.functions as F\n",
    "\n",
    "recall_res = recall_res.withColumn('als_article_id', F.explode('recommendations')).drop('recommendations').select(['user_id', 'als_article_id'])"
   ]
  },
  {
   "cell_type": "code",
   "execution_count": 14,
   "metadata": {},
   "outputs": [
    {
     "name": "stdout",
     "output_type": "stream",
     "text": [
      "+-------------------+-----------------+\n",
      "|            user_id|   als_article_id|\n",
      "+-------------------+-----------------+\n",
      "|1109976363453906944|  [263,0.3481275]|\n",
      "|1109976363453906944| [181,0.20810685]|\n",
      "|1109976363453906944| [255,0.20628238]|\n",
      "|1109976363453906944| [307,0.20628238]|\n",
      "|1109976363453906944| [323,0.20628238]|\n",
      "|1109976363453906944| [293,0.20628238]|\n",
      "|1109976363453906944| [336,0.19855197]|\n",
      "|1109976363453906944|   [164,0.104869]|\n",
      "|1109976363453906944|[207,0.104758695]|\n",
      "|1109976363453906944| [224,0.10435731]|\n",
      "|1109976363453906944| [210,0.09976264]|\n",
      "|1109976363453906944| [204,0.09689172]|\n",
      "|1109976363453906944| [184,0.09689172]|\n",
      "|1109976363453906944| [125,0.08567983]|\n",
      "|1109976363453906944|[149,0.081252605]|\n",
      "|1109976363453906944| [327,0.07774757]|\n",
      "|1109976363453906944| [341,0.07774757]|\n",
      "|1109976363453906944| [299,0.07774757]|\n",
      "|1109976363453906944| [305,0.07774757]|\n",
      "|1109976363453906944| [275,0.07774757]|\n",
      "+-------------------+-----------------+\n",
      "only showing top 20 rows\n",
      "\n"
     ]
    }
   ],
   "source": [
    "recall_res.show()"
   ]
  },
  {
   "cell_type": "code",
   "execution_count": 15,
   "metadata": {},
   "outputs": [],
   "source": [
    "# 取出als_article_id：als_article_id[0]为物品ID，als_article_id[1]为推荐得分。\n",
    "def get_article_index(row):\n",
    "    return row.user_id, row.als_article_id[0]\n",
    "\n",
    "recall_res = recall_res.rdd.map(get_article_index).toDF(['user_id', 'als_article_id'])"
   ]
  },
  {
   "cell_type": "code",
   "execution_count": 16,
   "metadata": {},
   "outputs": [
    {
     "name": "stdout",
     "output_type": "stream",
     "text": [
      "+-------------------+--------------+\n",
      "|            user_id|als_article_id|\n",
      "+-------------------+--------------+\n",
      "|1109976363453906944|           263|\n",
      "|1109976363453906944|           181|\n",
      "|1109976363453906944|           255|\n",
      "|1109976363453906944|           307|\n",
      "|1109976363453906944|           323|\n",
      "|1109976363453906944|           293|\n",
      "|1109976363453906944|           336|\n",
      "|1109976363453906944|           164|\n",
      "|1109976363453906944|           207|\n",
      "|1109976363453906944|           224|\n",
      "|1109976363453906944|           210|\n",
      "|1109976363453906944|           204|\n",
      "|1109976363453906944|           184|\n",
      "|1109976363453906944|           125|\n",
      "|1109976363453906944|           149|\n",
      "|1109976363453906944|           327|\n",
      "|1109976363453906944|           341|\n",
      "|1109976363453906944|           299|\n",
      "|1109976363453906944|           305|\n",
      "|1109976363453906944|           275|\n",
      "+-------------------+--------------+\n",
      "only showing top 20 rows\n",
      "\n"
     ]
    }
   ],
   "source": [
    "recall_res.show()"
   ]
  },
  {
   "cell_type": "code",
   "execution_count": 17,
   "metadata": {},
   "outputs": [],
   "source": [
    "recall_res = recall_res.join(article_real_index, on=['als_article_id'], how='left').select(['user_id', 'article_id'])"
   ]
  },
  {
   "cell_type": "code",
   "execution_count": 18,
   "metadata": {},
   "outputs": [
    {
     "name": "stdout",
     "output_type": "stream",
     "text": [
      "+-------------------+----------+\n",
      "|            user_id|article_id|\n",
      "+-------------------+----------+\n",
      "|1108264901190615040|     13890|\n",
      "|1114863751909081088|     13890|\n",
      "|1114865014205841408|     13890|\n",
      "|                 10|     13890|\n",
      "|                  5|     13890|\n",
      "|1109995683777085440|     13890|\n",
      "|1114864233264185344|     13890|\n",
      "|1115089292662669312|     13890|\n",
      "|1114864474352779264|     13890|\n",
      "|1114865875103514624|     13890|\n",
      "|1114863941936218112|     13890|\n",
      "|1113004557979353088|     13890|\n",
      "|1114863748553637888|     13890|\n",
      "|1103195673450250240|     13890|\n",
      "|1114865402044743680|     13890|\n",
      "|1114863998437687296|     13890|\n",
      "|                 33|     13890|\n",
      "|1114863735962337280|     13890|\n",
      "|1106473203766657024|     13890|\n",
      "|1114863902073552896|     13890|\n",
      "+-------------------+----------+\n",
      "only showing top 20 rows\n",
      "\n"
     ]
    }
   ],
   "source": [
    "# - 4、推荐结果存储（user_id 和 article_id 还是唯一行）\n",
    "# 获取每个文章对应的频道，推荐给用户时按照频道存储\n",
    "recall_res.show()"
   ]
  },
  {
   "cell_type": "code",
   "execution_count": 2,
   "metadata": {},
   "outputs": [
    {
     "name": "stdout",
     "output_type": "stream",
     "text": [
      "+----------+----------+\n",
      "|article_id|channel_id|\n",
      "+----------+----------+\n",
      "|         1|        17|\n",
      "|         2|        17|\n",
      "|         3|        17|\n",
      "|         4|        17|\n",
      "|         5|        17|\n",
      "|         6|        17|\n",
      "|         7|        17|\n",
      "|         8|        17|\n",
      "|         9|        17|\n",
      "|        10|        17|\n",
      "|        11|        17|\n",
      "|        12|        17|\n",
      "|        13|        17|\n",
      "|        14|        17|\n",
      "|        15|        17|\n",
      "|        17|        17|\n",
      "|        18|        17|\n",
      "|        19|        17|\n",
      "|        20|        17|\n",
      "|        21|        17|\n",
      "+----------+----------+\n",
      "only showing top 20 rows\n",
      "\n"
     ]
    }
   ],
   "source": [
    "# 找到每个文章对应的频道，然后按照频道分组\n",
    "ur.spark.sql('use article')\n",
    "article_data = ur.spark.sql(\"select article_id, channel_id from article_data\")\n",
    "article_data.show()"
   ]
  },
  {
   "cell_type": "code",
   "execution_count": 20,
   "metadata": {},
   "outputs": [],
   "source": [
    "recall_channel = recall_res.join(article_data, on=['article_id'], how='left')"
   ]
  },
  {
   "cell_type": "code",
   "execution_count": 21,
   "metadata": {},
   "outputs": [
    {
     "name": "stdout",
     "output_type": "stream",
     "text": [
      "+----------+-------------------+----------+\n",
      "|article_id|            user_id|channel_id|\n",
      "+----------+-------------------+----------+\n",
      "|     13401|1114094806092480512|        18|\n",
      "|     13401|1111524501104885760|        18|\n",
      "|     13401|1114866560301793280|        18|\n",
      "|     13401|1113316420155867136|        18|\n",
      "|     13401|1109984273839947776|        18|\n",
      "|     13401|1114865682668847104|        18|\n",
      "|     13401|1114863965080387584|        18|\n",
      "|     14805|1105045287866466304|        18|\n",
      "|     14805|1114863846486441984|        18|\n",
      "|     14805|1115535317173010432|        18|\n",
      "|     14805|1114864128259784704|        18|\n",
      "|     14805|1114871412419461120|        18|\n",
      "|     14805|1114863759672737792|        18|\n",
      "|     14805|                 10|        18|\n",
      "|     14805|                  5|        18|\n",
      "|     14805|1109995683777085440|        18|\n",
      "|     14805|1114864233264185344|        18|\n",
      "|     14805|1115089292662669312|        18|\n",
      "|     14805|1114864474352779264|        18|\n",
      "|     14805|1114865875103514624|        18|\n",
      "+----------+-------------------+----------+\n",
      "only showing top 20 rows\n",
      "\n"
     ]
    }
   ],
   "source": [
    "recall_channel.show()"
   ]
  },
  {
   "cell_type": "code",
   "execution_count": 22,
   "metadata": {},
   "outputs": [],
   "source": [
    "recall_channel = recall_channel.groupBy(['user_id', 'channel_id']).agg(F.collect_list('article_id')).withColumnRenamed('collect_list(article_id)', 'article_list')\n",
    "recall_channel = recall_channel.dropna()"
   ]
  },
  {
   "cell_type": "code",
   "execution_count": 23,
   "metadata": {},
   "outputs": [
    {
     "name": "stdout",
     "output_type": "stream",
     "text": [
      "+-------------------+----------+--------------------+\n",
      "|            user_id|channel_id|        article_list|\n",
      "+-------------------+----------+--------------------+\n",
      "|                 23|        18|[14805, 14839, 17...|\n",
      "|1109993249109442560|         7|            [141437]|\n",
      "|1113049054452908032|         7|            [141437]|\n",
      "|1113100263847100416|         5|            [141440]|\n",
      "|1114863751909081088|         7|            [141437]|\n",
      "|                 38|        13|    [141431, 141431]|\n",
      "|1114864233264185344|        13|    [141431, 141431]|\n",
      "|                 10|         5|            [141440]|\n",
      "|1106473203766657024|         7|            [141437]|\n",
      "|                 33|        18|[14805, 14839, 17...|\n",
      "|1106473203766657024|      null|[1112593324574769...|\n",
      "|                  1|         7|            [141437]|\n",
      "|1105093883106164736|        13|    [141431, 141431]|\n",
      "|1114866560301793280|         7|            [141469]|\n",
      "|1114864434305564672|         7|            [141437]|\n",
      "|1105093883106164736|         5|            [141440]|\n",
      "|1114863759672737792|         5|            [141440]|\n",
      "|1113100263847100416|         7|            [141437]|\n",
      "|1114863991156375552|        13|    [141431, 141431]|\n",
      "|1113049054452908032|      null|[1112593242529988...|\n",
      "+-------------------+----------+--------------------+\n",
      "only showing top 20 rows\n",
      "\n"
     ]
    }
   ],
   "source": [
    "recall_channel.show()"
   ]
  },
  {
   "cell_type": "code",
   "execution_count": null,
   "metadata": {},
   "outputs": [],
   "source": [
    "# 3.4.2.4 召回结果存储\n",
    "def save_offline_recall_hbase(partition):\n",
    "    \"\"\"离线模型召回结果存储\n",
    "    \"\"\"\n",
    "    import happybase\n",
    "    pool = happybase.ConnectionPool(size=10, host='hadoop-master', port=9090)\n",
    "    for row in partition:\n",
    "        with pool.connection() as conn:\n",
    "            # 获取 该用户 历史上看过的 该频道 推荐过的所有版本的文章\n",
    "            history_table = conn.table('history_recall')\n",
    "            # .cells：取出多个版本的所有值\n",
    "            data = history_table.cells('reco:his:{}'.format(row.user_id).encode(),\n",
    "                                       'channel:{}'.format(row.channel_id).encode())\n",
    "\n",
    "            history = []\n",
    "            if len(data) >= 1:\n",
    "                for l in data:\n",
    "                    history.extend(eval(l))\n",
    "            else:\n",
    "                history = []\n",
    "\n",
    "            # 过滤 reco_article 与 history 的差集：新增的推荐文章\n",
    "            reco_res = list(set(row.article_list) - set(history))\n",
    "\n",
    "            # 对 过滤历史召回的所有结果 进行存储：放入cb_recall表 以及 history_recall表\n",
    "            if reco_res:\n",
    "                table = conn.table('cb_recall')\n",
    "                # 放入cb_recall表\n",
    "                table.put('recall:user:{}'.format(row.user_id).encode(),\n",
    "                          {'als:{}'.format(row.channel_id).encode(): str(reco_res).encode()})\n",
    "\n",
    "                # 放入history_recall表：历史推荐过文章\n",
    "                history_table.put(\"reco:his:{}\".format(row.user_id).encode(),\n",
    "                                  {'channel:{}'.format(row.channel_id): str(reco_res).encode()})\n",
    "                \n",
    "            conn.close()\n",
    "\n",
    "            \n",
    "als_recall.foreachPartition(save_offline_recall_hbase)"
   ]
  },
  {
   "cell_type": "code",
   "execution_count": null,
   "metadata": {},
   "outputs": [],
   "source": [
    "\n",
    "\n"
   ]
  },
  {
   "cell_type": "code",
   "execution_count": 3,
   "metadata": {},
   "outputs": [
    {
     "name": "stdout",
     "output_type": "stream",
     "text": [
      "+-------------------+-------------------+----------+----------+------+-------+---------+--------+---------+\n",
      "|            user_id|        action_time|article_id|channel_id|shared|clicked|collected|exposure|read_time|\n",
      "+-------------------+-------------------+----------+----------+------+-------+---------+--------+---------+\n",
      "|1112727762809913344|2019-04-03 12:51:57|     18172|        18| false|   true|     true|    true|    19413|\n",
      "|                  1|2019-03-07 16:57:34|     44386|        18| false|   true|    false|    true|    17850|\n",
      "|                 23|2019-04-03 08:10:23|     44739|        18| false|   true|    false|    true|    14216|\n",
      "|                  2|2019-03-05 10:19:54|     44371|        18| false|   true|    false|    true|      938|\n",
      "|                  2|2019-03-07 10:06:20|     18103|        18| false|   true|    false|    true|      648|\n",
      "|1111189494544990208|2019-03-28 16:56:55|     44737|        18| false|   true|    false|    true|     4138|\n",
      "|                  2|2019-03-15 14:51:12|     43894|        18| false|   true|    false|    true|      928|\n",
      "|1106396183141548032|2019-03-28 10:55:51|     18156|        18| false|   true|    false|    true|     9902|\n",
      "|                  2|2019-04-03 09:40:39|     18005|        18| false|   true|    false|    true|    16900|\n",
      "|                 23|2019-04-03 10:03:05|     13751|        18| false|   true|    false|    true|     9895|\n",
      "|                  1|2019-03-20 18:13:11|    141469|         7| false|   true|    false|    true|     9916|\n",
      "|                  2|2019-03-07 10:05:29|     18836|        18| false|   true|    false|    true|      835|\n",
      "|                  2|2019-03-07 10:06:57|     14961|        18| false|   true|    false|    true|     5248|\n",
      "|                  1|2019-03-20 15:02:56|    141437|         7| false|   true|    false|    true|     2012|\n",
      "|                  2|2019-03-15 11:42:42|     13890|        18| false|   true|    false|    true|      426|\n",
      "|                 33|2019-03-11 18:03:59|     17304|        18| false|   true|    false|    true|         |\n",
      "|                  1|2019-03-20 15:06:52|    141440|         5| false|   true|    false|    true|     2329|\n",
      "|1111189494544990208|2019-03-28 16:57:35|     13750|        18| false|   true|    false|    true|    29997|\n",
      "|1111189494544990208|2019-03-28 16:59:28|     18795|        18| false|   true|    false|    true|     8307|\n",
      "|1111189494544990208|2019-03-28 17:01:22|     18335|        18| false|   true|    false|    true|     3260|\n",
      "+-------------------+-------------------+----------+----------+------+-------+---------+--------+---------+\n",
      "only showing top 20 rows\n",
      "\n"
     ]
    }
   ],
   "source": [
    "# 3.5 离线用户基于内容召回集（要求 用户 对 文章 进行过点击操作）\n",
    "# 基于内容相似召回（画像召回 必须为 用户有点击行为）\n",
    "ur.spark.sql('use profile')\n",
    "user_article_basic = ur.spark.sql(\"select * from user_article_basic\")\n",
    "user_article_basic = user_article_basic.filter('clicked=True')\n",
    "# user_article_basic = ur.spark.sql(\"select * from user_article_basic where clicked = false\")\n",
    "user_article_basic.show()"
   ]
  },
  {
   "cell_type": "code",
   "execution_count": null,
   "metadata": {},
   "outputs": [],
   "source": [
    "# 基于 ALS 和 内容 的推荐 都是存入到 HBASE的 cb_recall表（列族不同）、history_recall表\n",
    "def get_clicked_article_similar(partition):\n",
    "    \"\"\"召回用户点击的文章当中相似的文章推荐\n",
    "    \"\"\"\n",
    "    import happybase\n",
    "    pool = happybase.ConnectionPool(size=10, host='hadoop-master')\n",
    "    \n",
    "    with pool.connection() as conn:\n",
    "        similar_table = conn.table('article_similar')\n",
    "        \n",
    "        for row in partition:\n",
    "            # 1、获取用户点击的某文章相似文章结果并排序过滤：相似结果取出TOPK：根据实际场景选择大小，10或20\n",
    "            # 获取 文章相似度article_similar表\n",
    "            similar_article = similar_table.row(str(row.article_id).encode(), columns=[b'similar'])\n",
    "            # 相似文章相似度排序过滤，召回不需要太大的数据， 百个，千\n",
    "            _srt = sorted(similar_article.items(), key=lambda item: item[1], reverse=True)\n",
    "            if _srt:\n",
    "                # 每次行为推荐10篇文章\n",
    "                reco_article = [int(i[0].split(b':')[1]) for i in _srt][:10]\n",
    "            \n",
    "                # 2、过滤历史召回的所有文章(所有的召回类型)\n",
    "                history_table = conn.table('history_recall')\n",
    "                # 多个版本\n",
    "                data = history_table.cells('reco:his:{}'.format(row.user_id).encode(),\n",
    "                                           'channel:{}'.format(row.channel_id).encode())\n",
    "\n",
    "                history = []\n",
    "                if len(data) >= 2:\n",
    "                    for l in data[:-1]:\n",
    "                        history.extend(eval(l))\n",
    "                else:\n",
    "                    history = []\n",
    "\n",
    "                # 过滤 reco_article 与 history 的差集：新增的推荐文章\n",
    "                reco_res = list(set(reco_article) - set(history))\n",
    "\n",
    "                # 3、对 过滤历史召回的所有结果 进行存储：放入cb_recall表 以及 history_recall表\n",
    "                if reco_res:\n",
    "                    # content_table = conn.table('cb_content_recall')\n",
    "                    # 放入cb_recall表（只是列族换为content）\n",
    "                    content_table = conn.table('cb_recall')\n",
    "                    content_table.put(\"recall:user:{}\".format(row.user_id).encode(),\n",
    "                                      {'content:{}'.format(row.channel_id).encode(): str(reco_res).encode()})\n",
    "\n",
    "                    # 放入history_recall表：历史推荐过文章\n",
    "                    history_table.put(\"reco:his:{}\".format(row.user_id).encode(),\n",
    "                                      {'channel:{}'.format(row.channel_id).encode(): str(reco_res).encode()})\n",
    "\n",
    "        conn.close()\n",
    "        \n",
    "        \n",
    "user_article_basic.foreachPartition(get_clicked_article_similar)"
   ]
  }
 ],
 "metadata": {
  "kernelspec": {
   "display_name": "Python 3",
   "language": "python",
   "name": "python3"
  },
  "language_info": {
   "codemirror_mode": {
    "name": "ipython",
    "version": 3
   },
   "file_extension": ".py",
   "mimetype": "text/x-python",
   "name": "python",
   "nbconvert_exporter": "python",
   "pygments_lexer": "ipython3",
   "version": "3.5.4"
  }
 },
 "nbformat": 4,
 "nbformat_minor": 2
}
