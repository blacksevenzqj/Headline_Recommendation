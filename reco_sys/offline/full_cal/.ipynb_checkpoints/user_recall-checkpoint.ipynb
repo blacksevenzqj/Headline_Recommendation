{
 "cells": [
  {
   "cell_type": "code",
   "execution_count": 1,
   "metadata": {},
   "outputs": [
    {
     "name": "stdout",
     "output_type": "stream",
     "text": [
      "/root/toutiao_project/reco_sys\n",
      "['/root/toutiao_project/reco_sys', '/miniconda2/envs/py365/lib/python36.zip', '/miniconda2/envs/py365/lib/python3.6', '/miniconda2/envs/py365/lib/python3.6/lib-dynload', '', '/miniconda2/envs/py365/lib/python3.6/site-packages', '/miniconda2/envs/py365/lib/python3.6/site-packages/pyspark-2.2.2-py3.6.egg', '/miniconda2/envs/py365/lib/python3.6/site-packages/py4j-0.10.7-py3.6.egg', '/miniconda2/envs/py365/lib/python3.6/site-packages/IPython/extensions', '/root/.ipython']\n"
     ]
    }
   ],
   "source": [
    "import os\n",
    "import sys\n",
    "# 如果当前代码文件运行测试需要加入修改路径，避免出现后导包问题\n",
    "BASE_DIR = os.path.dirname(os.path.dirname(os.getcwd()))\n",
    "sys.path.insert(0, os.path.join(BASE_DIR))\n",
    "print(BASE_DIR)\n",
    "print(sys.path)\n",
    "\n",
    "PYSPARK_PYTHON = \"/miniconda2/envs/py365/bin/python\"\n",
    "# 当存在多个版本时，不指定很可能会导致出错\n",
    "os.environ[\"PYSPARK_PYTHON\"] = PYSPARK_PYTHON\n",
    "os.environ[\"PYSPARK_DRIVER_PYTHON\"] = PYSPARK_PYTHON\n",
    "\n",
    "from offline import SparkSessionBase\n",
    "\n",
    "class UpdateRecall(SparkSessionBase):\n",
    "\n",
    "    SPARK_APP_NAME = \"updateRecall\"\n",
    "    SPARK_URL = \"local\"\n",
    "    ENABLE_HIVE_SUPPORT = True\n",
    "\n",
    "    def __init__(self):\n",
    "        self.spark = self._create_spark_session()\n",
    "\n",
    "ur = UpdateRecall()"
   ]
  },
  {
   "cell_type": "code",
   "execution_count": 2,
   "metadata": {},
   "outputs": [
    {
     "name": "stdout",
     "output_type": "stream",
     "text": [
      "+-------------------+----------+-------+\n",
      "|            user_id|article_id|clicked|\n",
      "+-------------------+----------+-------+\n",
      "|1105045287866466304|     14225|  false|\n",
      "|1106476833370537984|     14208|  false|\n",
      "|1111189494544990208|     19322|  false|\n",
      "|1111524501104885760|     44161|  false|\n",
      "|1112727762809913344|     18172|   true|\n",
      "|                  1|     44386|   true|\n",
      "|                  1|     44696|  false|\n",
      "|                 10|     43907|  false|\n",
      "|1106473203766657024|     16005|  false|\n",
      "|1108264901190615040|     15196|  false|\n",
      "|                 23|     44739|   true|\n",
      "|                 33|     13570|  false|\n",
      "|                  1|     17632|  false|\n",
      "|1106473203766657024|     17665|  false|\n",
      "|1111189494544990208|     44368|  false|\n",
      "|                 10|     44368|  false|\n",
      "|1105093883106164736|     15750|  false|\n",
      "|1106396183141548032|     19476|  false|\n",
      "|1111524501104885760|     19233|  false|\n",
      "|                  2|     44371|   true|\n",
      "+-------------------+----------+-------+\n",
      "only showing top 20 rows\n",
      "\n"
     ]
    }
   ],
   "source": [
    "# 1、数据类型转换：clicked字段 以及 用户ID与文章ID 处理\n",
    "# user_article_basic表 是经过 group by user_id, article_id，所以user_id, article_id是唯一行。代码：user_profile_compute.ipynb\n",
    "# 不要求 用户 对 文章 进行过点击操作\n",
    "ur.spark.sql('use profile')\n",
    "user_article_basic = ur.spark.sql(\"select user_id, article_id, clicked from user_article_basic\")\n",
    "user_article_basic.show()"
   ]
  },
  {
   "cell_type": "code",
   "execution_count": 3,
   "metadata": {},
   "outputs": [
    {
     "name": "stdout",
     "output_type": "stream",
     "text": [
      "+-------------------+----------+-------+\n",
      "|            user_id|article_id|clicked|\n",
      "+-------------------+----------+-------+\n",
      "|1105045287866466304|     14225|      0|\n",
      "|1106476833370537984|     14208|      0|\n",
      "|1111189494544990208|     19322|      0|\n",
      "|1111524501104885760|     44161|      0|\n",
      "|1112727762809913344|     18172|      1|\n",
      "|                  1|     44386|      1|\n",
      "|                  1|     44696|      0|\n",
      "|                 10|     43907|      0|\n",
      "|1106473203766657024|     16005|      0|\n",
      "|1108264901190615040|     15196|      0|\n",
      "|                 23|     44739|      1|\n",
      "|                 33|     13570|      0|\n",
      "|                  1|     17632|      0|\n",
      "|1106473203766657024|     17665|      0|\n",
      "|1111189494544990208|     44368|      0|\n",
      "|                 10|     44368|      0|\n",
      "|1105093883106164736|     15750|      0|\n",
      "|1106396183141548032|     19476|      0|\n",
      "|1111524501104885760|     19233|      0|\n",
      "|                  2|     44371|      1|\n",
      "+-------------------+----------+-------+\n",
      "only showing top 20 rows\n",
      "\n"
     ]
    }
   ],
   "source": [
    "# 1.1、clicked字段转换为int类型\n",
    "def convert_boolean_int(row):\n",
    "    return row.user_id, row.article_id, int(row.clicked)\n",
    "    \n",
    "user_article_basic = user_article_basic.rdd.map(convert_boolean_int).toDF(['user_id', 'article_id', 'clicked'])\n",
    "user_article_basic.show()"
   ]
  },
  {
   "cell_type": "code",
   "execution_count": 4,
   "metadata": {},
   "outputs": [
    {
     "name": "stdout",
     "output_type": "stream",
     "text": [
      "+-------------------+----------+-------+-----------+--------------+\n",
      "|            user_id|article_id|clicked|als_user_id|als_article_id|\n",
      "+-------------------+----------+-------+-----------+--------------+\n",
      "|1105045287866466304|     14225|      0|        4.0|          15.0|\n",
      "|1106476833370537984|     14208|      0|        2.0|           2.0|\n",
      "|1111189494544990208|     19322|      0|        1.0|         133.0|\n",
      "|1111524501104885760|     44161|      0|        9.0|          37.0|\n",
      "|1112727762809913344|     18172|      1|       12.0|          54.0|\n",
      "|                  1|     44386|      1|       10.0|          11.0|\n",
      "|                  1|     44696|      0|       10.0|          97.0|\n",
      "|                 10|     43907|      0|        3.0|           1.0|\n",
      "|1106473203766657024|     16005|      0|        5.0|          32.0|\n",
      "|1108264901190615040|     15196|      0|        6.0|           7.0|\n",
      "|                 23|     44739|      1|       17.0|           4.0|\n",
      "|                 33|     13570|      0|       13.0|          19.0|\n",
      "|                  1|     17632|      0|       10.0|         143.0|\n",
      "|1106473203766657024|     17665|      0|        5.0|          25.0|\n",
      "|1111189494544990208|     44368|      0|        1.0|           3.0|\n",
      "|                 10|     44368|      0|        3.0|           3.0|\n",
      "|1105093883106164736|     15750|      0|       19.0|          39.0|\n",
      "|1106396183141548032|     19476|      0|        0.0|         121.0|\n",
      "|1111524501104885760|     19233|      0|        9.0|          36.0|\n",
      "|                  2|     44371|      1|       11.0|         174.0|\n",
      "+-------------------+----------+-------+-----------+--------------+\n",
      "only showing top 20 rows\n",
      "\n"
     ]
    }
   ],
   "source": [
    "# 1.2、对用户ID和文章ID进行 索引建立（ALS模型要求ID必须为连续值）\n",
    "from pyspark.ml.feature import StringIndexer\n",
    "from pyspark.ml import Pipeline\n",
    "\n",
    "user_indexer = StringIndexer(inputCol='user_id', outputCol='als_user_id')\n",
    "article_indexer = StringIndexer(inputCol='article_id', outputCol='als_article_id')\n",
    "pip = Pipeline(stages=[user_indexer, article_indexer])\n",
    "pip_model = pip.fit(user_article_basic)\n",
    "als_user_article = pip_model.transform(user_article_basic)\n",
    "\n",
    "als_user_article.show()"
   ]
  },
  {
   "cell_type": "code",
   "execution_count": null,
   "metadata": {},
   "outputs": [],
   "source": []
  },
  {
   "cell_type": "code",
   "execution_count": 5,
   "metadata": {},
   "outputs": [],
   "source": [
    "# 2、ALS模型训练以及召回（不要求 用户 对 文章 进行过点击操作）\n",
    "from pyspark.ml.recommendation import ALS\n",
    "als = ALS(userCol='als_user_id', itemCol='als_article_id', ratingCol='clicked')\n",
    "als_model = als.fit(als_user_article)"
   ]
  },
  {
   "cell_type": "code",
   "execution_count": 6,
   "metadata": {},
   "outputs": [
    {
     "name": "stdout",
     "output_type": "stream",
     "text": [
      "+-----------+--------------------+\n",
      "|als_user_id|     recommendations|\n",
      "+-----------+--------------------+\n",
      "|         12|[[206,0.24420713]...|\n",
      "|          1|[[93,0.43134642],...|\n",
      "|         13|[[86,0.24655676],...|\n",
      "|          6|[[263,0.16326441]...|\n",
      "|         16|[[0,0.0], [10,0.0...|\n",
      "|          3|[[194,0.041715674...|\n",
      "|         20|[[0,0.0], [10,0.0...|\n",
      "|          5|[[263,0.020065013...|\n",
      "|         19|[[86,0.26618388],...|\n",
      "|         15|[[95,0.7112801], ...|\n",
      "|         17|[[120,0.362706], ...|\n",
      "|          9|[[0,0.0], [10,0.0...|\n",
      "|          4|[[263,0.017946413...|\n",
      "|          8|[[263,0.3617737],...|\n",
      "|          7|[[120,0.062985495...|\n",
      "|         10|[[206,0.7824564],...|\n",
      "|         11|[[206,0.94103646]...|\n",
      "|         14|[[206,0.688044], ...|\n",
      "|          2|[[263,0.63011396]...|\n",
      "|          0|[[251,0.64324313]...|\n",
      "+-----------+--------------------+\n",
      "only showing top 20 rows\n",
      "\n"
     ]
    }
   ],
   "source": [
    "# 每个用户推荐100条物品数据，也就是recommendations字段（二维数组）每一行是二维数组：包含100个一维数组[物品ID, 得分]\n",
    "# 是基于 所有频道的历史点击数据 做出的召回结果。\n",
    "recall_res = als_model.recommendForAllUsers(100)\n",
    "recall_res.show()"
   ]
  },
  {
   "cell_type": "code",
   "execution_count": null,
   "metadata": {},
   "outputs": [],
   "source": []
  },
  {
   "cell_type": "code",
   "execution_count": 7,
   "metadata": {},
   "outputs": [
    {
     "name": "stdout",
     "output_type": "stream",
     "text": [
      "+-------------------+-----------+\n",
      "|            user_id|als_user_id|\n",
      "+-------------------+-----------+\n",
      "|1106473203766657024|        5.0|\n",
      "|1103195673450250240|        7.0|\n",
      "|1105045287866466304|        4.0|\n",
      "|1111524501104885760|        9.0|\n",
      "|1105105185656537088|        8.0|\n",
      "|1113316420155867136|       18.0|\n",
      "|                 33|       13.0|\n",
      "|                  1|       10.0|\n",
      "|1113244157343694848|       15.0|\n",
      "|                 10|        3.0|\n",
      "|1113053603926376448|       20.0|\n",
      "|1112727762809913344|       12.0|\n",
      "|                  2|       11.0|\n",
      "|                  4|       14.0|\n",
      "|1106476833370537984|        2.0|\n",
      "|1106396183141548032|        0.0|\n",
      "|                 38|       16.0|\n",
      "|                 23|       17.0|\n",
      "|1108264901190615040|        6.0|\n",
      "|1111189494544990208|        1.0|\n",
      "+-------------------+-----------+\n",
      "only showing top 20 rows\n",
      "\n"
     ]
    }
   ],
   "source": [
    "# 3、召回结果解析处理\n",
    "# 建立用户真实ID与用户索引的映射，文章真实ID与文章索引的映射\n",
    "# user_article_basic表 是经过 group by user_id, article_id，所以user_id, article_id是唯一行。但单独的user_id不是唯一行，所以进行groupby操作。\n",
    "user_real_index = als_user_article.groupBy(['user_id']).max('als_user_id').withColumnRenamed('max(als_user_id)', 'als_user_id')\n",
    "user_real_index.show()"
   ]
  },
  {
   "cell_type": "code",
   "execution_count": 8,
   "metadata": {},
   "outputs": [],
   "source": [
    "# user_article_basic表 是经过 group by user_id, article_id，所以user_id, article_id是唯一行。但单独的article_id不是唯一行，所以进行groupby操作。\n",
    "article_real_index = als_user_article.groupBy(['article_id']).max('als_article_id').withColumnRenamed('max(als_article_id)', 'als_article_id')"
   ]
  },
  {
   "cell_type": "code",
   "execution_count": 9,
   "metadata": {},
   "outputs": [],
   "source": [
    "# 召回结果  left join  user_real_index真实用户ID  on  als_user_id  确定真实用户ID  \n",
    "recall_res = recall_res.join(user_real_index, on=['als_user_id'], how='left').select(['als_user_id', 'recommendations', 'user_id'])"
   ]
  },
  {
   "cell_type": "code",
   "execution_count": 10,
   "metadata": {},
   "outputs": [
    {
     "name": "stdout",
     "output_type": "stream",
     "text": [
      "+-----------+--------------------+-------------------+\n",
      "|als_user_id|     recommendations|            user_id|\n",
      "+-----------+--------------------+-------------------+\n",
      "|          8|[[263,0.3617737],...|1105105185656537088|\n",
      "|          0|[[251,0.64324313]...|1106396183141548032|\n",
      "|          7|[[120,0.062985495...|1103195673450250240|\n",
      "|         18|[[0,0.0], [10,0.0...|1113316420155867136|\n",
      "|          1|[[93,0.43134642],...|1111189494544990208|\n",
      "|          4|[[263,0.017946413...|1105045287866466304|\n",
      "|         11|[[206,0.94103646]...|                  2|\n",
      "|         14|[[206,0.688044], ...|                  4|\n",
      "|          3|[[194,0.041715674...|                 10|\n",
      "|         19|[[86,0.26618388],...|1105093883106164736|\n",
      "|          2|[[263,0.63011396]...|1106476833370537984|\n",
      "|         17|[[120,0.362706], ...|                 23|\n",
      "|         10|[[206,0.7824564],...|                  1|\n",
      "|         13|[[86,0.24655676],...|                 33|\n",
      "|          6|[[263,0.16326441]...|1108264901190615040|\n",
      "|         20|[[0,0.0], [10,0.0...|1113053603926376448|\n",
      "|          5|[[263,0.020065013...|1106473203766657024|\n",
      "|         15|[[95,0.7112801], ...|1113244157343694848|\n",
      "|          9|[[0,0.0], [10,0.0...|1111524501104885760|\n",
      "|         16|[[0,0.0], [10,0.0...|                 38|\n",
      "+-----------+--------------------+-------------------+\n",
      "only showing top 20 rows\n",
      "\n"
     ]
    }
   ],
   "source": [
    "recall_res.show()"
   ]
  },
  {
   "cell_type": "code",
   "execution_count": 11,
   "metadata": {},
   "outputs": [],
   "source": [
    "# 对于文章召回的解析（爆炸/展开recommendations字段：每个元素是数组：als_article_id、得分）\n",
    "# 每个用户 对应 100个文章的数组（一行），所以爆炸后 每个用户 对应 100行文章\n",
    "import pyspark.sql.functions as F\n",
    "\n",
    "recall_res = recall_res.withColumn('als_article_id', F.explode('recommendations')).drop('recommendations').select(['user_id', 'als_article_id'])"
   ]
  },
  {
   "cell_type": "code",
   "execution_count": 12,
   "metadata": {},
   "outputs": [
    {
     "name": "stdout",
     "output_type": "stream",
     "text": [
      "+-------------------+----------------+\n",
      "|            user_id|  als_article_id|\n",
      "+-------------------+----------------+\n",
      "|1105105185656537088| [263,0.3617737]|\n",
      "|1105105185656537088|[105,0.25136366]|\n",
      "|1105105185656537088|[115,0.25136366]|\n",
      "|1105105185656537088| [251,0.1678243]|\n",
      "|1105105185656537088| [235,0.1678243]|\n",
      "|1105105185656537088| [222,0.1678243]|\n",
      "|1105105185656537088| [176,0.1678243]|\n",
      "|1105105185656537088| [236,0.1678243]|\n",
      "|1105105185656537088| [15,0.15409718]|\n",
      "|1105105185656537088|[100,0.12378816]|\n",
      "|1105105185656537088| [36,0.11328213]|\n",
      "|1105105185656537088| [12,0.10554226]|\n",
      "|1105105185656537088|  [5,0.07051791]|\n",
      "|1105105185656537088|[50,0.043745853]|\n",
      "|1105105185656537088|  [6,0.04333634]|\n",
      "|1105105185656537088|[20,0.039285682]|\n",
      "|1105105185656537088| [3,0.033709545]|\n",
      "|1105105185656537088| [40,0.03357851]|\n",
      "|1105105185656537088| [49,0.03232057]|\n",
      "|1105105185656537088|[13,0.029429993]|\n",
      "+-------------------+----------------+\n",
      "only showing top 20 rows\n",
      "\n"
     ]
    }
   ],
   "source": [
    "recall_res.show()"
   ]
  },
  {
   "cell_type": "code",
   "execution_count": 13,
   "metadata": {},
   "outputs": [],
   "source": [
    "# 取出als_article_id：als_article_id[0]为物品ID，als_article_id[1]为推荐得分。\n",
    "def get_article_index(row):\n",
    "    return row.user_id, row.als_article_id[0]\n",
    "\n",
    "recall_res = recall_res.rdd.map(get_article_index).toDF(['user_id', 'als_article_id'])"
   ]
  },
  {
   "cell_type": "code",
   "execution_count": 14,
   "metadata": {},
   "outputs": [
    {
     "name": "stdout",
     "output_type": "stream",
     "text": [
      "+-------------------+--------------+\n",
      "|            user_id|als_article_id|\n",
      "+-------------------+--------------+\n",
      "|1105105185656537088|           263|\n",
      "|1105105185656537088|           105|\n",
      "|1105105185656537088|           115|\n",
      "|1105105185656537088|           251|\n",
      "|1105105185656537088|           235|\n",
      "|1105105185656537088|           222|\n",
      "|1105105185656537088|           176|\n",
      "|1105105185656537088|           236|\n",
      "|1105105185656537088|            15|\n",
      "|1105105185656537088|           100|\n",
      "|1105105185656537088|            36|\n",
      "|1105105185656537088|            12|\n",
      "|1105105185656537088|             5|\n",
      "|1105105185656537088|            50|\n",
      "|1105105185656537088|             6|\n",
      "|1105105185656537088|            20|\n",
      "|1105105185656537088|             3|\n",
      "|1105105185656537088|            40|\n",
      "|1105105185656537088|            49|\n",
      "|1105105185656537088|            13|\n",
      "+-------------------+--------------+\n",
      "only showing top 20 rows\n",
      "\n"
     ]
    }
   ],
   "source": [
    "recall_res.show()"
   ]
  },
  {
   "cell_type": "code",
   "execution_count": 15,
   "metadata": {},
   "outputs": [],
   "source": [
    "# 召回结果  left join  article_real_index文章真实ID  on  als_article_id  确定真实文章ID\n",
    "recall_res = recall_res.join(article_real_index, on=['als_article_id'], how='left').select(['user_id', 'article_id'])"
   ]
  },
  {
   "cell_type": "code",
   "execution_count": null,
   "metadata": {},
   "outputs": [],
   "source": []
  },
  {
   "cell_type": "code",
   "execution_count": 16,
   "metadata": {},
   "outputs": [
    {
     "name": "stdout",
     "output_type": "stream",
     "text": [
      "+-------------------+----------+\n",
      "|            user_id|article_id|\n",
      "+-------------------+----------+\n",
      "|1113316420155867136|    134730|\n",
      "|                 33|    134730|\n",
      "|1113053603926376448|    134730|\n",
      "|1111524501104885760|    134730|\n",
      "|                 38|    134730|\n",
      "|                 33|     19494|\n",
      "|1105105185656537088|     18127|\n",
      "|1106396183141548032|     18127|\n",
      "|1103195673450250240|     18127|\n",
      "|1113316420155867136|     18127|\n",
      "|1111189494544990208|     18127|\n",
      "|1105045287866466304|     18127|\n",
      "|                  2|     18127|\n",
      "|                  4|     18127|\n",
      "|                 10|     18127|\n",
      "|1106476833370537984|     18127|\n",
      "|                 23|     18127|\n",
      "|                  1|     18127|\n",
      "|1108264901190615040|     18127|\n",
      "|1113053603926376448|     18127|\n",
      "+-------------------+----------+\n",
      "only showing top 20 rows\n",
      "\n"
     ]
    }
   ],
   "source": [
    "# 4、召回结果存储（user_id 和 article_id 还是唯一行）\n",
    "# 获取每个文章对应的频道，推荐给用户时按照频道存储\n",
    "recall_res.show()"
   ]
  },
  {
   "cell_type": "code",
   "execution_count": 17,
   "metadata": {},
   "outputs": [
    {
     "name": "stdout",
     "output_type": "stream",
     "text": [
      "+----------+----------+\n",
      "|article_id|channel_id|\n",
      "+----------+----------+\n",
      "|         1|        17|\n",
      "|         2|        17|\n",
      "|         3|        17|\n",
      "|         4|        17|\n",
      "|         5|        17|\n",
      "|         6|        17|\n",
      "|         7|        17|\n",
      "|         8|        17|\n",
      "|         9|        17|\n",
      "|        10|        17|\n",
      "|        11|        17|\n",
      "|        12|        17|\n",
      "|        13|        17|\n",
      "|        14|        17|\n",
      "|        15|        17|\n",
      "|        17|        17|\n",
      "|        18|        17|\n",
      "|        19|        17|\n",
      "|        20|        17|\n",
      "|        21|        17|\n",
      "+----------+----------+\n",
      "only showing top 20 rows\n",
      "\n"
     ]
    }
   ],
   "source": [
    "# 查询 文章信息表article_data 找到每个文章对应的频道，然后按照频道分组\n",
    "ur.spark.sql('use article')\n",
    "article_data = ur.spark.sql(\"select article_id, channel_id from article_data\")\n",
    "article_data.show()"
   ]
  },
  {
   "cell_type": "code",
   "execution_count": 18,
   "metadata": {},
   "outputs": [],
   "source": [
    "# 召回结果  left join  文章信息表article_data  on  article_id  拿到召回结果对应的频道ID\n",
    "recall_channel = recall_res.join(article_data, on=['article_id'], how='left')"
   ]
  },
  {
   "cell_type": "code",
   "execution_count": 20,
   "metadata": {},
   "outputs": [
    {
     "name": "stdout",
     "output_type": "stream",
     "text": [
      "+----------+-------------------+----------+\n",
      "|article_id|            user_id|channel_id|\n",
      "+----------+-------------------+----------+\n",
      "|     14805|1105105185656537088|        18|\n",
      "|     14805|1106396183141548032|        18|\n",
      "|     14805|1103195673450250240|        18|\n",
      "|     14805|1113316420155867136|        18|\n",
      "|     14805|1111189494544990208|        18|\n",
      "|     14805|1105045287866466304|        18|\n",
      "|     14805|                  2|        18|\n",
      "|     14805|                  4|        18|\n",
      "|     14805|                 10|        18|\n",
      "|     14805|1106476833370537984|        18|\n",
      "|     14805|                 23|        18|\n",
      "|     14805|                  1|        18|\n",
      "|     14805|1108264901190615040|        18|\n",
      "|     14805|1113053603926376448|        18|\n",
      "|     14805|1106473203766657024|        18|\n",
      "|     14805|1113244157343694848|        18|\n",
      "|     14805|1111524501104885760|        18|\n",
      "|     14805|                 38|        18|\n",
      "|     14805|1112727762809913344|        18|\n",
      "|     44013|1105105185656537088|        18|\n",
      "+----------+-------------------+----------+\n",
      "only showing top 20 rows\n",
      "\n"
     ]
    }
   ],
   "source": [
    "recall_channel.show()"
   ]
  },
  {
   "cell_type": "code",
   "execution_count": 21,
   "metadata": {},
   "outputs": [],
   "source": [
    "# 以 user_id, channel_id 为分组条件，agg(F.collect_list('article_id')) 将 文章ID 合并为列表格式字段\n",
    "recall_channel = recall_channel.groupBy(['user_id', 'channel_id']).agg(F.collect_list('article_id')).withColumnRenamed('collect_list(article_id)', 'article_list')\n",
    "recall_channel = recall_channel.dropna()"
   ]
  },
  {
   "cell_type": "code",
   "execution_count": 22,
   "metadata": {},
   "outputs": [
    {
     "name": "stdout",
     "output_type": "stream",
     "text": [
      "+-------------------+----------+--------------------+\n",
      "|            user_id|channel_id|        article_list|\n",
      "+-------------------+----------+--------------------+\n",
      "|                 23|        18|[14805, 44013, 17...|\n",
      "|                 38|        13|            [141431]|\n",
      "|                 10|         5|            [141440]|\n",
      "|                 33|        18|[44013, 134730, 1...|\n",
      "|                  1|         7|    [141469, 141437]|\n",
      "|                  4|         7|    [141469, 141437]|\n",
      "|1106396183141548032|         5|            [141440]|\n",
      "|                  1|        18|[14805, 44013, 17...|\n",
      "|1113053603926376448|        13|            [141431]|\n",
      "|1112727762809913344|         7|    [141469, 141437]|\n",
      "|1111189494544990208|         5|            [141440]|\n",
      "|1111524501104885760|        18|[14805, 44013, 13...|\n",
      "|1105105185656537088|         7|    [141469, 141437]|\n",
      "|1113316420155867136|        13|            [141431]|\n",
      "|1111524501104885760|        13|            [141431]|\n",
      "|                 23|         7|    [141469, 141437]|\n",
      "|1108264901190615040|         7|    [141469, 141437]|\n",
      "|1111189494544990208|        13|            [141431]|\n",
      "|1106396183141548032|        18|[14805, 44013, 17...|\n",
      "|1113244157343694848|         7|            [141437]|\n",
      "+-------------------+----------+--------------------+\n",
      "only showing top 20 rows\n",
      "\n"
     ]
    }
   ],
   "source": [
    "recall_channel.show()"
   ]
  },
  {
   "cell_type": "code",
   "execution_count": 23,
   "metadata": {},
   "outputs": [],
   "source": [
    "# 使用foreachPartition存储进HBase\n",
    "def save_offline_recall_hbase(partition):\n",
    "    \"\"\"离线模型召回结果存储\n",
    "    \"\"\"\n",
    "    import happybase\n",
    "    pool = happybase.ConnectionPool(size=10, host='hadoop-master', port=9090)\n",
    "    for row in partition:\n",
    "        with pool.connection() as conn:\n",
    "            # 获取 该用户 历史上看过的 该频道 推荐过的所有版本的文章\n",
    "            history_table = conn.table('history_recall')\n",
    "            # .cells：取出多个版本的所有值\n",
    "            data = history_table.cells('reco:his:{}'.format(row.user_id).encode(),\n",
    "                                       'channel:{}'.format(row.channel_id).encode())\n",
    "\n",
    "            history = []\n",
    "            if len(data) >= 1:\n",
    "                for l in data:\n",
    "                    history.extend(eval(l))\n",
    "            else:\n",
    "                history = []\n",
    "\n",
    "            # 过滤 reco_article 与 history 的差集：新增的推荐文章\n",
    "            reco_res = list(set(row.article_list) - set(history))\n",
    "\n",
    "            # 对 过滤历史召回的所有结果 进行存储：放入cb_recall表 以及 history_recall表\n",
    "            if reco_res:\n",
    "                table = conn.table('cb_recall')\n",
    "                # 放入cb_recall表\n",
    "                table.put('recall:user:{}'.format(row.user_id).encode(),\n",
    "                          {'als:{}'.format(row.channel_id).encode(): str(reco_res).encode()})\n",
    "\n",
    "                # 放入history_recall表：历史推荐过文章\n",
    "                history_table.put(\"reco:his:{}\".format(row.user_id).encode(),\n",
    "                                  {'channel:{}'.format(row.channel_id): str(reco_res).encode()})\n",
    "                \n",
    "            conn.close()\n",
    "\n",
    "            \n",
    "recall_channel.foreachPartition(save_offline_recall_hbase)"
   ]
  },
  {
   "cell_type": "code",
   "execution_count": null,
   "metadata": {},
   "outputs": [],
   "source": [
    "\n",
    "\n"
   ]
  },
  {
   "cell_type": "code",
   "execution_count": 30,
   "metadata": {},
   "outputs": [
    {
     "name": "stdout",
     "output_type": "stream",
     "text": [
      "+-------------------+-------------------+----------+----------+------+-------+---------+--------+---------+\n",
      "|            user_id|        action_time|article_id|channel_id|shared|clicked|collected|exposure|read_time|\n",
      "+-------------------+-------------------+----------+----------+------+-------+---------+--------+---------+\n",
      "|1112727762809913344|2019-04-03 12:51:57|     18172|        18| false|   true|     true|    true|    19413|\n",
      "|                  1|2019-03-07 16:57:34|     44386|        18| false|   true|    false|    true|    17850|\n",
      "|                 23|2019-04-03 08:10:23|     44739|        18| false|   true|    false|    true|    14216|\n",
      "|                  2|2019-03-05 10:19:54|     44371|        18| false|   true|    false|    true|      938|\n",
      "|                  2|2019-03-07 10:06:20|     18103|        18| false|   true|    false|    true|      648|\n",
      "|1111189494544990208|2019-03-28 16:56:55|     44737|        18| false|   true|    false|    true|     4138|\n",
      "|                  2|2019-03-15 14:51:12|     43894|        18| false|   true|    false|    true|      928|\n",
      "|1106396183141548032|2019-03-28 10:55:51|     18156|        18| false|   true|    false|    true|     9902|\n",
      "|                  2|2019-04-03 09:40:39|     18005|        18| false|   true|    false|    true|    16900|\n",
      "|                 23|2019-04-03 10:03:05|     13751|        18| false|   true|    false|    true|     9895|\n",
      "|                  1|2019-03-20 18:13:11|    141469|         7| false|   true|    false|    true|     9916|\n",
      "|                  2|2019-03-07 10:05:29|     18836|        18| false|   true|    false|    true|      835|\n",
      "|                  2|2019-03-07 10:06:57|     14961|        18| false|   true|    false|    true|     5248|\n",
      "|                  1|2019-03-20 15:02:56|    141437|         7| false|   true|    false|    true|     2012|\n",
      "|                  2|2019-03-15 11:42:42|     13890|        18| false|   true|    false|    true|      426|\n",
      "|                 33|2019-03-11 18:03:59|     17304|        18| false|   true|    false|    true|         |\n",
      "|                  1|2019-03-20 15:06:52|    141440|         5| false|   true|    false|    true|     2329|\n",
      "|1111189494544990208|2019-03-28 16:57:35|     13750|        18| false|   true|    false|    true|    29997|\n",
      "|1111189494544990208|2019-03-28 16:59:28|     18795|        18| false|   true|    false|    true|     8307|\n",
      "|1111189494544990208|2019-03-28 17:01:22|     18335|        18| false|   true|    false|    true|     3260|\n",
      "+-------------------+-------------------+----------+----------+------+-------+---------+--------+---------+\n",
      "only showing top 20 rows\n",
      "\n"
     ]
    }
   ],
   "source": [
    "# 3.5 离线用户基于内容召回集（要求 用户 对 文章 进行过点击操作）\n",
    "# 基于内容相似召回（画像召回 必须为 用户有点击行为）\n",
    "ur.spark.sql('use profile')\n",
    "user_article_basic = ur.spark.sql(\"select * from user_article_basic\")\n",
    "user_article_basic = user_article_basic.filter('clicked=True')\n",
    "# user_article_basic = ur.spark.sql(\"select * from user_article_basic where clicked = false\")\n",
    "user_article_basic.show()"
   ]
  },
  {
   "cell_type": "code",
   "execution_count": 31,
   "metadata": {},
   "outputs": [],
   "source": [
    "# 基于 ALS 和 内容 的推荐 都是存入到 HBASE的 cb_recall表（列族不同）、history_recall表\n",
    "def get_clicked_article_similar(partition):\n",
    "    \"\"\"召回用户点击的文章当中相似的文章推荐\n",
    "    \"\"\"\n",
    "    import happybase\n",
    "    pool = happybase.ConnectionPool(size=10, host='hadoop-master')\n",
    "    \n",
    "    with pool.connection() as conn:\n",
    "        similar_table = conn.table('article_similar')\n",
    "        \n",
    "        for row in partition:\n",
    "            # 1、获取用户点击的某文章相似文章结果并排序过滤：相似结果取出TOPK：根据实际场景选择大小，10或20\n",
    "            # 获取 文章相似度article_similar表\n",
    "            similar_article = similar_table.row(str(row.article_id).encode(), columns=[b'similar'])\n",
    "            # 相似文章相似度排序过滤，召回不需要太大的数据， 百个，千\n",
    "            _srt = sorted(similar_article.items(), key=lambda item: item[1], reverse=True)\n",
    "            if _srt:\n",
    "                # 每次行为推荐10篇文章\n",
    "                reco_article = [int(i[0].split(b':')[1]) for i in _srt][:10]\n",
    "            \n",
    "                # 2、过滤历史召回的所有文章(所有的召回类型)\n",
    "                history_table = conn.table('history_recall')\n",
    "                # 多个版本\n",
    "                data = history_table.cells('reco:his:{}'.format(row.user_id).encode(),\n",
    "                                           'channel:{}'.format(row.channel_id).encode())\n",
    "\n",
    "                history = []\n",
    "                if len(data) >= 2:\n",
    "                    for l in data[:-1]:\n",
    "                        history.extend(eval(l))\n",
    "                else:\n",
    "                    history = []\n",
    "\n",
    "                # 过滤 reco_article 与 history 的差集：新增的推荐文章\n",
    "                reco_res = list(set(reco_article) - set(history))\n",
    "\n",
    "                # 3、对 过滤历史召回的所有结果 进行存储：放入cb_recall表 以及 history_recall表\n",
    "                if reco_res:\n",
    "                    # content_table = conn.table('cb_content_recall')\n",
    "                    # 放入cb_recall表（只是列族换为content）\n",
    "                    content_table = conn.table('cb_recall')\n",
    "                    content_table.put(\"recall:user:{}\".format(row.user_id).encode(),\n",
    "                                      {'content:{}'.format(row.channel_id).encode(): str(reco_res).encode()})\n",
    "\n",
    "                    # 放入history_recall表：历史推荐过文章\n",
    "                    history_table.put(\"reco:his:{}\".format(row.user_id).encode(),\n",
    "                                      {'channel:{}'.format(row.channel_id).encode(): str(reco_res).encode()})\n",
    "\n",
    "        conn.close()\n",
    "        \n",
    "        \n",
    "user_article_basic.foreachPartition(get_clicked_article_similar)"
   ]
  },
  {
   "cell_type": "code",
   "execution_count": null,
   "metadata": {},
   "outputs": [],
   "source": []
  }
 ],
 "metadata": {
  "kernelspec": {
   "display_name": "Python 3",
   "language": "python",
   "name": "python3"
  },
  "language_info": {
   "codemirror_mode": {
    "name": "ipython",
    "version": 3
   },
   "file_extension": ".py",
   "mimetype": "text/x-python",
   "name": "python",
   "nbconvert_exporter": "python",
   "pygments_lexer": "ipython3",
   "version": "3.6.4"
  }
 },
 "nbformat": 4,
 "nbformat_minor": 2
}
