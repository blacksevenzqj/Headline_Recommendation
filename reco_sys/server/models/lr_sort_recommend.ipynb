{
 "cells": [
  {
   "cell_type": "code",
   "execution_count": 2,
   "metadata": {},
   "outputs": [
    {
     "name": "stdout",
     "output_type": "stream",
     "text": [
      "['/root/toutiao_project/reco_sys', '/root/toutiao_project/reco_sys', '/root/bigdata/spark-2.2.2-bin-hadoop2.7/tmp/spark-8883d56a-5594-4db9-9566-ad6dfe5eb25d/userFiles-f40672a5-7edf-4718-9726-4816ae9f1985/org.apache.spark_spark-streaming-kafka-0-8_2.11-2.2.2.jar', '/root/bigdata/spark-2.2.2-bin-hadoop2.7/tmp/spark-8883d56a-5594-4db9-9566-ad6dfe5eb25d/userFiles-f40672a5-7edf-4718-9726-4816ae9f1985', '/miniconda2/envs/py365/lib/python36.zip', '/miniconda2/envs/py365/lib/python3.6', '/miniconda2/envs/py365/lib/python3.6/lib-dynload', '', '/miniconda2/envs/py365/lib/python3.6/site-packages', '/miniconda2/envs/py365/lib/python3.6/site-packages/pyspark-2.2.2-py3.6.egg', '/miniconda2/envs/py365/lib/python3.6/site-packages/py4j-0.10.7-py3.6.egg', '/miniconda2/envs/py365/lib/python3.6/site-packages/IPython/extensions', '/root/.ipython']\n"
     ]
    }
   ],
   "source": [
    "import os\n",
    "import sys\n",
    "# 如果当前代码文件运行测试需要加入修改路径，避免出现后导包问题\n",
    "BASE_DIR = os.path.dirname(os.path.dirname(os.getcwd()))\n",
    "sys.path.insert(0, os.path.join(BASE_DIR))\n",
    "print(sys.path)\n",
    "\n",
    "PYSPARK_PYTHON = \"/miniconda2/envs/py365/bin/python\"\n",
    "os.environ[\"PYSPARK_PYTHON\"] = PYSPARK_PYTHON\n",
    "os.environ[\"PYSPARK_DRIVER_PYTHON\"] = PYSPARK_PYTHON\n",
    "from pyspark import SparkConf\n",
    "from pyspark.sql import SparkSession\n",
    "from server.utils import HBaseUtils\n",
    "from server import pool\n",
    "from pyspark.ml.linalg import DenseVector\n",
    "from pyspark.ml.classification import LogisticRegressionModel\n",
    "import pandas as pd\n",
    "\n",
    "\n",
    "conf = SparkConf()\n",
    "config = (\n",
    "    (\"spark.app.name\", \"sort\"),\n",
    "    (\"spark.executor.memory\", \"2g\"),    # 设置该app启动时占用的内存用量，默认1g\n",
    "    (\"spark.master\", 'local'),\n",
    "    (\"spark.executor.cores\", \"2\"),   # 设置spark executor使用的CPU核心数\n",
    ")\n",
    "\n",
    "conf.setAll(config)\n",
    "spark = SparkSession.builder.config(conf=conf).getOrCreate()"
   ]
  },
  {
   "cell_type": "code",
   "execution_count": 8,
   "metadata": {},
   "outputs": [
    {
     "data": {
      "text/plain": [
       "b'[0.14721006870437733, 0.14721006870437733, 0.14721006870437733, 0.14721006870437733, 0.14721006870437733, 0.14721006870437733, 0.14721006870437733, 0.14721006870437733, 0.14721006870437733, 0.14721006870437733]'"
      ]
     },
     "execution_count": 8,
     "metadata": {},
     "output_type": "execute_result"
    }
   ],
   "source": [
    "# 1、读取用户特征中心特征\n",
    "hbu = HBaseUtils(pool)\n",
    "\n",
    "# 一个用户一个频道 10个特征\n",
    "user_feature = hbu.get_table_row('ctr_feature_user', \n",
    "                                 '{}'.format(33).encode(), \n",
    "                                 'channel:{}'.format(18).encode())\n",
    "\n",
    "user_feature"
   ]
  },
  {
   "cell_type": "code",
   "execution_count": 9,
   "metadata": {},
   "outputs": [
    {
     "data": {
      "text/plain": [
       "[0.14721006870437733,\n",
       " 0.14721006870437733,\n",
       " 0.14721006870437733,\n",
       " 0.14721006870437733,\n",
       " 0.14721006870437733,\n",
       " 0.14721006870437733,\n",
       " 0.14721006870437733,\n",
       " 0.14721006870437733,\n",
       " 0.14721006870437733,\n",
       " 0.14721006870437733]"
      ]
     },
     "execution_count": 9,
     "metadata": {},
     "output_type": "execute_result"
    }
   ],
   "source": [
    "user_feature = eval(user_feature)\n",
    "user_feature"
   ]
  },
  {
   "cell_type": "code",
   "execution_count": 16,
   "metadata": {},
   "outputs": [
    {
     "data": {
      "text/plain": [
       "[14.0,\n",
       " -0.1597178906395438,\n",
       " 0.047595658393704166,\n",
       " 0.5205821302190746,\n",
       " -0.019718065179636472,\n",
       " -0.10946040663789464,\n",
       " -0.15757928151423795,\n",
       " -0.013670710450050399,\n",
       " 0.03645287254715425,\n",
       " 0.25406474653737304,\n",
       " -0.13226773363067834,\n",
       " -0.048040077440014074,\n",
       " 0.30019034955801827,\n",
       " -0.2429848399815986,\n",
       " -0.1378455065700694,\n",
       " -0.08223016260269847,\n",
       " 0.20270035657981078,\n",
       " 0.15565735109014608,\n",
       " 0.11037480078314142,\n",
       " -0.2108467937026986,\n",
       " -0.2005208419574983,\n",
       " 0.19176131380486253,\n",
       " 0.32589828180575975,\n",
       " 0.06569154631794775,\n",
       " -0.05662128700056055,\n",
       " 0.0624347428208139,\n",
       " 0.09256548255818202,\n",
       " 0.06822155657964919,\n",
       " -0.09876904579215798,\n",
       " -0.017533950130166384,\n",
       " 0.16172308986110057,\n",
       " -0.2697586685874415,\n",
       " 0.03174963247634502,\n",
       " 0.09991063275233811,\n",
       " -0.0030943768704164753,\n",
       " 0.27127629628395805,\n",
       " 0.060498770526744884,\n",
       " 0.023553362625858994,\n",
       " 0.05218207008281888,\n",
       " 0.352149604500839,\n",
       " -0.11780444072240416,\n",
       " 0.04057283694892542,\n",
       " -0.060035037120139925,\n",
       " -0.17734370976131034,\n",
       " -0.08316838863181261,\n",
       " -0.15083335870620912,\n",
       " -0.1427207413955666,\n",
       " 0.033945011953058886,\n",
       " 0.028275324118412964,\n",
       " 0.07544920972921147,\n",
       " 0.14575587178949223,\n",
       " 0.05617456853108003,\n",
       " -0.05363341610911988,\n",
       " -0.005849244472322364,\n",
       " 0.10324822354745497,\n",
       " -0.1061930422463142,\n",
       " 0.14515407341648662,\n",
       " -0.11151329922478025,\n",
       " -0.12675119812566446,\n",
       " -0.22877558733303027,\n",
       " 0.12096655949648609,\n",
       " 0.16400557566837828,\n",
       " -0.06757132892299149,\n",
       " -0.020594230421787534,\n",
       " -0.12733856687643585,\n",
       " -0.15882952246338322,\n",
       " 0.25515066221070287,\n",
       " -0.2494073654631092,\n",
       " -0.007502983855543996,\n",
       " 0.057889245676046405,\n",
       " 0.13932025869697634,\n",
       " 0.0495554751537256,\n",
       " 0.08570620185639062,\n",
       " -0.09939533622375522,\n",
       " 0.2928020976830437,\n",
       " 0.39814791251599113,\n",
       " 0.07985407752493927,\n",
       " -0.03434151253187877,\n",
       " -0.14922612442744138,\n",
       " -0.28152824838513885,\n",
       " -0.05166137856256983,\n",
       " -0.13918114061009962,\n",
       " 0.04126056834818696,\n",
       " -0.1668072829265372,\n",
       " 0.0030500387277842137,\n",
       " 0.08635215339145925,\n",
       " -0.12445792866478958,\n",
       " -0.013629993130653231,\n",
       " 0.14524217277609908,\n",
       " 0.160447092245877,\n",
       " 0.15325998570366192,\n",
       " 0.2623264401805842,\n",
       " -0.0018664053551770085,\n",
       " -0.02494445958404702,\n",
       " 0.07613242255856767,\n",
       " -0.13085642987961568,\n",
       " 0.17850307799761145,\n",
       " -0.17224867769437927,\n",
       " -0.13246474927313898,\n",
       " -0.0838462220447577,\n",
       " -0.01504364068111343,\n",
       " 0.2832421663610705,\n",
       " 0.4187385674922899,\n",
       " 0.5078332882567635,\n",
       " 0.5166745498602419,\n",
       " 0.6703643236825273,\n",
       " 0.7007427696576196,\n",
       " 0.8034508891842348,\n",
       " 0.9845289964847721,\n",
       " 0.9972173810542918,\n",
       " 1.3731328586721883]"
      ]
     },
     "execution_count": 16,
     "metadata": {},
     "output_type": "execute_result"
    }
   ],
   "source": [
    "# 一篇文章：1个channel_id + 100个文章向量article_vector + 10个文章关键词权重article_keywords_weights = 111个特征向量\n",
    "article_feature = eval(hbu.get_table_row('ctr_feature_article', \n",
    "                                                 '{}'.format(120493).encode(), \n",
    "                                                 'article:{}'.format(120493).encode()))\n",
    "\n",
    "article_feature"
   ]
  },
  {
   "cell_type": "code",
   "execution_count": 67,
   "metadata": {},
   "outputs": [],
   "source": [
    "# 2、读取文章特征中心特征，并与用户特征进行合并，构造要推荐文章的样本\n",
    "# 一篇文章：1个channel_id + 100个文章向量article_vector + 10个文章关键词权重article_keywords_weights = 111个特征向量\n",
    "test = []\n",
    "for article_id in [120525]: # , 120515, 120498, 120493  # 注意：18号频道文章没找到，只能随便找几个测试下\n",
    "    \n",
    "    try:\n",
    "        article_feature = eval(hbu.get_table_row('ctr_feature_article', \n",
    "                                                 '{}'.format(article_id).encode(), \n",
    "                                                 'article:{}'.format(article_id).encode()))\n",
    "    except Exception as e:\n",
    "        article_feature = [0.0] * 111\n",
    "    \n",
    "    # 拼接用户特征与文章特征到样本（要与 ctr_lr.ipynb 中 训练 逻辑回归模型 时 特征向量 组装顺序相同）\n",
    "    # 频道id + 文章100向量 + 用户权重10 + 文章权重10 = 121个特征\n",
    "    f = []\n",
    "    # 频道id\n",
    "    f.extend([article_feature[0]])\n",
    "    # word2vec文章100向量\n",
    "    f.extend(article_feature[1:101])\n",
    "    # 文章关键词权重10个\n",
    "    f.extend(article_feature[101:111])\n",
    "    # 用户权重10\n",
    "    f.extend(user_feature)\n",
    "    \n",
    "    test.append([33, article_id, DenseVector(f)])"
   ]
  },
  {
   "cell_type": "code",
   "execution_count": 68,
   "metadata": {},
   "outputs": [
    {
     "name": "stdout",
     "output_type": "stream",
     "text": [
      "<class 'list'> 121\n"
     ]
    },
    {
     "data": {
      "text/plain": [
       "[[33,\n",
       "  120525,\n",
       "  DenseVector([22.0, -0.3254, -0.083, 0.0585, 0.3456, -0.0604, -0.2562, 0.3767, 0.0773, 0.2099, 0.3508, -0.016, 0.2479, -0.1341, -0.1823, -0.1416, -0.2086, -0.0011, 0.1719, -0.0566, 0.0193, -0.2352, 0.2772, 0.0122, 0.3425, 0.0205, -0.0065, -0.04, -0.0253, 0.083, -0.1035, -0.118, -0.0131, -0.0819, -0.0906, 0.3652, -0.1124, 0.1833, 0.4821, 0.0571, 0.4447, -0.1101, -0.0638, 0.0492, -0.1217, -0.2296, 0.1548, 0.2595, 0.1504, -0.1048, -0.068, 0.2764, -0.0358, -0.0022, -0.1666, 0.076, 0.2186, -0.2467, -0.0323, -0.0544, 0.1804, -0.3873, 0.0085, -0.036, 0.1974, 0.2065, 0.2537, -0.0729, -0.0135, 0.0011, -0.1645, -0.2535, -0.284, -0.1058, -0.0702, -0.2759, 0.0555, 0.1497, -0.0795, 0.0417, 0.0638, 0.1606, 0.1065, -0.0353, -0.1263, -0.0257, 0.1712, 0.3349, 0.1389, 0.0624, 0.1755, -0.1383, -0.2291, -0.1337, -0.0424, -0.0045, -0.1492, -0.1727, 0.0616, 0.2979, 0.2006, 0.3806, 0.6445, 0.9245, 1.0686, 1.098, 1.1746, 1.3164, 1.353, 1.4306, 1.6829, 0.1472, 0.1472, 0.1472, 0.1472, 0.1472, 0.1472, 0.1472, 0.1472, 0.1472, 0.1472])]]"
      ]
     },
     "execution_count": 68,
     "metadata": {},
     "output_type": "execute_result"
    }
   ],
   "source": [
    "print(type(test), len(test[0][2]))\n",
    "test"
   ]
  },
  {
   "cell_type": "code",
   "execution_count": 69,
   "metadata": {},
   "outputs": [
    {
     "name": "stdout",
     "output_type": "stream",
     "text": [
      "<class 'pandas.core.frame.DataFrame'>\n",
      "   user_id  article_id                                           features\n",
      "0       33      120525  [22.0, -0.32539339357570984, -0.08300630002486...\n"
     ]
    }
   ],
   "source": [
    "# 3、处理样本格式，模型加载预测\n",
    "test = pd.DataFrame(test, columns=['user_id', 'article_id', 'features'])\n",
    "print(type(test))\n",
    "print(test)"
   ]
  },
  {
   "cell_type": "code",
   "execution_count": 66,
   "metadata": {},
   "outputs": [
    {
     "name": "stdout",
     "output_type": "stream",
     "text": [
      "<class 'pyspark.sql.dataframe.DataFrame'>\n",
      "DataFrame[user_id: bigint, article_id: bigint, features: vector]\n",
      "+-------+----------+--------------------+\n",
      "|user_id|article_id|            features|\n",
      "+-------+----------+--------------------+\n",
      "|     33|    120525|[22.0,-0.32539339...|\n",
      "+-------+----------+--------------------+\n",
      "\n"
     ]
    }
   ],
   "source": [
    "df = spark.createDataFrame(test)\n",
    "print(type(df))\n",
    "print(df)\n",
    "df.show()"
   ]
  },
  {
   "cell_type": "code",
   "execution_count": 18,
   "metadata": {},
   "outputs": [],
   "source": [
    "# 加载模型（没有模型，之前在ctr_lr.ipynb中训练的模型报错）\n",
    "model = LogisticRegressionModel.load(\"hdfs://hadoop-master:9000/headlines/models/logistic_ctr_model.obj\")"
   ]
  },
  {
   "cell_type": "code",
   "execution_count": 19,
   "metadata": {},
   "outputs": [],
   "source": [
    "result = model.transform(df)"
   ]
  },
  {
   "cell_type": "code",
   "execution_count": 21,
   "metadata": {},
   "outputs": [],
   "source": [
    "# probability列表：probability[0]不点击概率，probability[1]点击概率\n",
    "result = result.select(['article_id', 'probability'])"
   ]
  },
  {
   "cell_type": "code",
   "execution_count": 22,
   "metadata": {},
   "outputs": [
    {
     "name": "stdout",
     "output_type": "stream",
     "text": [
      "+----------+--------------------+\n",
      "|article_id|         probability|\n",
      "+----------+--------------------+\n",
      "|     17749|[0.95179114899981...|\n",
      "|     17748|[0.95284085860628...|\n",
      "|     44371|[0.96592940569392...|\n",
      "|     44368|[0.93539908172498...|\n",
      "+----------+--------------------+\n",
      "\n"
     ]
    }
   ],
   "source": [
    "result.show()"
   ]
  },
  {
   "cell_type": "code",
   "execution_count": 23,
   "metadata": {},
   "outputs": [],
   "source": [
    "def get_click_probability(row):\n",
    "    return int(row.article_id), float(row.probability[1]) # probability[1]点击概率\n",
    "\n",
    "result = result.rdd.map(get_click_probability).toDF(['article_id', 'probability']).sort('probability', ascending=False)"
   ]
  },
  {
   "cell_type": "code",
   "execution_count": 24,
   "metadata": {},
   "outputs": [
    {
     "name": "stdout",
     "output_type": "stream",
     "text": [
      "+----------+-------------------+\n",
      "|article_id|        probability|\n",
      "+----------+-------------------+\n",
      "|     44368|0.06460091827501452|\n",
      "|     17749|0.04820885100018185|\n",
      "|     17748|0.04715914139371872|\n",
      "|     44371|0.03407059430607292|\n",
      "+----------+-------------------+\n",
      "\n"
     ]
    }
   ],
   "source": [
    "result.show()"
   ]
  }
 ],
 "metadata": {
  "kernelspec": {
   "display_name": "Python 3",
   "language": "python",
   "name": "python3"
  },
  "language_info": {
   "codemirror_mode": {
    "name": "ipython",
    "version": 3
   },
   "file_extension": ".py",
   "mimetype": "text/x-python",
   "name": "python",
   "nbconvert_exporter": "python",
   "pygments_lexer": "ipython3",
   "version": "3.6.5"
  }
 },
 "nbformat": 4,
 "nbformat_minor": 2
}
